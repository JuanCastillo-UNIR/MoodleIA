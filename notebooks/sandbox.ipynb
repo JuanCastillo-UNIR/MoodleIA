{
 "cells": [
  {
   "cell_type": "code",
   "execution_count": null,
   "metadata": {},
   "outputs": [],
   "source": [
    "import requests  \n",
    "  \n",
    "# Define la URL de la API  \n",
    "url = \"https://sandbox.moodledemo.net/webservice/rest/server.php\"  \n",
    "  \n",
    "# Parámetros de la API  \n",
    "params = {  \n",
    "    'wstoken': 'a565970475eaf65cce7d72ec5b436743',  \n",
    "    'wsfunction': 'mod_forum_get_discussion_posts',  \n",
    "    'moodlewsrestformat': 'json',  \n",
    "    'discussionid': 1  # Asegúrate de reemplazar '1' con el ID de discusión real que necesitas consultar  \n",
    "}  \n",
    "  \n",
    "# Realiza la llamada a la API  \n",
    "response = requests.get(url, params=params)  \n",
    "  \n",
    "# Imprime la respuesta en formato JSON  \n",
    "response.json()"
   ]
  }
 ],
 "metadata": {
  "language_info": {
   "name": "python"
  }
 },
 "nbformat": 4,
 "nbformat_minor": 2
}
