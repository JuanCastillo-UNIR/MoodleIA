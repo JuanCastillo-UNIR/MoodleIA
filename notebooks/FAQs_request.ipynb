{
 "cells": [
  {
   "cell_type": "code",
   "execution_count": 2,
   "metadata": {},
   "outputs": [],
   "source": [
    "import os\n",
    "os.chdir('../src')\n",
    "\n",
    "from api.workflows.FAQs.faqs_extract import FAQsExtract\n",
    "faqs = FAQsExtract()"
   ]
  },
  {
   "cell_type": "code",
   "execution_count": 7,
   "metadata": {},
   "outputs": [
    {
     "data": {
      "text/html": [
       "**11. ¿Cómo descargar mi certificado?**<div><p><strong>El certificado no se envía</strong>, así que es mejor no esperarlo. Hay que tener en cuenta:</p><ul><li>El certificado se descarga, pero sólo cuando se han terminado todos los módulos y actividades del curso.</li><li>Al acabar el último módulo, verás que tienes acceso a otro que solo se utiliza para realizar una encuesta y descargar el certificado.</li></ul><p>Recuerda que debes descargarlo antes de la fecha de cierre del curso. Después habrá que solicitarlo en <a href=\"https://becat.online/FAQ/mailto:info@becat.online\">info@becat.online</a> realizando un donativo de 5$ en concepto de gastos de gestión.</p><p class=\"centrar\"><img alt=\"certificado\" class=\"responsive\" src=\"https://becat.online/FAQ/img/01-certificado.png\"/></p></div>\n",
       "\n",
       "**7. ¿Cómo comprobar si estoy inscrito en un curso o si me fue concedida la beca?**<div><p>Cada alumno puede comprobar en la sección de <strong><em>“Cursos Disponibles”</em></strong> si se completó correctamente la inscripción en un curso o cuál es el estado de la solicitud de beca.</p><p class=\"centrar\"><img alt=\"Estado de inscripción o beca\" class=\"responsive\" src=\"https://becat.online/FAQ/img/IMAGEN 14.png\"/></p></div>"
      ],
      "text/plain": [
       "<IPython.core.display.HTML object>"
      ]
     },
     "execution_count": 7,
     "metadata": {},
     "output_type": "execute_result"
    }
   ],
   "source": [
    "import requests\n",
    "\n",
    "route = 'FAQs/IA_FAQs'\n",
    "result = requests.post(\n",
    "    url = f\"http://127.0.0.1:8000/{route}\",\n",
    "    json={\n",
    "        \"pregunta\": \"ccertificado\",\n",
    "        \"FAQs\":faqs.FAQs  \n",
    "    }\n",
    ")\n",
    "\n",
    "from IPython.display import HTML\n",
    "HTML(result.json())"
   ]
  }
 ],
 "metadata": {
  "kernelspec": {
   "display_name": ".venv",
   "language": "python",
   "name": "python3"
  },
  "language_info": {
   "codemirror_mode": {
    "name": "ipython",
    "version": 3
   },
   "file_extension": ".py",
   "mimetype": "text/x-python",
   "name": "python",
   "nbconvert_exporter": "python",
   "pygments_lexer": "ipython3",
   "version": "3.11.0"
  }
 },
 "nbformat": 4,
 "nbformat_minor": 2
}
