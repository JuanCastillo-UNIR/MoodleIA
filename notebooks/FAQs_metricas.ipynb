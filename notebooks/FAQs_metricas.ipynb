{
 "cells": [
  {
   "cell_type": "code",
   "execution_count": 1,
   "metadata": {},
   "outputs": [
    {
     "data": {
      "text/plain": [
       "'<h2>0. Procura formular tu pregunta con mayor precisión.</h2><div><p>Para ayudarte es importante que formules la pregunta con precisión. ¿Cuál es tu problema? ¿En qué podemos ayudarte? ¿Necesitas ayuda en el proceso de inscripción a un curso? ¿No puedes visualizar correctamente el curso en el que estás matriculado? ¿Has olvidado tu contraseña para acceder a la plataforma? <strong>Intenta formular mejor la pregunta</strong>. Si no encuentras respuesta a tu problema contacta con tu tutor o escribe a <a href=\"https://becat.online/FAQ/mailto:info@becat.online\">info@becat.online</a>.</p><p class=\"centrar\"><img alt=\"pregunta\" class=\"responsive\" src=\"https://becat.online/FAQ/img/preguntar.jpg\"/></p></div><h2>1. ¿Cómo registrarme en la plataforma?</h2><div><p>El siguiente vídeo resume paso por paso todo el proceso para registrarse en la plataforma:</p><p class=\"centrar\"><div style=\"padding:56.25% 0 0 0;position:relative;\"><iframe allow=\"autoplay; fullscreen; picture-in-picture; clipboard-write\" frameborder=\"0\" src=\"https://player.vimeo.com/video/910397583?badge=0&amp;autopause=0&amp;player_id=0&amp;app_id=58479\" style=\"position:absolute;top:0;left:0;width:100%;height:100%;\" title=\"1. Registro en la plataforma\"></iframe></div><script src=\"https://player.vimeo.com/api/player.js\"></script></p><p>Para iniciar directamente el proceso de registro puedes hacer clic en el siguiente enlace: <a href=\"https://aula.becat.online/DSMod/interfaz/control_validar_email/\">https://aula.becat.online/DSMod/interfaz/control_validar_email/</a>.</p><p>Repasemos los pasos a seguir:</p><ol>\\n<li><strong>Introduce un correo electrónico para verificarlo</strong>. Introdúcelo con cuidado de no equivocarte. Si ya estás registrado en la plataforma con ese correo no podrás seguir el proceso y la plataforma te lo indicará.</li>\\n<li>Busca en tu correo electrónico <strong>el mensaje con el enlace para confirmar tu correo</strong>.</li>\\n<li>Rellena tus <strong>datos personales</strong>.</li>\\n<li>Revisa en tu correo la contraseña asignada.</li>\\n<li>Ingresa por primera vez en la plataforma <strong>cambia la contraseña</strong> por una nueva.</li>\\n<li>Ya dentro de la plataforma puedes inscribirte en el curso disponible haciendo clic en \"Cursos Disponibles\".</li>\\n</ol></div><h2>2. ¿Cómo ingresar a la plataforma con mi usuario y contraseña?</h2><div><p>En la parte superior derecha de la pantalla aparecen dos campos que debes rellenar. Asegúrate en primer lugar que introduces bien los datos:</p><ul>\\n<li><strong>Nombre de usuario:</strong> tu correo electrónico. En el ejemplo es \"lidianarpaz@yahoo.com\": sería un error poner un espacio más \"lidianarpaz@yahoo.com \" al final o en medio o empezar con mayúscula.</li>\\n<li><strong>Contraseña:</strong> si no fuiste tú quien eligió la contraseña seguramente será la primera parte de tu correo electrónico previa a la @. En el ejemplo es \"lidianarpaz\". RECUERDA: sería un error escribir un espacio más antes o después o incluir una mayúscula. A veces es mejor copiar y pegar la contraseña. Si la contraseña la elegiste tú sigue las mismas indicaciones en lo que se refiere a evitar espacios en blanco.</li>\\n</ul><p class=\"centrar\"><img alt=\"Campos de ingreso\" class=\"responsive\" src=\"https://becat.online/FAQ/img/IMAGEN 3.png\"/></p></div><h2>3. ¿Qué hacer si he olvidado mi usuario y contraseña?</h2><div><p>El sistema más sencillo de recuperar la contraseña (es preciso elegir una nueva) es el que se muestra en la imagen.</p><p class=\"centrar\"><img alt=\"Recuperación de contraseña\" class=\"responsive\" src=\"https://becat.online/FAQ/img/IMAGEN 1.jpg\"/></p><p>Recibirás un correo como el siguiente que permitirá reconfigurar la contraseña.</p><p class=\"centrar\"><img alt=\"Correo de reconfiguración de contraseña\" class=\"responsive\" src=\"https://becat.online/FAQ/img/IMAGEN 2.jpg\"/></p><p>Si el problema es que no sabes tu nombre de usuario debes ponerte en contacto o con tu tutor o con Soporte Técnico en <a href=\"https://becat.online/FAQ/mailto:info@becat.online\">info@becat.online</a>. Indica tu nombre, tus apellidos, tu país y municipio y con esos datos en la mayoría de los casos se puede localizar.</p></div><h2>4. ¿Cómo inscribirme en un curso?</h2><div><p>El siguiente vídeo resume paso por paso todo el proceso para inscribirte en un curso:</p><p class=\"centrar\"><div style=\"padding:56.25% 0 0 0;position:relative;\"><iframe allow=\"autoplay; fullscreen; picture-in-picture; clipboard-write\" frameborder=\"0\" src=\"https://player.vimeo.com/video/870293582?badge=0&amp;autopause=0&amp;player_id=0&amp;app_id=58479\" style=\"position:absolute;top:0;left:0;width:100%;height:100%;\" title=\"2. FAQ:¿Cuál es el proceso para matricularme en los cursos?\"></iframe></div><script src=\"https://player.vimeo.com/api/player.js\"></script></p><p>Ten en cuenta que el vídeo está ligeramente desactualizado y que ahora la sección para matricularse en un curso no se llama “Convocatorias disponibles” sino “Cursos disponibles”.</p><p><em>RECUERDA: se pide un donativo para inscribirse en cualquier curso aunque los alumnos de Latinoamérica pueden solicitar beca.</em></p></div><h2>5. ¿Cuánto cuestan los cursos de BeCaT?</h2><div><ul>\\n<li>Los <strong>alumnos de España, USA y otros países con nivel de ingresos elevado</strong> deben pagar <em>10 EUR/USD</em> por cada curso en el que se matriculan.</li>\\n<li>Los <strong>alumnos de Latinoamérica</strong> deben pagar <em>5 USD</em> aunque se concederá <em>una beca del 100%</em> a aquellos que la soliciten. Sin embargo, perderán esta beca automáticamente si acumulan más de un punto negativo en su currículo (es decir, si finalizan menos cursos de los que no finalizan).</li>\\n</ul><p>En realidad todos los alumnos (también los de España y USA) reciben ayuda económica pues no se les cobra el costo real (en torno a 30 €/persona por curso). Este proyecto no solo carece de ánimo de lucro sino que es claramente deficitario. En este sentido, agradeceremos que todos los que puedan aportar más lo hagan pues es necesario asegurar la viabilidad del plan en el futuro -ahora está cubierto exclusivamente con donativos-.</p><p class=\"centrar\"><img alt=\"donacion\" class=\"responsive\" src=\"https://becat.online/FAQ/img/donacion.jpg\"/></p></div><h2>6. ¿Cómo solicitar beca para un curso?</h2><div><p>El proceso de inscripción es el mismo tanto para los que solicitan beca como para los que no. Si eres un alumno de Latinoamérica (para otros países no está disponible esta opción) verás que se ofrece la opción de “Solicitar beca” (ver imagen inferior). Una vez solicitada, la resolución se hará en los próximos días.</p><p class=\"centrar\"><img alt=\"Opción de solicitar beca\" class=\"responsive\" src=\"https://becat.online/FAQ/img/IMAGEN 17.png\"/></p><p class=\"centrar\"><img alt=\"Resolución de beca\" class=\"responsive\" src=\"https://becat.online/FAQ/img/IMAGEN 18.png\"/></p><p><em>RECUERDA: existe la condición de que debes aprovechar la oportunidad que se te brinda y la obligación de cursar entera la materia en la que te has matriculado. Si no se termina el curso quedará reflejado en el expediente como un punto negativo. En cambio, si se aprovecha la oportunidad se sumará un punto en tu favor. Con dos puntos negativos ya no se puede aplicar para beca.</em></p></div><h2>7. ¿Cómo comprobar si estoy inscrito en un curso o si me fue concedida la beca?</h2><div><p>Cada alumno puede comprobar en la sección de <strong><em>“Cursos Disponibles”</em></strong> si se completó correctamente la inscripción en un curso o cuál es el estado de la solicitud de beca.</p><p class=\"centrar\"><img alt=\"Estado de inscripción o beca\" class=\"responsive\" src=\"https://becat.online/FAQ/img/IMAGEN 14.png\"/></p></div><h2>8. ¿Cuándo empieza y acaba el curso?</h2><div><p>Puedes consultar las fechas de inicio y fin de la convocatoria en la sección de <strong><em>“Cursos Disponibles”</em></strong> o en <strong><em>“Mi historial”</em></strong>.</p><p class=\"centrar\"><img alt=\"Fechas de inicio y fin de curso\" class=\"responsive\" src=\"https://becat.online/FAQ/img/IMAGEN 15.png\"/></p><p>A veces, para dar más tiempo a los rezagados, se extiende algunos días más la fecha de cierre. No obstante, no es bueno confiarse y procura ir haciendo el curso a buen ritmo.</p></div><h2>9. ¿Cómo empezar el curso en el que estoy inscrito? No aparece en la sección de \"Mis Cursos\".</h2><div><p>Después de iniciar sesión serás redirigido automáticamente a la sección \"Mis cursos\" donde deberías ver el curso correspondiente.</p><p class=\"centrar\"><img alt=\"Sección Mis cursos\" class=\"responsive\" src=\"https://becat.online/FAQ/img/IMAGEN 9.png\"/></p><p>Si no lo encuentras sigue estos pasos:</p><ul>\\n<li><strong>Verifica las fechas del curso</strong>: Asegúrate de que estás intentando acceder dentro del periodo válido de inicio y fin del curso. Fuera de este rango de fechas no tendrás acceso.</li>\\n<li><strong>Contacta a tu tutor</strong>: Si has confirmado que estás dentro del periodo correcto y aun así no ves el curso, ponte en contacto con tu tutor. Ten en cuenta que necesitará acceder con tu nombre de usuario y contraseña para verificar el problema. A menudo se trata de un simple despiste.</li>\\n</ul><p><em>Ejemplo típico: Un usuario reporta que no tiene acceso al curso \"Educación afectivo-sexual\". Al acceder con sus datos, el tutor verifica que efectivamente sí tiene acceso al curso</em>.</p></div><h2>10. ¿Cómo participar en los foros de discusión previstos en el curso?</h2><div><p>Para participar en el foro debes hacer clic al botón <em>\"Añadir un nuevo tema de debate\"</em> tal y como se muestra en la imagen. Después aparecerá un campo para escribir tu intervención.</p><p class=\"centrar\"><img alt=\"Foros de discusión\" class=\"responsive\" src=\"https://becat.online/FAQ/img/foro.png\"/></p></div><h2>11. ¿Cómo descargar mi certificado?</h2><div><p><strong>El certificado no se envía</strong>, así que es mejor no esperarlo. Hay que tener en cuenta:</p><ul>\\n<li>El certificado se descarga, pero sólo cuando se han terminado todos los módulos y actividades del curso.</li>\\n<li>Al acabar el último módulo, verás que tienes acceso a otro que solo se utiliza para realizar una encuesta y descargar el certificado.</li>\\n</ul><p>Recuerda que debes descargarlo antes de la fecha de cierre del curso. Después habrá que solicitarlo en <a href=\"https://becat.online/FAQ/mailto:info@becat.online\">info@becat.online</a> realizando un donativo de 5$ en concepto de gastos de gestión.</p><p class=\"centrar\"><img alt=\"certificado\" class=\"responsive\" src=\"https://becat.online/FAQ/img/01-certificado.png\"/></p></div><h2>12. ¿Cómo inscribirme en el plan de estudios para obtener el diploma de la UNIR?</h2><div><p>Haciendo los cursos de BeCaT se puede acceder a dos diplomas diferentes:</p><ul>\\n<li>La inscripción en el <strong>“Curso Universitario en Didáctica de la Catequesis”</strong> la realiza cada alumno “editando su perfil” cambiando el campo “UNIR” -que por defecto está en “No”- a “Sí” y cumplimentando todos los campos obligatorios. Ver imagen inferior. Después cada alumno decidirá si se matricula o no en la convocatoria de cada curso abierto.</li>\\n<li>La inscripción en el título <strong>“Experto Universitario en Didáctica de la Catequesis”</strong> no está contemplada todavía hasta no finalizar los cuatro semestres previos del “Curso Universitario”. No será automática. Requiere disponer de un título universitario anterior y se realizará una selección de los solicitantes dando prioridad a los que están implantando proyectos de catequesis de #BeCaT.</li>\\n</ul><p class=\"centrar\"><img alt=\"Inscripción en la UNIR\" class=\"responsive\" src=\"https://becat.online/FAQ/img/IMAGEN 16.png\"/></p></div><h2>13. ¿Puedo descargar el contenido del curso?</h2><div><p>Bastantes recursos están disponibles y se pueden descargar sin ningún problema. Sin embargo, muchos de los vídeos están sujetos a derechos de autor o son contenidos que no se deben descargar porque solo se pueden entender en el contexto del curso. Ofrecemos \"aulas virtuales\" para aquellas personas e instituciones que quieren usar nuestros recursos para ayudar a otros. Para más información, ponte en contacto con <a href=\"https://becat.online/FAQ/mailto:info@becat.online\">info@becat.online</a> o en el <a href=\"https://becat.online/contacto/\" target=\"_blank\">formulario de contacto</a> de <span style=\"color:red\"><strong>#BeCaT</strong></span>.</p><p class=\"centrar\"><img alt=\"contacta\" class=\"responsive\" src=\"https://becat.online/FAQ/img/contacta.jpg\"/></p></div><h2>14. No se carga el contenido del curso en mi navegador. ¿Qué debo hacer?</h2><div><p>Este es un problema frecuente: ocurre cuando la conexión a Internet es lenta. Las posibles soluciones son:</p><ul>\\n<li>Tener paciencia y esperar 10, 15 segundos ...</li>\\n<li>Acercarse al emisor wifi.</li>\\n<li>Conectarse por cable en lugar de wifi (es mucho más rápido).</li>\\n<li>Tener más paciencia y acceder a Internet en horas de menos congestión.</li>\\n</ul><p class=\"centrar\"><img alt=\"internet\" class=\"responsive\" src=\"https://becat.online/FAQ/img/internet.jpg\"/></p></div><h2>15. No me llegan los correos de #BeCaT</h2><div><p>Por favor, comprueba si se han ido a la carpeta de SPAM o -si utilizas GMAIL- a PROMOCIONES.</p><p class=\"centrar\"><img alt=\"Correos en SPAM o PROMOCIONES\" class=\"responsive\" src=\"https://becat.online/FAQ/img/IMAGEN 8.png\"/></p></div><h2>16. ¿Cuándo sabré que una actividad se considera finalizada?</h2><div><p>Cuando todas sus etiquetas estén marcadas en color verde. Advierte que hay actividades que solo presentan el botón (o la etiqueta) de \"Marcar como hecha\" después de haber finalizado otra actividad. Es el caso siguiente:</p><p class=\"centrar\"><img alt=\"Actividad finalizada\" class=\"responsive\" src=\"https://becat.online/FAQ/img/IMAGEN 4.png\"/></p></div><h2>17. He acabado el módulo y no me permite pasar al siguiente</h2><div><p>Cada vez que se finaliza una actividad el sistema tarda un poco (un par de minutos) en actualizarse y reconocer el avance. Por otro lado, asegúrate que has finalizado realmente cada una de las actividades para acceder al siguiente módulo. Es sencillo despistarse y olvidarse de hacer alguna.</p><p class=\"centrar\"><img alt=\"Actividades finalizadas\" class=\"responsive\" src=\"https://becat.online/FAQ/img/IMAGEN 5.png\"/></p><p>¿Y si el problema persiste? Si has finalizado todas las actividades, has cerrado la sesión y vuelto a acceder, y el problema persiste, ponte en contacto con <a href=\"https://becat.online/FAQ/mailto:info@becat.online\">info@becat.online</a>.</p></div><h2>18. Me he retrasado: ¿es mejor que lo deje?</h2><div><p><strong>Definitivamente no: es mejor que continúes a tu ritmo.</strong> Entendemos que no siempre se dan las circunstancias para avanzar al ritmo marcado (problemas de acceso a Internet, enfermedad, imprevistos, etc.). No es una cuestión de falta de compromiso, sino de obstáculos de la vida real. Si esto ocurre daremos un tiempo extra a los que lo necesiten pero sin posibilidad de contar con tutor y acompañamiento pues es organizativamente imposible.</p><p class=\"centrar\"><img alt=\"no te rindas\" class=\"responsive\" src=\"https://becat.online/FAQ/img/notireslatoalla.webp\"/></p></div><h2>19. ¿Cómo se marca una actividad que contiene explicaciones y preguntas?</h2><div><p>La actividad se marca de forma automática cuando se contestan las preguntas. No se acaba si no se contestan las preguntas correctamente. Si te equivocas tendrás que volver a contestar a las preguntas.</p><p>Cuando llegues al final, verás la calificación obtenida en esa actividad.</p><ul>\\n<li>Si no alcanza la puntuación requerida, hay que \"Intentarlo de nuevo\": <span style=\"color:red;\">[1]</span> en la imagen inferior.</li>\\n<li>Si has superado la prueba, pulsa <span style=\"color:red;\">[2]</span> \"TERMINAR EL TEMA\" y a continuación \"Salir de la actividad\" <span style=\"color:red;\">[3]</span>.</li>\\n<li>Entonces, la actividad se marcará en color verde con la leyenda \"Hecho: Obtener una calificación de 90 o más\".</li>\\n</ul><p class=\"centrar\"><img alt=\"Calificación obtenida\" class=\"responsive\" src=\"https://becat.online/FAQ/img/IMAGEN 6.png\"/></p></div><h2>20. ¿Cómo corregir mis datos: nombre, apellidos, institución ...?</h2><div><p>Los participantes deben corregir sus datos de usuario si detectan algún error. Para hacerlo:</p><ol>\\n<li>Accede al aula con tus datos.</li>\\n<li>Clic en Área personal.</li>\\n<li>Clic en Editar mi perfil.</li>\\n</ol><p class=\"centrar\"><img alt=\"Editar perfil\" class=\"responsive\" src=\"https://becat.online/FAQ/img/IMAGEN 7.jpg\"/></p><p>El formulario se abre en una ventana nueva. Es probable que tus datos necesiten ser completados o corregidos:</p><p class=\"centrar\"><img alt=\"Formulario de perfil\" class=\"responsive\" src=\"https://becat.online/FAQ/img/IMAGEN 20.png\"/></p><ol>\\n<li><strong>El nombre de usuario no se puede cambiar</strong>: es como el pasaporte. Los cambios que bastantes han realizado en el pasado son origen de problemas de identificación.</li>\\n<li><strong>A partir de ahora la contraseña la eliges tú</strong>. No la olvides. Si la pierdes, pídela al sistema y mira si has recibido respuesta en correo SPAM. Apúntala para evitar problemas.</li>\\n<li><strong>El email de contacto sí lo puedes cambiar</strong>. A partir de ahora no tiene nada que ver con el nombre de usuario. Puede coincidir o no.</li>\\n<li>Muchos no tienen «tratamiento» = no sabemos cómo dirigirnos a ellos si son hombre o mujer. Por favor, indícalo.</li>\\n<li><strong>Nombre y apellidos</strong>: si les guardas estima procura que estén correctamente escritos. Un usuario que se llama «munoz martinez» es un descuidado. Debería cambiarlo a «Muñoz Martínez».</li>\\n<li>Al seleccionar el país se configura automáticamente el prefijo telefónico que no hace falta incluir después.</li>\\n<li>El <strong>teléfono</strong>: sólo números sin espacios. Nos interesa el número al que tenga asociado Whatsapp que utilizamos con frecuencia.</li>\\n<li>La <strong>institución</strong> sirve para saber a qué parroquia, colegio, diócesis, oficina, etc. pertenece cada uno para distribuir los grupos.</li>\\n<li><strong>Delegación</strong>: <em>sólo si la conoces. No te la inventes</em>.</li>\\n<li>UNIR: elige «Sí» sólo cuando dispongas de los archivos escaneados que son necesarios. No corre prisa. Pasarán bastantes meses antes de que esta opción tenga un cometido real. Más adelante enviaremos algunas instrucciones sobre este punto.</li>\\n</ol></div><h2>21. No consigo subir una foto a mi perfil de usuario</h2><div><p>Las instrucciones para subir una foto se pueden descargar en PDF <a href=\"https://becat.online/FAQ/img/foto-perfil.pdf\" target=\"_blank\">haciendo clic sobre este enlace</a>. Todo participante debe intentarlo y, si no lo consigue, pedir ayuda; pero no debería conformarse con mantener el icono anónimo que aparece por defecto.</p><p style=\"text-align: center; color:red;\">=== SI LO HAS CONSEGUIDO, <br/>NO ES PRECISO QUE SIGAS LEYENDO ===</p><p>En el aula virtual, todo el mundo debería estar identificado con una foto o, cuando menos, con un avatar. El anonimato es enemigo acérrimo de la formación que pretendemos adquirir. Eso no equivale a que estés obligado / obligada a poner tu foto; pero sí, al menos, un avatar, una caricatura, una mascota, \"algo\" con lo que podamos relacionarte. Incluso hay una web en la que puedes crear tu propio avatar:&amp;nbsp;<a href=\"https://www.creartuavatar.com/\" target=\"_blank\">https://www.creartuavatar.com/</a></p><p>Si no puedes subir la imagen, quizás se deba a que no está en el formato apropiado. Lo mejor es convertirla a <strong>PNG</strong>. Lo puedes hacer aquí: <a href=\"https://imagen.online-convert.com/es/convertir-a-png\" target=\"_blank\">https://imagen.online-convert.com/es/convertir-a-png</a></p><p>Para hacerlo todavía mejor, esa página permite reducir el tamaño de imágenes grandes, pues no se necesitan grandes obras maestras:</p><p style=\"text-align: center; height: auto;\"><img alt=\"\" src=\"https://becat.online/FAQ/img/IMAGEN 10.png\" width=\"500\"/></p><ul>\\n<li><span style=\"color:red;\">[1]</span> Selecciona la imagen que no te funciona bien. Asegúrate de que tiene un tamaño decente: si es muy pequeña, puede no verse nada.</li>\\n<li><span style=\"color:red;\">[2]</span> Cambia el ancho a 300 píxeles.</li>\\n<li><span style=\"color:red;\">[3]</span> La resolución de la imagen, a 72 píxeles por pulgada.</li>\\n<li><span style=\"color:red;\">[4]</span> Haz clic en \"Empezar\" para convertir la imagen.</li>\\n</ul></div><h2>22. Borrar la memoria caché</h2><div><p>1. EN TU ORDENADOR</p><ul>\\n<li>En Google Chrome, toca <img alt=\"puntitos\" height=\"15\" src=\"https://becat.online/FAQ/img/puntitos.png\" width=\"15\"> y luego <b>Borrar datos de navegación</b> (punto 1).</img></li>\\n<li>Para borrar los <b>Archivos e imágenes en caché</b>, selecciona <b>7 días</b> (puntos 2 y 3).</li>\\n<li><b>Borrar datos</b> (punto 4).</li>\\n</ul><p class=\"centrar\"><img alt=\"Memoria caché en ordenador\" class=\"responsive\" src=\"https://becat.online/FAQ/img/chrome-memoria-cache.jpg\"/></p><p>2. EN TU CELULAR / MÓVIL</p><ul>\\n<li>En Google Chrome, toca <img alt=\"puntitos\" height=\"15\" src=\"https://becat.online/FAQ/img/puntitos.png\" width=\"15\"> (punto 1) y luego <b>Borrar datos de navegación</b> (punto 2).</img></li>\\n<li>En <b>Borrar datos de navegación</b>, haz clic en <b>Más opciones</b> (punto 3).</li>\\n<li>Selecciona un tiempo de 7 días y luego selecciona <b>Archivos e imágenes en caché</b> (punto 4).</li>\\n<li>Clic en <b>Borrar datos</b> (punto 5).</li>\\n</ul><p class=\"centrar\"><img alt=\"Memoria caché en móvil\" class=\"responsive\" src=\"https://becat.online/FAQ/img/chrome-memoria-cache-movil.jpg\"/></p></div><h2>23. ¿Cada asignatura (= curso) está reconocida por parte de la UNIR?</h2><div><p><strong>No: la UNIR sólo expedirá el título a los alumnos que hayan completado TODOS los cursos previstos</strong>. El plan de estudios y cada materia han sido aprobados por la autoridad académica pero eso no quiere decir que cada avance reciba una sanción oficial.</p><p>#BeCaT facilita a la UNIR el expediente y los documentos aportados por los que han finalizado (exclusivamente estos casos). Si cumplen los requisitos estipulados recibirán el título del “Curso Universitario en Didáctica de la Catequesis”.</p></div><h2>24. ¿Tengo acceso a mi expediente académico?</h2><div><p>Los alumnos tienen acceso a una sección llamada «Mi historial» donde se reflejan las acciones formativas en las que han participado: tanto las que tienen valor académico como las que no las tienen. Se explica con la siguiente imagen (la información está simplificada):</p><p class=\"centrar\"><img alt=\"Historial académico\" class=\"responsive\" src=\"https://becat.online/FAQ/img/IMAGEN 19.png\"/></p><ol>\\n<li>Área Personal</li>\\n<li>Acceso a «Mi historial».</li>\\n<li>Estas acciones formativas no tienen (por ahora) valor académico. ECTS = 0.</li>\\n<li>Valor académico de cada curso.</li>\\n<li>La columna «Sanción» refleja tanto puntos positivos -obtenidos cuando se finaliza un curso- como negativos -sanción propiamente dicha- cuando no se completa el curso. Las acciones formativas con ECTS = 0 no reciben sanciones ni puntos positivos.</li>\\n<li>La flecha se muestra en los cursos a los que el alumno tiene acceso (están abiertos). Haciendo clic sobre ella irá al curso correspondiente.</li>\\n<li>Suma de puntos positivos y negativos. Un valor inferior a -2 priva automáticamente al alumno de la posibilidad de contar con beca.</li>\\n</ol></div><h2>25. ¿Qué puedo hacer si advierto un error en \"Mi historial\"?</h2><div><p>La sección «Mi historial» se ha puesto en marcha en septiembre de 2023 y todavía estamos en tiempo de prueba. Hemos hecho un gran esfuerzo por recopilar la información de cada participante en el pasado pero no siempre ha sido posible: abundan los errores en nombres de usuario (email), cambios de nombres de usuario (email), duplicidades, etc.</p><p>Rogamos que en este momento no hagas nada: no disponemos de medios para abordar un trabajo de esta dimensión. Más adelante intentaremos poner en marcha un sistema para comprobar cada caso. <strong>Si necesitas tu certificado urgentemente, deberás pagar una tasa de 5€/USD.</strong></p><p>En todo caso, evitemos cargar al equipo con revisiones que son costosas: si se puede, se corregirán los fallos; si no se puede, habrá que repetir algún curso.</p><p>Avisaremos cuando tengamos preparado un sistema de revisión.</p></div><h2>26. Mi actividad no se abre.</h2><div><p>Muy posiblemente la configuración de tu navegador esté bloqueando la apertura de la nueva ventana:</p><p class=\"centrar\"><img alt=\"Ventanas emergentes bloqueadas\" class=\"responsive\" src=\"https://becat.online/FAQ/img/IMAGEN 21.png\"/></p><p>Haz clic en el icono marcado en la imagen. Aparecerá una leyenda preguntando si desea permitir ventanas emergentes provenientes de https://aula.becat.online. Al decir que sí se podrá abrir la ventana.</p></div><h2>27. ¿Aseguran estos cursos que luego pueda ser catequista o impartir clases?</h2><div><p><strong>El título tiene un valor estrictamente académico</strong>. En la Iglesia Católica no existe un camino único ni exclusivo para realizar estos cometidos. Se insiste a los catequistas y profesores que su formación debe ser intensa y completa; pero además se requiere coherencia de vida y discernimiento no sólo por parte del interesado sino por el responsable de la catequesis. Cada diócesis puede tener sus procedimientos propios.</p><p>#BeCaT pretende ayudar a todas las personas que con generosidad se sienten llamadas a entregar parte de su tiempo a los demás en esta labor que es del máximo interés para la familia cristiana, la sociedad y el futuro de la Iglesia.</p><p>Las universidades pueden ofrecer también otros títulos (como son los “Cursos Universitarios” y los “Expertos”) atendiendo a necesidades de colectivos específicos. Los títulos que aquí se ofrecen tienen por supuesto nivel universitario; pero son sencillos, asequibles a todos y compatibles con otras ocupaciones. Proporcionan una formación básica y sistematizada de la que carece la mayor parte de los fieles católicos y que sin embargo debería ser aspiración común e individual de cada uno.</p><p class=\"centrar\"><img alt=\"catequista\" class=\"responsive\" src=\"https://becat.online/FAQ/img/soycatequista.jpeg\"/></p></div>'"
      ]
     },
     "execution_count": 1,
     "metadata": {},
     "output_type": "execute_result"
    }
   ],
   "source": [
    "import os\n",
    "os.chdir('../src')\n",
    "\n",
    "from api.common.dependency_container import DependencyContainer\n",
    "from api.workflows.FAQs.faqs_extract import FAQsExtract\n",
    "DependencyContainer.initialize()\n",
    "faqs = FAQsExtract()\n",
    "faqs.get_faqs()"
   ]
  },
  {
   "cell_type": "code",
   "execution_count": 4,
   "metadata": {},
   "outputs": [
    {
     "data": {
      "text/plain": [
       "'<div><h2><strong>11. ¿Cómo descargar mi certificado?</strong></h2><p><strong>El certificado no se envía</strong>, así que es mejor no esperarlo. Hay que tener en cuenta:</p><ul><li>El certificado se descarga, pero sólo cuando se han terminado todos los módulos y actividades del curso.</li><li>Al acabar el último módulo, verás que tienes acceso a otro que solo se utiliza para realizar una encuesta y descargar el certificado.</li></ul><p>Recuerda que debes descargarlo antes de la fecha de cierre del curso. Después habrá que solicitarlo en <a href=\"https://becat.online/FAQ/mailto:info@becat.online\">info@becat.online</a> realizando un donativo de 5$ en concepto de gastos de gestión.</p><p class=\"centrar\"><img alt=\"certificado\" class=\"responsive\" src=\"https://becat.online/FAQ/img/01-certificado.png\"/></p><h2><strong>7. ¿Cómo comprobar si estoy inscrito en un curso o si me fue concedida la beca?</strong></h2><p>Cada alumno puede comprobar en la sección de <strong><em>“Cursos Disponibles”</em></strong> si se completó correctamente la inscripción en un curso o cuál es el estado de la solicitud de beca.</p><p class=\"centrar\"><img alt=\"Estado de inscripción o beca\" class=\"responsive\" src=\"https://becat.online/FAQ/img/IMAGEN 14.png\"/></p></div>'"
      ]
     },
     "execution_count": 4,
     "metadata": {},
     "output_type": "execute_result"
    }
   ],
   "source": [
    "import requests\n",
    "\n",
    "route = \"FAQs/IA_FAQs\"\n",
    "result = requests.get(\n",
    "    url = f\"http://127.0.0.1:8000//{route}\",\n",
    "    json = {\n",
    "        \"pregunta\": 'certificado',\n",
    "        \"FAQs\": faqs.get_faqs()\n",
    "    },\n",
    ")\n",
    "result.json()"
   ]
  },
  {
   "cell_type": "code",
   "execution_count": 4,
   "metadata": {},
   "outputs": [
    {
     "ename": "ModuleNotFoundError",
     "evalue": "No module named 'pandas'",
     "output_type": "error",
     "traceback": [
      "\u001b[1;31m---------------------------------------------------------------------------\u001b[0m",
      "\u001b[1;31mModuleNotFoundError\u001b[0m                       Traceback (most recent call last)",
      "Cell \u001b[1;32mIn[4], line 3\u001b[0m\n\u001b[0;32m      1\u001b[0m \u001b[38;5;28;01mfrom\u001b[39;00m \u001b[38;5;21;01mapi\u001b[39;00m\u001b[38;5;21;01m.\u001b[39;00m\u001b[38;5;21;01mcommon\u001b[39;00m\u001b[38;5;21;01m.\u001b[39;00m\u001b[38;5;21;01mdependency_container\u001b[39;00m \u001b[38;5;28;01mimport\u001b[39;00m DependencyContainer\n\u001b[0;32m      2\u001b[0m \u001b[38;5;28;01mfrom\u001b[39;00m \u001b[38;5;21;01mtqdm\u001b[39;00m \u001b[38;5;28;01mimport\u001b[39;00m tqdm\n\u001b[1;32m----> 3\u001b[0m \u001b[38;5;28;01mimport\u001b[39;00m \u001b[38;5;21;01mpandas\u001b[39;00m \u001b[38;5;28;01mas\u001b[39;00m \u001b[38;5;21;01mpd\u001b[39;00m\n\u001b[0;32m      4\u001b[0m DependencyContainer\u001b[38;5;241m.\u001b[39minitialize()\n\u001b[0;32m      6\u001b[0m output \u001b[38;5;241m=\u001b[39m []\n",
      "\u001b[1;31mModuleNotFoundError\u001b[0m: No module named 'pandas'"
     ]
    }
   ],
   "source": [
    "from api.common.dependency_container import DependencyContainer\n",
    "from tqdm import tqdm\n",
    "import pandas as pd\n",
    "DependencyContainer.initialize()\n",
    "\n",
    "output = []\n",
    "data = pd.read_excel('docs\\metricas_FAQs.xlsx')\n",
    "DC = DependencyContainer(); DC.initialize()\n",
    "for pregunta in tqdm(data['PREGUNTA FAQ']):\n",
    "    response = DependencyContainer.get_faqs_workflow().execute(pregunta, faqs+faqs_unir)\n",
    "    output.append(response)\n",
    "df = pd.DataFrame()\n",
    "data['Column3'] = output\n",
    "data.to_excel('docs\\categorización nv.xlsx')"
   ]
  },
  {
   "cell_type": "code",
   "execution_count": 3,
   "metadata": {},
   "outputs": [
    {
     "data": {
      "application/vnd.plotly.v1+json": {
       "config": {
        "plotlyServerURL": "https://plot.ly"
       },
       "data": [
        {
         "alignmentgroup": "True",
         "hovertemplate": "variable=count<br>RESPUESTA REAL=%{x}<br>Frecuencia (%)=%{y}<extra></extra>",
         "legendgroup": "count",
         "marker": {
          "color": "#636efa",
          "pattern": {
           "shape": ""
          }
         },
         "name": "count",
         "offsetgroup": "count",
         "orientation": "v",
         "showlegend": true,
         "textposition": "auto",
         "type": "bar",
         "x": [
          "0. No puedo acceder con mis datos de usuario",
          "1. ¿Cómo registrarme en la plataforma?",
          "10. ¿Cómo participar en los foros de discusión previstos en el curso?",
          "11. ¿Cómo descargar mi certificado?",
          "12. ¿Cómo inscribirme en el plan de estudios para obtener el diploma de la UNIR?",
          "13. ¿Puedo descargar el contenido del curso?",
          "15. No me llegan los correos enviados desde #BeCaT",
          "2. ¿Cómo ingresar a la plataforma con mi usuario y contraseña?",
          "3. ¿Qué hacer si he olvidado mi usuario y contraseña?",
          "5. ¿Cuánto cuestan los cursos de BeCaT?",
          "6. ¿Cómo inscribirme en un curso?",
          "7. ¿Cómo comprobar si estoy inscrito en un curso o si me fue concedida la beca?",
          "8. ¿Cuándo empieza y acaba el curso?",
          "9. ¿Cómo comprobar si estoy inscrito en un curso o si me fue concedida la beca?"
         ],
         "xaxis": "x",
         "y": [
          2.1739130434782608,
          4.3478260869565215,
          2.1739130434782608,
          4.3478260869565215,
          2.1739130434782608,
          4.3478260869565215,
          2.1739130434782608,
          4.3478260869565215,
          6.521739130434782,
          2.1739130434782608,
          6.521739130434782,
          50,
          6.521739130434782,
          2.1739130434782608
         ],
         "yaxis": "y"
        }
       ],
       "layout": {
        "barmode": "relative",
        "legend": {
         "title": {
          "text": "variable"
         },
         "tracegroupgap": 0
        },
        "showlegend": false,
        "template": {
         "data": {
          "bar": [
           {
            "error_x": {
             "color": "#2a3f5f"
            },
            "error_y": {
             "color": "#2a3f5f"
            },
            "marker": {
             "line": {
              "color": "white",
              "width": 0.5
             },
             "pattern": {
              "fillmode": "overlay",
              "size": 10,
              "solidity": 0.2
             }
            },
            "type": "bar"
           }
          ],
          "barpolar": [
           {
            "marker": {
             "line": {
              "color": "white",
              "width": 0.5
             },
             "pattern": {
              "fillmode": "overlay",
              "size": 10,
              "solidity": 0.2
             }
            },
            "type": "barpolar"
           }
          ],
          "carpet": [
           {
            "aaxis": {
             "endlinecolor": "#2a3f5f",
             "gridcolor": "#C8D4E3",
             "linecolor": "#C8D4E3",
             "minorgridcolor": "#C8D4E3",
             "startlinecolor": "#2a3f5f"
            },
            "baxis": {
             "endlinecolor": "#2a3f5f",
             "gridcolor": "#C8D4E3",
             "linecolor": "#C8D4E3",
             "minorgridcolor": "#C8D4E3",
             "startlinecolor": "#2a3f5f"
            },
            "type": "carpet"
           }
          ],
          "choropleth": [
           {
            "colorbar": {
             "outlinewidth": 0,
             "ticks": ""
            },
            "type": "choropleth"
           }
          ],
          "contour": [
           {
            "colorbar": {
             "outlinewidth": 0,
             "ticks": ""
            },
            "colorscale": [
             [
              0,
              "#0d0887"
             ],
             [
              0.1111111111111111,
              "#46039f"
             ],
             [
              0.2222222222222222,
              "#7201a8"
             ],
             [
              0.3333333333333333,
              "#9c179e"
             ],
             [
              0.4444444444444444,
              "#bd3786"
             ],
             [
              0.5555555555555556,
              "#d8576b"
             ],
             [
              0.6666666666666666,
              "#ed7953"
             ],
             [
              0.7777777777777778,
              "#fb9f3a"
             ],
             [
              0.8888888888888888,
              "#fdca26"
             ],
             [
              1,
              "#f0f921"
             ]
            ],
            "type": "contour"
           }
          ],
          "contourcarpet": [
           {
            "colorbar": {
             "outlinewidth": 0,
             "ticks": ""
            },
            "type": "contourcarpet"
           }
          ],
          "heatmap": [
           {
            "colorbar": {
             "outlinewidth": 0,
             "ticks": ""
            },
            "colorscale": [
             [
              0,
              "#0d0887"
             ],
             [
              0.1111111111111111,
              "#46039f"
             ],
             [
              0.2222222222222222,
              "#7201a8"
             ],
             [
              0.3333333333333333,
              "#9c179e"
             ],
             [
              0.4444444444444444,
              "#bd3786"
             ],
             [
              0.5555555555555556,
              "#d8576b"
             ],
             [
              0.6666666666666666,
              "#ed7953"
             ],
             [
              0.7777777777777778,
              "#fb9f3a"
             ],
             [
              0.8888888888888888,
              "#fdca26"
             ],
             [
              1,
              "#f0f921"
             ]
            ],
            "type": "heatmap"
           }
          ],
          "heatmapgl": [
           {
            "colorbar": {
             "outlinewidth": 0,
             "ticks": ""
            },
            "colorscale": [
             [
              0,
              "#0d0887"
             ],
             [
              0.1111111111111111,
              "#46039f"
             ],
             [
              0.2222222222222222,
              "#7201a8"
             ],
             [
              0.3333333333333333,
              "#9c179e"
             ],
             [
              0.4444444444444444,
              "#bd3786"
             ],
             [
              0.5555555555555556,
              "#d8576b"
             ],
             [
              0.6666666666666666,
              "#ed7953"
             ],
             [
              0.7777777777777778,
              "#fb9f3a"
             ],
             [
              0.8888888888888888,
              "#fdca26"
             ],
             [
              1,
              "#f0f921"
             ]
            ],
            "type": "heatmapgl"
           }
          ],
          "histogram": [
           {
            "marker": {
             "pattern": {
              "fillmode": "overlay",
              "size": 10,
              "solidity": 0.2
             }
            },
            "type": "histogram"
           }
          ],
          "histogram2d": [
           {
            "colorbar": {
             "outlinewidth": 0,
             "ticks": ""
            },
            "colorscale": [
             [
              0,
              "#0d0887"
             ],
             [
              0.1111111111111111,
              "#46039f"
             ],
             [
              0.2222222222222222,
              "#7201a8"
             ],
             [
              0.3333333333333333,
              "#9c179e"
             ],
             [
              0.4444444444444444,
              "#bd3786"
             ],
             [
              0.5555555555555556,
              "#d8576b"
             ],
             [
              0.6666666666666666,
              "#ed7953"
             ],
             [
              0.7777777777777778,
              "#fb9f3a"
             ],
             [
              0.8888888888888888,
              "#fdca26"
             ],
             [
              1,
              "#f0f921"
             ]
            ],
            "type": "histogram2d"
           }
          ],
          "histogram2dcontour": [
           {
            "colorbar": {
             "outlinewidth": 0,
             "ticks": ""
            },
            "colorscale": [
             [
              0,
              "#0d0887"
             ],
             [
              0.1111111111111111,
              "#46039f"
             ],
             [
              0.2222222222222222,
              "#7201a8"
             ],
             [
              0.3333333333333333,
              "#9c179e"
             ],
             [
              0.4444444444444444,
              "#bd3786"
             ],
             [
              0.5555555555555556,
              "#d8576b"
             ],
             [
              0.6666666666666666,
              "#ed7953"
             ],
             [
              0.7777777777777778,
              "#fb9f3a"
             ],
             [
              0.8888888888888888,
              "#fdca26"
             ],
             [
              1,
              "#f0f921"
             ]
            ],
            "type": "histogram2dcontour"
           }
          ],
          "mesh3d": [
           {
            "colorbar": {
             "outlinewidth": 0,
             "ticks": ""
            },
            "type": "mesh3d"
           }
          ],
          "parcoords": [
           {
            "line": {
             "colorbar": {
              "outlinewidth": 0,
              "ticks": ""
             }
            },
            "type": "parcoords"
           }
          ],
          "pie": [
           {
            "automargin": true,
            "type": "pie"
           }
          ],
          "scatter": [
           {
            "fillpattern": {
             "fillmode": "overlay",
             "size": 10,
             "solidity": 0.2
            },
            "type": "scatter"
           }
          ],
          "scatter3d": [
           {
            "line": {
             "colorbar": {
              "outlinewidth": 0,
              "ticks": ""
             }
            },
            "marker": {
             "colorbar": {
              "outlinewidth": 0,
              "ticks": ""
             }
            },
            "type": "scatter3d"
           }
          ],
          "scattercarpet": [
           {
            "marker": {
             "colorbar": {
              "outlinewidth": 0,
              "ticks": ""
             }
            },
            "type": "scattercarpet"
           }
          ],
          "scattergeo": [
           {
            "marker": {
             "colorbar": {
              "outlinewidth": 0,
              "ticks": ""
             }
            },
            "type": "scattergeo"
           }
          ],
          "scattergl": [
           {
            "marker": {
             "colorbar": {
              "outlinewidth": 0,
              "ticks": ""
             }
            },
            "type": "scattergl"
           }
          ],
          "scattermapbox": [
           {
            "marker": {
             "colorbar": {
              "outlinewidth": 0,
              "ticks": ""
             }
            },
            "type": "scattermapbox"
           }
          ],
          "scatterpolar": [
           {
            "marker": {
             "colorbar": {
              "outlinewidth": 0,
              "ticks": ""
             }
            },
            "type": "scatterpolar"
           }
          ],
          "scatterpolargl": [
           {
            "marker": {
             "colorbar": {
              "outlinewidth": 0,
              "ticks": ""
             }
            },
            "type": "scatterpolargl"
           }
          ],
          "scatterternary": [
           {
            "marker": {
             "colorbar": {
              "outlinewidth": 0,
              "ticks": ""
             }
            },
            "type": "scatterternary"
           }
          ],
          "surface": [
           {
            "colorbar": {
             "outlinewidth": 0,
             "ticks": ""
            },
            "colorscale": [
             [
              0,
              "#0d0887"
             ],
             [
              0.1111111111111111,
              "#46039f"
             ],
             [
              0.2222222222222222,
              "#7201a8"
             ],
             [
              0.3333333333333333,
              "#9c179e"
             ],
             [
              0.4444444444444444,
              "#bd3786"
             ],
             [
              0.5555555555555556,
              "#d8576b"
             ],
             [
              0.6666666666666666,
              "#ed7953"
             ],
             [
              0.7777777777777778,
              "#fb9f3a"
             ],
             [
              0.8888888888888888,
              "#fdca26"
             ],
             [
              1,
              "#f0f921"
             ]
            ],
            "type": "surface"
           }
          ],
          "table": [
           {
            "cells": {
             "fill": {
              "color": "#EBF0F8"
             },
             "line": {
              "color": "white"
             }
            },
            "header": {
             "fill": {
              "color": "#C8D4E3"
             },
             "line": {
              "color": "white"
             }
            },
            "type": "table"
           }
          ]
         },
         "layout": {
          "annotationdefaults": {
           "arrowcolor": "#2a3f5f",
           "arrowhead": 0,
           "arrowwidth": 1
          },
          "autotypenumbers": "strict",
          "coloraxis": {
           "colorbar": {
            "outlinewidth": 0,
            "ticks": ""
           }
          },
          "colorscale": {
           "diverging": [
            [
             0,
             "#8e0152"
            ],
            [
             0.1,
             "#c51b7d"
            ],
            [
             0.2,
             "#de77ae"
            ],
            [
             0.3,
             "#f1b6da"
            ],
            [
             0.4,
             "#fde0ef"
            ],
            [
             0.5,
             "#f7f7f7"
            ],
            [
             0.6,
             "#e6f5d0"
            ],
            [
             0.7,
             "#b8e186"
            ],
            [
             0.8,
             "#7fbc41"
            ],
            [
             0.9,
             "#4d9221"
            ],
            [
             1,
             "#276419"
            ]
           ],
           "sequential": [
            [
             0,
             "#0d0887"
            ],
            [
             0.1111111111111111,
             "#46039f"
            ],
            [
             0.2222222222222222,
             "#7201a8"
            ],
            [
             0.3333333333333333,
             "#9c179e"
            ],
            [
             0.4444444444444444,
             "#bd3786"
            ],
            [
             0.5555555555555556,
             "#d8576b"
            ],
            [
             0.6666666666666666,
             "#ed7953"
            ],
            [
             0.7777777777777778,
             "#fb9f3a"
            ],
            [
             0.8888888888888888,
             "#fdca26"
            ],
            [
             1,
             "#f0f921"
            ]
           ],
           "sequentialminus": [
            [
             0,
             "#0d0887"
            ],
            [
             0.1111111111111111,
             "#46039f"
            ],
            [
             0.2222222222222222,
             "#7201a8"
            ],
            [
             0.3333333333333333,
             "#9c179e"
            ],
            [
             0.4444444444444444,
             "#bd3786"
            ],
            [
             0.5555555555555556,
             "#d8576b"
            ],
            [
             0.6666666666666666,
             "#ed7953"
            ],
            [
             0.7777777777777778,
             "#fb9f3a"
            ],
            [
             0.8888888888888888,
             "#fdca26"
            ],
            [
             1,
             "#f0f921"
            ]
           ]
          },
          "colorway": [
           "#636efa",
           "#EF553B",
           "#00cc96",
           "#ab63fa",
           "#FFA15A",
           "#19d3f3",
           "#FF6692",
           "#B6E880",
           "#FF97FF",
           "#FECB52"
          ],
          "font": {
           "color": "#2a3f5f"
          },
          "geo": {
           "bgcolor": "white",
           "lakecolor": "white",
           "landcolor": "white",
           "showlakes": true,
           "showland": true,
           "subunitcolor": "#C8D4E3"
          },
          "hoverlabel": {
           "align": "left"
          },
          "hovermode": "closest",
          "mapbox": {
           "style": "light"
          },
          "paper_bgcolor": "white",
          "plot_bgcolor": "white",
          "polar": {
           "angularaxis": {
            "gridcolor": "#EBF0F8",
            "linecolor": "#EBF0F8",
            "ticks": ""
           },
           "bgcolor": "white",
           "radialaxis": {
            "gridcolor": "#EBF0F8",
            "linecolor": "#EBF0F8",
            "ticks": ""
           }
          },
          "scene": {
           "xaxis": {
            "backgroundcolor": "white",
            "gridcolor": "#DFE8F3",
            "gridwidth": 2,
            "linecolor": "#EBF0F8",
            "showbackground": true,
            "ticks": "",
            "zerolinecolor": "#EBF0F8"
           },
           "yaxis": {
            "backgroundcolor": "white",
            "gridcolor": "#DFE8F3",
            "gridwidth": 2,
            "linecolor": "#EBF0F8",
            "showbackground": true,
            "ticks": "",
            "zerolinecolor": "#EBF0F8"
           },
           "zaxis": {
            "backgroundcolor": "white",
            "gridcolor": "#DFE8F3",
            "gridwidth": 2,
            "linecolor": "#EBF0F8",
            "showbackground": true,
            "ticks": "",
            "zerolinecolor": "#EBF0F8"
           }
          },
          "shapedefaults": {
           "line": {
            "color": "#2a3f5f"
           }
          },
          "ternary": {
           "aaxis": {
            "gridcolor": "#DFE8F3",
            "linecolor": "#A2B1C6",
            "ticks": ""
           },
           "baxis": {
            "gridcolor": "#DFE8F3",
            "linecolor": "#A2B1C6",
            "ticks": ""
           },
           "bgcolor": "white",
           "caxis": {
            "gridcolor": "#DFE8F3",
            "linecolor": "#A2B1C6",
            "ticks": ""
           }
          },
          "title": {
           "x": 0.05
          },
          "xaxis": {
           "automargin": true,
           "gridcolor": "#EBF0F8",
           "linecolor": "#EBF0F8",
           "ticks": "",
           "title": {
            "standoff": 15
           },
           "zerolinecolor": "#EBF0F8",
           "zerolinewidth": 2
          },
          "yaxis": {
           "automargin": true,
           "gridcolor": "#EBF0F8",
           "linecolor": "#EBF0F8",
           "ticks": "",
           "title": {
            "standoff": 15
           },
           "zerolinecolor": "#EBF0F8",
           "zerolinewidth": 2
          }
         }
        },
        "title": {
         "text": "Histograma de Métricas FAQs en Porcentaje"
        },
        "xaxis": {
         "anchor": "y",
         "domain": [
          0,
          1
         ],
         "tickfont": {
          "size": 5
         },
         "title": {
          "text": ""
         }
        },
        "yaxis": {
         "anchor": "x",
         "domain": [
          0,
          1
         ],
         "tickformat": ".0f",
         "title": {
          "text": "Frecuencia (%)"
         }
        }
       }
      }
     },
     "metadata": {},
     "output_type": "display_data"
    }
   ],
   "source": [
    "import pandas as pd  \n",
    "import plotly.express as px  \n",
    "  \n",
    "\n",
    "df = pd.read_excel('docs\\metricas_FAQs.xlsx', index_col=0)  \n",
    "counts = df['RESPUESTA REAL'].value_counts().sort_index()  \n",
    "percentages = (counts / counts.sum()) * 100  \n",
    "fig = px.bar(percentages,  \n",
    "             title='Histograma de Métricas FAQs en Porcentaje',  \n",
    "             labels={'index': 'Valores', 'value': 'Frecuencia (%)'},  \n",
    "             template='plotly_white')  \n",
    "fig.update_layout(  \n",
    "    showlegend=False,  # Ocultar la leyenda  \n",
    "    xaxis_tickfont=dict(size=5),  # Reducir el tamaño de los ticks del eje X  \n",
    "    xaxis_title=\"\",  # Eliminar el título del eje X  \n",
    "    yaxis=dict(  \n",
    "        tickformat=\".0f\"  # Formato de dos decimales para los porcentajes  \n",
    "    )  \n",
    ")  "
   ]
  },
  {
   "cell_type": "code",
   "execution_count": 7,
   "metadata": {},
   "outputs": [
    {
     "data": {
      "application/vnd.plotly.v1+json": {
       "config": {
        "plotlyServerURL": "https://plot.ly"
       },
       "data": [
        {
         "alignmentgroup": "True",
         "hovertemplate": "variable=proportion<br>metrica=%{x}<br>Frecuencia (%)=%{y}<extra></extra>",
         "legendgroup": "proportion",
         "marker": {
          "color": "#636efa",
          "pattern": {
           "shape": ""
          }
         },
         "name": "proportion",
         "offsetgroup": "proportion",
         "orientation": "v",
         "showlegend": true,
         "textposition": "auto",
         "type": "bar",
         "x": [
          "Bien",
          "Indefinido",
          "Mal",
          "Regular"
         ],
         "xaxis": "x",
         "y": [
          78.26086956521739,
          4.3478260869565215,
          8.695652173913043,
          8.695652173913043
         ],
         "yaxis": "y"
        }
       ],
       "layout": {
        "barmode": "relative",
        "legend": {
         "title": {
          "text": "variable"
         },
         "tracegroupgap": 0
        },
        "showlegend": false,
        "template": {
         "data": {
          "bar": [
           {
            "error_x": {
             "color": "#2a3f5f"
            },
            "error_y": {
             "color": "#2a3f5f"
            },
            "marker": {
             "line": {
              "color": "white",
              "width": 0.5
             },
             "pattern": {
              "fillmode": "overlay",
              "size": 10,
              "solidity": 0.2
             }
            },
            "type": "bar"
           }
          ],
          "barpolar": [
           {
            "marker": {
             "line": {
              "color": "white",
              "width": 0.5
             },
             "pattern": {
              "fillmode": "overlay",
              "size": 10,
              "solidity": 0.2
             }
            },
            "type": "barpolar"
           }
          ],
          "carpet": [
           {
            "aaxis": {
             "endlinecolor": "#2a3f5f",
             "gridcolor": "#C8D4E3",
             "linecolor": "#C8D4E3",
             "minorgridcolor": "#C8D4E3",
             "startlinecolor": "#2a3f5f"
            },
            "baxis": {
             "endlinecolor": "#2a3f5f",
             "gridcolor": "#C8D4E3",
             "linecolor": "#C8D4E3",
             "minorgridcolor": "#C8D4E3",
             "startlinecolor": "#2a3f5f"
            },
            "type": "carpet"
           }
          ],
          "choropleth": [
           {
            "colorbar": {
             "outlinewidth": 0,
             "ticks": ""
            },
            "type": "choropleth"
           }
          ],
          "contour": [
           {
            "colorbar": {
             "outlinewidth": 0,
             "ticks": ""
            },
            "colorscale": [
             [
              0,
              "#0d0887"
             ],
             [
              0.1111111111111111,
              "#46039f"
             ],
             [
              0.2222222222222222,
              "#7201a8"
             ],
             [
              0.3333333333333333,
              "#9c179e"
             ],
             [
              0.4444444444444444,
              "#bd3786"
             ],
             [
              0.5555555555555556,
              "#d8576b"
             ],
             [
              0.6666666666666666,
              "#ed7953"
             ],
             [
              0.7777777777777778,
              "#fb9f3a"
             ],
             [
              0.8888888888888888,
              "#fdca26"
             ],
             [
              1,
              "#f0f921"
             ]
            ],
            "type": "contour"
           }
          ],
          "contourcarpet": [
           {
            "colorbar": {
             "outlinewidth": 0,
             "ticks": ""
            },
            "type": "contourcarpet"
           }
          ],
          "heatmap": [
           {
            "colorbar": {
             "outlinewidth": 0,
             "ticks": ""
            },
            "colorscale": [
             [
              0,
              "#0d0887"
             ],
             [
              0.1111111111111111,
              "#46039f"
             ],
             [
              0.2222222222222222,
              "#7201a8"
             ],
             [
              0.3333333333333333,
              "#9c179e"
             ],
             [
              0.4444444444444444,
              "#bd3786"
             ],
             [
              0.5555555555555556,
              "#d8576b"
             ],
             [
              0.6666666666666666,
              "#ed7953"
             ],
             [
              0.7777777777777778,
              "#fb9f3a"
             ],
             [
              0.8888888888888888,
              "#fdca26"
             ],
             [
              1,
              "#f0f921"
             ]
            ],
            "type": "heatmap"
           }
          ],
          "heatmapgl": [
           {
            "colorbar": {
             "outlinewidth": 0,
             "ticks": ""
            },
            "colorscale": [
             [
              0,
              "#0d0887"
             ],
             [
              0.1111111111111111,
              "#46039f"
             ],
             [
              0.2222222222222222,
              "#7201a8"
             ],
             [
              0.3333333333333333,
              "#9c179e"
             ],
             [
              0.4444444444444444,
              "#bd3786"
             ],
             [
              0.5555555555555556,
              "#d8576b"
             ],
             [
              0.6666666666666666,
              "#ed7953"
             ],
             [
              0.7777777777777778,
              "#fb9f3a"
             ],
             [
              0.8888888888888888,
              "#fdca26"
             ],
             [
              1,
              "#f0f921"
             ]
            ],
            "type": "heatmapgl"
           }
          ],
          "histogram": [
           {
            "marker": {
             "pattern": {
              "fillmode": "overlay",
              "size": 10,
              "solidity": 0.2
             }
            },
            "type": "histogram"
           }
          ],
          "histogram2d": [
           {
            "colorbar": {
             "outlinewidth": 0,
             "ticks": ""
            },
            "colorscale": [
             [
              0,
              "#0d0887"
             ],
             [
              0.1111111111111111,
              "#46039f"
             ],
             [
              0.2222222222222222,
              "#7201a8"
             ],
             [
              0.3333333333333333,
              "#9c179e"
             ],
             [
              0.4444444444444444,
              "#bd3786"
             ],
             [
              0.5555555555555556,
              "#d8576b"
             ],
             [
              0.6666666666666666,
              "#ed7953"
             ],
             [
              0.7777777777777778,
              "#fb9f3a"
             ],
             [
              0.8888888888888888,
              "#fdca26"
             ],
             [
              1,
              "#f0f921"
             ]
            ],
            "type": "histogram2d"
           }
          ],
          "histogram2dcontour": [
           {
            "colorbar": {
             "outlinewidth": 0,
             "ticks": ""
            },
            "colorscale": [
             [
              0,
              "#0d0887"
             ],
             [
              0.1111111111111111,
              "#46039f"
             ],
             [
              0.2222222222222222,
              "#7201a8"
             ],
             [
              0.3333333333333333,
              "#9c179e"
             ],
             [
              0.4444444444444444,
              "#bd3786"
             ],
             [
              0.5555555555555556,
              "#d8576b"
             ],
             [
              0.6666666666666666,
              "#ed7953"
             ],
             [
              0.7777777777777778,
              "#fb9f3a"
             ],
             [
              0.8888888888888888,
              "#fdca26"
             ],
             [
              1,
              "#f0f921"
             ]
            ],
            "type": "histogram2dcontour"
           }
          ],
          "mesh3d": [
           {
            "colorbar": {
             "outlinewidth": 0,
             "ticks": ""
            },
            "type": "mesh3d"
           }
          ],
          "parcoords": [
           {
            "line": {
             "colorbar": {
              "outlinewidth": 0,
              "ticks": ""
             }
            },
            "type": "parcoords"
           }
          ],
          "pie": [
           {
            "automargin": true,
            "type": "pie"
           }
          ],
          "scatter": [
           {
            "fillpattern": {
             "fillmode": "overlay",
             "size": 10,
             "solidity": 0.2
            },
            "type": "scatter"
           }
          ],
          "scatter3d": [
           {
            "line": {
             "colorbar": {
              "outlinewidth": 0,
              "ticks": ""
             }
            },
            "marker": {
             "colorbar": {
              "outlinewidth": 0,
              "ticks": ""
             }
            },
            "type": "scatter3d"
           }
          ],
          "scattercarpet": [
           {
            "marker": {
             "colorbar": {
              "outlinewidth": 0,
              "ticks": ""
             }
            },
            "type": "scattercarpet"
           }
          ],
          "scattergeo": [
           {
            "marker": {
             "colorbar": {
              "outlinewidth": 0,
              "ticks": ""
             }
            },
            "type": "scattergeo"
           }
          ],
          "scattergl": [
           {
            "marker": {
             "colorbar": {
              "outlinewidth": 0,
              "ticks": ""
             }
            },
            "type": "scattergl"
           }
          ],
          "scattermapbox": [
           {
            "marker": {
             "colorbar": {
              "outlinewidth": 0,
              "ticks": ""
             }
            },
            "type": "scattermapbox"
           }
          ],
          "scatterpolar": [
           {
            "marker": {
             "colorbar": {
              "outlinewidth": 0,
              "ticks": ""
             }
            },
            "type": "scatterpolar"
           }
          ],
          "scatterpolargl": [
           {
            "marker": {
             "colorbar": {
              "outlinewidth": 0,
              "ticks": ""
             }
            },
            "type": "scatterpolargl"
           }
          ],
          "scatterternary": [
           {
            "marker": {
             "colorbar": {
              "outlinewidth": 0,
              "ticks": ""
             }
            },
            "type": "scatterternary"
           }
          ],
          "surface": [
           {
            "colorbar": {
             "outlinewidth": 0,
             "ticks": ""
            },
            "colorscale": [
             [
              0,
              "#0d0887"
             ],
             [
              0.1111111111111111,
              "#46039f"
             ],
             [
              0.2222222222222222,
              "#7201a8"
             ],
             [
              0.3333333333333333,
              "#9c179e"
             ],
             [
              0.4444444444444444,
              "#bd3786"
             ],
             [
              0.5555555555555556,
              "#d8576b"
             ],
             [
              0.6666666666666666,
              "#ed7953"
             ],
             [
              0.7777777777777778,
              "#fb9f3a"
             ],
             [
              0.8888888888888888,
              "#fdca26"
             ],
             [
              1,
              "#f0f921"
             ]
            ],
            "type": "surface"
           }
          ],
          "table": [
           {
            "cells": {
             "fill": {
              "color": "#EBF0F8"
             },
             "line": {
              "color": "white"
             }
            },
            "header": {
             "fill": {
              "color": "#C8D4E3"
             },
             "line": {
              "color": "white"
             }
            },
            "type": "table"
           }
          ]
         },
         "layout": {
          "annotationdefaults": {
           "arrowcolor": "#2a3f5f",
           "arrowhead": 0,
           "arrowwidth": 1
          },
          "autotypenumbers": "strict",
          "coloraxis": {
           "colorbar": {
            "outlinewidth": 0,
            "ticks": ""
           }
          },
          "colorscale": {
           "diverging": [
            [
             0,
             "#8e0152"
            ],
            [
             0.1,
             "#c51b7d"
            ],
            [
             0.2,
             "#de77ae"
            ],
            [
             0.3,
             "#f1b6da"
            ],
            [
             0.4,
             "#fde0ef"
            ],
            [
             0.5,
             "#f7f7f7"
            ],
            [
             0.6,
             "#e6f5d0"
            ],
            [
             0.7,
             "#b8e186"
            ],
            [
             0.8,
             "#7fbc41"
            ],
            [
             0.9,
             "#4d9221"
            ],
            [
             1,
             "#276419"
            ]
           ],
           "sequential": [
            [
             0,
             "#0d0887"
            ],
            [
             0.1111111111111111,
             "#46039f"
            ],
            [
             0.2222222222222222,
             "#7201a8"
            ],
            [
             0.3333333333333333,
             "#9c179e"
            ],
            [
             0.4444444444444444,
             "#bd3786"
            ],
            [
             0.5555555555555556,
             "#d8576b"
            ],
            [
             0.6666666666666666,
             "#ed7953"
            ],
            [
             0.7777777777777778,
             "#fb9f3a"
            ],
            [
             0.8888888888888888,
             "#fdca26"
            ],
            [
             1,
             "#f0f921"
            ]
           ],
           "sequentialminus": [
            [
             0,
             "#0d0887"
            ],
            [
             0.1111111111111111,
             "#46039f"
            ],
            [
             0.2222222222222222,
             "#7201a8"
            ],
            [
             0.3333333333333333,
             "#9c179e"
            ],
            [
             0.4444444444444444,
             "#bd3786"
            ],
            [
             0.5555555555555556,
             "#d8576b"
            ],
            [
             0.6666666666666666,
             "#ed7953"
            ],
            [
             0.7777777777777778,
             "#fb9f3a"
            ],
            [
             0.8888888888888888,
             "#fdca26"
            ],
            [
             1,
             "#f0f921"
            ]
           ]
          },
          "colorway": [
           "#636efa",
           "#EF553B",
           "#00cc96",
           "#ab63fa",
           "#FFA15A",
           "#19d3f3",
           "#FF6692",
           "#B6E880",
           "#FF97FF",
           "#FECB52"
          ],
          "font": {
           "color": "#2a3f5f"
          },
          "geo": {
           "bgcolor": "white",
           "lakecolor": "white",
           "landcolor": "white",
           "showlakes": true,
           "showland": true,
           "subunitcolor": "#C8D4E3"
          },
          "hoverlabel": {
           "align": "left"
          },
          "hovermode": "closest",
          "mapbox": {
           "style": "light"
          },
          "paper_bgcolor": "white",
          "plot_bgcolor": "white",
          "polar": {
           "angularaxis": {
            "gridcolor": "#EBF0F8",
            "linecolor": "#EBF0F8",
            "ticks": ""
           },
           "bgcolor": "white",
           "radialaxis": {
            "gridcolor": "#EBF0F8",
            "linecolor": "#EBF0F8",
            "ticks": ""
           }
          },
          "scene": {
           "xaxis": {
            "backgroundcolor": "white",
            "gridcolor": "#DFE8F3",
            "gridwidth": 2,
            "linecolor": "#EBF0F8",
            "showbackground": true,
            "ticks": "",
            "zerolinecolor": "#EBF0F8"
           },
           "yaxis": {
            "backgroundcolor": "white",
            "gridcolor": "#DFE8F3",
            "gridwidth": 2,
            "linecolor": "#EBF0F8",
            "showbackground": true,
            "ticks": "",
            "zerolinecolor": "#EBF0F8"
           },
           "zaxis": {
            "backgroundcolor": "white",
            "gridcolor": "#DFE8F3",
            "gridwidth": 2,
            "linecolor": "#EBF0F8",
            "showbackground": true,
            "ticks": "",
            "zerolinecolor": "#EBF0F8"
           }
          },
          "shapedefaults": {
           "line": {
            "color": "#2a3f5f"
           }
          },
          "ternary": {
           "aaxis": {
            "gridcolor": "#DFE8F3",
            "linecolor": "#A2B1C6",
            "ticks": ""
           },
           "baxis": {
            "gridcolor": "#DFE8F3",
            "linecolor": "#A2B1C6",
            "ticks": ""
           },
           "bgcolor": "white",
           "caxis": {
            "gridcolor": "#DFE8F3",
            "linecolor": "#A2B1C6",
            "ticks": ""
           }
          },
          "title": {
           "x": 0.05
          },
          "xaxis": {
           "automargin": true,
           "gridcolor": "#EBF0F8",
           "linecolor": "#EBF0F8",
           "ticks": "",
           "title": {
            "standoff": 15
           },
           "zerolinecolor": "#EBF0F8",
           "zerolinewidth": 2
          },
          "yaxis": {
           "automargin": true,
           "gridcolor": "#EBF0F8",
           "linecolor": "#EBF0F8",
           "ticks": "",
           "title": {
            "standoff": 15
           },
           "zerolinecolor": "#EBF0F8",
           "zerolinewidth": 2
          }
         }
        },
        "title": {
         "text": "Histograma de Métricas FAQs en Porcentaje"
        },
        "xaxis": {
         "anchor": "y",
         "domain": [
          0,
          1
         ],
         "tickmode": "array",
         "tickvals": [
          0,
          1,
          2,
          3
         ],
         "title": {
          "text": "metrica"
         }
        },
        "yaxis": {
         "anchor": "x",
         "domain": [
          0,
          1
         ],
         "tickformat": ".0f",
         "title": {
          "text": "Frecuencia (%)"
         }
        }
       }
      }
     },
     "metadata": {},
     "output_type": "display_data"
    }
   ],
   "source": [
    "import plotly.express as px  \n",
    "import pandas as pd\n",
    "\n",
    "df = pd.read_excel('docs\\metricas_FAQs.xlsx', index_col=0).iloc[:,:5]\n",
    "\n",
    "# Calcular las frecuencias relativas en porcentaje  \n",
    "value_counts = df['metrica'].value_counts(normalize=True) * 100  # Esto convierte las cuentas en porcentajes  \n",
    "value_counts = value_counts.sort_index()  # Asegurarse de que los índices estén ordenados para coincidir con las etiquetas personalizadas  \n",
    "  \n",
    "# Crear un gráfico de barras  \n",
    "fig = px.bar(value_counts,  \n",
    "             title='Histograma de Métricas FAQs en Porcentaje',  \n",
    "             labels={'index': 'Valores', 'value': 'Frecuencia (%)'},  \n",
    "             template='plotly_white')  \n",
    "  \n",
    "# Mejorar visualmente el gráfico  \n",
    "fig.update_layout(  \n",
    "    showlegend=False,  # Ocultar la leyenda  \n",
    "    xaxis=dict(  \n",
    "        tickmode='array',  \n",
    "        tickvals=[0, 1, 2, 3]\n",
    "    ),  \n",
    "    yaxis=dict(  \n",
    "        tickformat=\".0f\"  # Formato de dos decimales para los porcentajes  \n",
    "    )  \n",
    ")  \n",
    "fig.show()  "
   ]
  }
 ],
 "metadata": {
  "kernelspec": {
   "display_name": ".venv",
   "language": "python",
   "name": "python3"
  },
  "language_info": {
   "codemirror_mode": {
    "name": "ipython",
    "version": 3
   },
   "file_extension": ".py",
   "mimetype": "text/x-python",
   "name": "python",
   "nbconvert_exporter": "python",
   "pygments_lexer": "ipython3",
   "version": "3.11.0"
  }
 },
 "nbformat": 4,
 "nbformat_minor": 2
}
