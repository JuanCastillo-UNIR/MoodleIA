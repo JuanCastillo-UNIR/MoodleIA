{
 "cells": [
  {
   "cell_type": "code",
   "execution_count": 1,
   "metadata": {},
   "outputs": [
    {
     "data": {
      "text/html": [
       "<div>\n",
       "<style scoped>\n",
       "    .dataframe tbody tr th:only-of-type {\n",
       "        vertical-align: middle;\n",
       "    }\n",
       "\n",
       "    .dataframe tbody tr th {\n",
       "        vertical-align: top;\n",
       "    }\n",
       "\n",
       "    .dataframe thead th {\n",
       "        text-align: right;\n",
       "    }\n",
       "</style>\n",
       "<table border=\"1\" class=\"dataframe\">\n",
       "  <thead>\n",
       "    <tr style=\"text-align: right;\">\n",
       "      <th></th>\n",
       "      <th>Unnamed: 0</th>\n",
       "      <th>PREGUNTA FAQ</th>\n",
       "      <th>RESPUESTA REAL</th>\n",
       "      <th>RESPUESTA IA</th>\n",
       "      <th>metrica</th>\n",
       "    </tr>\n",
       "  </thead>\n",
       "  <tbody>\n",
       "    <tr>\n",
       "      <th>0</th>\n",
       "      <td>0</td>\n",
       "      <td>Buenas tardes don Antonio soy Lugdy Ropero dé ...</td>\n",
       "      <td>1. ¿Cómo registrarme en la plataforma?</td>\n",
       "      <td>&lt;h2&gt;1. ¿Cómo registrarme en la plataforma?&lt;/h2...</td>\n",
       "      <td>Bien</td>\n",
       "    </tr>\n",
       "    <tr>\n",
       "      <th>1</th>\n",
       "      <td>1</td>\n",
       "      <td>Me muestran un plan de estudios de cinco semes...</td>\n",
       "      <td>12. ¿Cómo inscribirme en el plan de estudios p...</td>\n",
       "      <td>&lt;h2&gt;4. ¿Cómo inscribirme en un curso?&lt;/h2&gt;&lt;p&gt;E...</td>\n",
       "      <td>Mal</td>\n",
       "    </tr>\n",
       "    <tr>\n",
       "      <th>2</th>\n",
       "      <td>2</td>\n",
       "      <td>(CAPTURA DE PANTALLA CON MENSAJE \"ESTA CUENTA ...</td>\n",
       "      <td>1. ¿Cómo registrarme en la plataforma?</td>\n",
       "      <td>&lt;h2&gt;1. ¿Cómo registrarme en la plataforma?&lt;/h2...</td>\n",
       "      <td>Bien</td>\n",
       "    </tr>\n",
       "    <tr>\n",
       "      <th>3</th>\n",
       "      <td>3</td>\n",
       "      <td>Ya terminé el curso anterior. No aparece mi ce...</td>\n",
       "      <td>11. ¿Cómo descargar mi certificado?</td>\n",
       "      <td>&lt;h2&gt;11. ¿Cómo descargar mi certificado?&lt;/h2&gt;&lt;p...</td>\n",
       "      <td>Mal</td>\n",
       "    </tr>\n",
       "    <tr>\n",
       "      <th>4</th>\n",
       "      <td>4</td>\n",
       "      <td>Me podrían decir si esto quiere decir que esto...</td>\n",
       "      <td>7. ¿Cómo comprobar si estoy inscrito en un cur...</td>\n",
       "      <td>&lt;h2&gt;7. ¿Cómo comprobar si estoy inscrito en un...</td>\n",
       "      <td>Bien</td>\n",
       "    </tr>\n",
       "    <tr>\n",
       "      <th>5</th>\n",
       "      <td>5</td>\n",
       "      <td>Me inscribí y con beca, pero tengo duda que lo...</td>\n",
       "      <td>7. ¿Cómo comprobar si estoy inscrito en un cur...</td>\n",
       "      <td>&lt;h2&gt;7. ¿Cómo comprobar si estoy inscrito en un...</td>\n",
       "      <td>Bien</td>\n",
       "    </tr>\n",
       "    <tr>\n",
       "      <th>6</th>\n",
       "      <td>6</td>\n",
       "      <td>Buenas noches, si me inscribí, me decía beca c...</td>\n",
       "      <td>7. ¿Cómo comprobar si estoy inscrito en un cur...</td>\n",
       "      <td>&lt;h2&gt;7. ¿Cómo comprobar si estoy inscrito en un...</td>\n",
       "      <td>Bien</td>\n",
       "    </tr>\n",
       "    <tr>\n",
       "      <th>7</th>\n",
       "      <td>7</td>\n",
       "      <td>Buenas tardes, creo que ya estoy inscrita. Ya ...</td>\n",
       "      <td>7. ¿Cómo comprobar si estoy inscrito en un cur...</td>\n",
       "      <td>&lt;h2&gt;7. ¿Cómo comprobar si estoy inscrito en un...</td>\n",
       "      <td>Bien</td>\n",
       "    </tr>\n",
       "    <tr>\n",
       "      <th>8</th>\n",
       "      <td>8</td>\n",
       "      <td>Buen día disculpen a mi lo mismo me dice beca ...</td>\n",
       "      <td>7. ¿Cómo comprobar si estoy inscrito en un cur...</td>\n",
       "      <td>&lt;h2&gt;7. ¿Cómo comprobar si estoy inscrito en un...</td>\n",
       "      <td>Bien</td>\n",
       "    </tr>\n",
       "    <tr>\n",
       "      <th>9</th>\n",
       "      <td>9</td>\n",
       "      <td>Buen día, soy Helga Paola Marroquin, me muestr...</td>\n",
       "      <td>7. ¿Cómo comprobar si estoy inscrito en un cur...</td>\n",
       "      <td>&lt;h2&gt;9. ¿Cómo empezar el curso en el que estoy ...</td>\n",
       "      <td>Bien</td>\n",
       "    </tr>\n",
       "    <tr>\n",
       "      <th>10</th>\n",
       "      <td>10</td>\n",
       "      <td>Muy buenos días yo no recibí ningún correo me ...</td>\n",
       "      <td>15. No me llegan los correos enviados desde #B...</td>\n",
       "      <td>&lt;h2&gt;15. No me llegan los correos de #BeCaT&lt;/h2...</td>\n",
       "      <td>Bien</td>\n",
       "    </tr>\n",
       "    <tr>\n",
       "      <th>11</th>\n",
       "      <td>11</td>\n",
       "      <td>Buenas noches, gracias por los cursos que nos ...</td>\n",
       "      <td>3. ¿Qué hacer si he olvidado mi usuario y cont...</td>\n",
       "      <td>&lt;h2&gt;3. ¿Qué hacer si he olvidado mi usuario y ...</td>\n",
       "      <td>Bien</td>\n",
       "    </tr>\n",
       "    <tr>\n",
       "      <th>12</th>\n",
       "      <td>12</td>\n",
       "      <td>Buenas noches. Les hablo desde Colombia. Tengo...</td>\n",
       "      <td>8. ¿Cuándo empieza y acaba el curso?</td>\n",
       "      <td>&lt;h2&gt;17. He acabado el módulo y no me permite p...</td>\n",
       "      <td>Mal</td>\n",
       "    </tr>\n",
       "    <tr>\n",
       "      <th>13</th>\n",
       "      <td>13</td>\n",
       "      <td>Buenos días,por favor no recuerdo cuál es mi c...</td>\n",
       "      <td>3. ¿Qué hacer si he olvidado mi usuario y cont...</td>\n",
       "      <td>&lt;h2&gt;3. ¿Qué hacer si he olvidado mi usuario y ...</td>\n",
       "      <td>Bien</td>\n",
       "    </tr>\n",
       "    <tr>\n",
       "      <th>14</th>\n",
       "      <td>14</td>\n",
       "      <td>Buen día yo quiero inscribirme pero cuando pon...</td>\n",
       "      <td>7. ¿Cómo comprobar si estoy inscrito en un cur...</td>\n",
       "      <td>&lt;h2&gt;1. ¿Cómo registrarme en la plataforma?&lt;/h2...</td>\n",
       "      <td>Mal</td>\n",
       "    </tr>\n",
       "    <tr>\n",
       "      <th>15</th>\n",
       "      <td>15</td>\n",
       "      <td>Hola buenas tardes. Cómo podría confirmar si e...</td>\n",
       "      <td>7. ¿Cómo comprobar si estoy inscrito en un cur...</td>\n",
       "      <td>&lt;h2&gt;7. ¿Cómo comprobar si estoy inscrito en un...</td>\n",
       "      <td>Bien</td>\n",
       "    </tr>\n",
       "    <tr>\n",
       "      <th>16</th>\n",
       "      <td>16</td>\n",
       "      <td>Buenas noches. Debo realizar mi aporte en el f...</td>\n",
       "      <td>10. ¿Cómo participar en los foros de discusión...</td>\n",
       "      <td>&lt;h2&gt;10. ¿Cómo participar en los foros de discu...</td>\n",
       "      <td>Bien</td>\n",
       "    </tr>\n",
       "    <tr>\n",
       "      <th>17</th>\n",
       "      <td>17</td>\n",
       "      <td>Buenos días, me podría confirmar si estoy insc...</td>\n",
       "      <td>7. ¿Cómo comprobar si estoy inscrito en un cur...</td>\n",
       "      <td>&lt;h2&gt;7. ¿Cómo comprobar si estoy inscrito en un...</td>\n",
       "      <td>Bien</td>\n",
       "    </tr>\n",
       "    <tr>\n",
       "      <th>18</th>\n",
       "      <td>18</td>\n",
       "      <td>¿Cuándo se cierra DSI alguien sabe por favor?</td>\n",
       "      <td>8. ¿Cuándo empieza y acaba el curso?</td>\n",
       "      <td>&lt;h2&gt;8. ¿Cuándo empieza y acaba el curso?&lt;/h2&gt;&lt;...</td>\n",
       "      <td>Bien</td>\n",
       "    </tr>\n",
       "    <tr>\n",
       "      <th>19</th>\n",
       "      <td>19</td>\n",
       "      <td>Buen día perdón no entiendo, cuándo empieza el...</td>\n",
       "      <td>8. ¿Cuándo empieza y acaba el curso?</td>\n",
       "      <td>&lt;h2&gt;8. ¿Cuándo empieza y acaba el curso?&lt;/h2&gt;&lt;...</td>\n",
       "      <td>Bien</td>\n",
       "    </tr>\n",
       "    <tr>\n",
       "      <th>20</th>\n",
       "      <td>20</td>\n",
       "      <td>Me pide un donativo de 5 euros. Eso es asi?</td>\n",
       "      <td>5. ¿Cuánto cuestan los cursos de BeCaT?</td>\n",
       "      <td>&lt;h2&gt;5. ¿Cuánto cuestan los cursos de BeCaT?&lt;/h...</td>\n",
       "      <td>Bien</td>\n",
       "    </tr>\n",
       "    <tr>\n",
       "      <th>21</th>\n",
       "      <td>21</td>\n",
       "      <td>Una vez inscrito... te mandan algún correo par...</td>\n",
       "      <td>9. ¿Cómo comprobar si estoy inscrito en un cur...</td>\n",
       "      <td>&lt;h2&gt;1. ¿Cómo registrarme en la plataforma?&lt;/h2...</td>\n",
       "      <td>Mal</td>\n",
       "    </tr>\n",
       "    <tr>\n",
       "      <th>22</th>\n",
       "      <td>22</td>\n",
       "      <td>Buenos días, si ya terminé un curso pero no me...</td>\n",
       "      <td>11. ¿Cómo descargar mi certificado?</td>\n",
       "      <td>&lt;h2&gt;11. ¿Cómo descargar mi certificado?&lt;/h2&gt;&lt;p...</td>\n",
       "      <td>Bien</td>\n",
       "    </tr>\n",
       "    <tr>\n",
       "      <th>23</th>\n",
       "      <td>23</td>\n",
       "      <td>Buenas noches, una pregunta, ¿a los videos del...</td>\n",
       "      <td>13. ¿Puedo descargar el contenido del curso?</td>\n",
       "      <td>&lt;h2&gt;13. ¿Puedo descargar el contenido del curs...</td>\n",
       "      <td>Bien</td>\n",
       "    </tr>\n",
       "    <tr>\n",
       "      <th>24</th>\n",
       "      <td>24</td>\n",
       "      <td>Buen día alguien puede ayudarme? Necesito sabe...</td>\n",
       "      <td>2. ¿Cómo ingresar a la plataforma con mi usuar...</td>\n",
       "      <td>&lt;h2&gt;2. ¿Cómo ingresar a la plataforma con mi u...</td>\n",
       "      <td>Bien</td>\n",
       "    </tr>\n",
       "    <tr>\n",
       "      <th>25</th>\n",
       "      <td>25</td>\n",
       "      <td>Buenas tardes. Necesito saber si estoy registrada</td>\n",
       "      <td>7. ¿Cómo comprobar si estoy inscrito en un cur...</td>\n",
       "      <td>&lt;h2&gt;7. ¿Cómo comprobar si estoy inscrito en un...</td>\n",
       "      <td>Bien</td>\n",
       "    </tr>\n",
       "    <tr>\n",
       "      <th>26</th>\n",
       "      <td>26</td>\n",
       "      <td>Me puede hacer el favor de informarme si estoy...</td>\n",
       "      <td>7. ¿Cómo comprobar si estoy inscrito en un cur...</td>\n",
       "      <td>&lt;h2&gt;1. ¿Cómo registrarme en la plataforma?&lt;/h2...</td>\n",
       "      <td>Mal</td>\n",
       "    </tr>\n",
       "    <tr>\n",
       "      <th>27</th>\n",
       "      <td>27</td>\n",
       "      <td>Hola to me registre, pero no lo encontré, no s...</td>\n",
       "      <td>6. ¿Cómo inscribirme en un curso?</td>\n",
       "      <td>&lt;h2&gt;4. ¿Cómo inscribirme en un curso?&lt;/h2&gt;&lt;p&gt;E...</td>\n",
       "      <td>Mal</td>\n",
       "    </tr>\n",
       "    <tr>\n",
       "      <th>28</th>\n",
       "      <td>28</td>\n",
       "      <td>Buenas tardes podría comunicarme si fue acepta...</td>\n",
       "      <td>7. ¿Cómo comprobar si estoy inscrito en un cur...</td>\n",
       "      <td>&lt;h2&gt;7. ¿Cómo comprobar si estoy inscrito en un...</td>\n",
       "      <td>Bien</td>\n",
       "    </tr>\n",
       "    <tr>\n",
       "      <th>29</th>\n",
       "      <td>29</td>\n",
       "      <td>Hola ya estoy registrada, y ahora? Pueden pasa...</td>\n",
       "      <td>2. ¿Cómo ingresar a la plataforma con mi usuar...</td>\n",
       "      <td>\\n                        &lt;h2&gt;0. Procura formu...</td>\n",
       "      <td>Mal</td>\n",
       "    </tr>\n",
       "    <tr>\n",
       "      <th>30</th>\n",
       "      <td>30</td>\n",
       "      <td>Hola buenas tardes, Dios continúe bendiciendo ...</td>\n",
       "      <td>7. ¿Cómo comprobar si estoy inscrito en un cur...</td>\n",
       "      <td>&lt;h2&gt;7. ¿Cómo comprobar si estoy inscrito en un...</td>\n",
       "      <td>Bien</td>\n",
       "    </tr>\n",
       "    <tr>\n",
       "      <th>31</th>\n",
       "      <td>31</td>\n",
       "      <td>Yo me anoté, pedí la beca, no sé dónde obtendr...</td>\n",
       "      <td>7. ¿Cómo comprobar si estoy inscrito en un cur...</td>\n",
       "      <td>&lt;h2&gt;7. ¿Cómo comprobar si estoy inscrito en un...</td>\n",
       "      <td>Bien</td>\n",
       "    </tr>\n",
       "    <tr>\n",
       "      <th>32</th>\n",
       "      <td>32</td>\n",
       "      <td>Pues yo acabo de ingresar y me dice que no hay...</td>\n",
       "      <td>6. ¿Cómo inscribirme en un curso?</td>\n",
       "      <td>&lt;h2&gt;9. ¿Cómo empezar el curso en el que estoy ...</td>\n",
       "      <td>Mal</td>\n",
       "    </tr>\n",
       "    <tr>\n",
       "      <th>33</th>\n",
       "      <td>33</td>\n",
       "      <td>Buenas noches no me permite entrar, para termi...</td>\n",
       "      <td>0. No puedo acceder con mis datos de usuario</td>\n",
       "      <td>&lt;h2&gt;2. ¿Cómo ingresar a la plataforma con mi u...</td>\n",
       "      <td>Mal</td>\n",
       "    </tr>\n",
       "    <tr>\n",
       "      <th>34</th>\n",
       "      <td>34</td>\n",
       "      <td>Cómo puedo hacer para saber si ya estoy inscri...</td>\n",
       "      <td>7. ¿Cómo comprobar si estoy inscrito en un cur...</td>\n",
       "      <td>&lt;h2&gt;7. ¿Cómo comprobar si estoy inscrito en un...</td>\n",
       "      <td>Bien</td>\n",
       "    </tr>\n",
       "    <tr>\n",
       "      <th>35</th>\n",
       "      <td>35</td>\n",
       "      <td>Una vez solicitada la beca que ya lo hice, ¿có...</td>\n",
       "      <td>7. ¿Cómo comprobar si estoy inscrito en un cur...</td>\n",
       "      <td>&lt;h2&gt;7. ¿Cómo comprobar si estoy inscrito en un...</td>\n",
       "      <td>Bien</td>\n",
       "    </tr>\n",
       "    <tr>\n",
       "      <th>36</th>\n",
       "      <td>36</td>\n",
       "      <td>Yo también mí nombre es Silvia casado y ya val...</td>\n",
       "      <td>7. ¿Cómo comprobar si estoy inscrito en un cur...</td>\n",
       "      <td>&lt;h2&gt;1. ¿Cómo registrarme en la plataforma?&lt;/h2...</td>\n",
       "      <td>Mal</td>\n",
       "    </tr>\n",
       "    <tr>\n",
       "      <th>37</th>\n",
       "      <td>37</td>\n",
       "      <td>Ya estoy inscrita donde puedo ver a qué grupo....</td>\n",
       "      <td>7. ¿Cómo comprobar si estoy inscrito en un cur...</td>\n",
       "      <td>&lt;h2&gt;7. ¿Cómo comprobar si estoy inscrito en un...</td>\n",
       "      <td>Bien</td>\n",
       "    </tr>\n",
       "    <tr>\n",
       "      <th>38</th>\n",
       "      <td>38</td>\n",
       "      <td>Hola, mi nombre es Gloria, cómo me inscribo?</td>\n",
       "      <td>6. ¿Cómo inscribirme en un curso?</td>\n",
       "      <td>&lt;h2&gt;1. ¿Cómo registrarme en la plataforma?&lt;/h2...</td>\n",
       "      <td>Mal</td>\n",
       "    </tr>\n",
       "    <tr>\n",
       "      <th>39</th>\n",
       "      <td>39</td>\n",
       "      <td>Ya solicité la beca, ¿tengo qué hacer algo más...</td>\n",
       "      <td>7. ¿Cómo comprobar si estoy inscrito en un cur...</td>\n",
       "      <td>&lt;h2&gt;7. ¿Cómo comprobar si estoy inscrito en un...</td>\n",
       "      <td>Bien</td>\n",
       "    </tr>\n",
       "    <tr>\n",
       "      <th>40</th>\n",
       "      <td>40</td>\n",
       "      <td>Yo acabo de crear el correo y validarlo y por ...</td>\n",
       "      <td>7. ¿Cómo comprobar si estoy inscrito en un cur...</td>\n",
       "      <td>&lt;h2&gt;4. ¿Cómo inscribirme en un curso?&lt;/h2&gt;&lt;p&gt;E...</td>\n",
       "      <td>Mal</td>\n",
       "    </tr>\n",
       "    <tr>\n",
       "      <th>41</th>\n",
       "      <td>41</td>\n",
       "      <td>Buenas tardes. Quisiera saber si ya estoy admi...</td>\n",
       "      <td>7. ¿Cómo comprobar si estoy inscrito en un cur...</td>\n",
       "      <td>&lt;h2&gt;7. ¿Cómo comprobar si estoy inscrito en un...</td>\n",
       "      <td>Bien</td>\n",
       "    </tr>\n",
       "    <tr>\n",
       "      <th>42</th>\n",
       "      <td>42</td>\n",
       "      <td>Buenas noches, me inscribí y me quedé solo en ...</td>\n",
       "      <td>7. ¿Cómo comprobar si estoy inscrito en un cur...</td>\n",
       "      <td>&lt;h2&gt;6. ¿Cómo solicitar beca para un curso?&lt;/h2...</td>\n",
       "      <td>Mal</td>\n",
       "    </tr>\n",
       "    <tr>\n",
       "      <th>43</th>\n",
       "      <td>43</td>\n",
       "      <td>Buenos días, ¿ustedes mandan el Usuario y la c...</td>\n",
       "      <td>3. ¿Qué hacer si he olvidado mi usuario y cont...</td>\n",
       "      <td>&lt;h2&gt;1. ¿Cómo registrarme en la plataforma?&lt;/h2...</td>\n",
       "      <td>Mal</td>\n",
       "    </tr>\n",
       "    <tr>\n",
       "      <th>44</th>\n",
       "      <td>44</td>\n",
       "      <td>Buenas tardes, una consulta: 1) el día de ayer...</td>\n",
       "      <td>7. ¿Cómo comprobar si estoy inscrito en un cur...</td>\n",
       "      <td>&lt;h2&gt;9. ¿Cómo empezar el curso en el que estoy ...</td>\n",
       "      <td>Mal</td>\n",
       "    </tr>\n",
       "    <tr>\n",
       "      <th>45</th>\n",
       "      <td>45</td>\n",
       "      <td>Yo tengo una pregunta sobre el curso anterior ...</td>\n",
       "      <td>13. ¿Puedo descargar el contenido del curso?</td>\n",
       "      <td>&lt;h2&gt;13. ¿Puedo descargar el contenido del curs...</td>\n",
       "      <td>Bien</td>\n",
       "    </tr>\n",
       "  </tbody>\n",
       "</table>\n",
       "</div>"
      ],
      "text/plain": [
       "    Unnamed: 0                                       PREGUNTA FAQ  \\\n",
       "0            0  Buenas tardes don Antonio soy Lugdy Ropero dé ...   \n",
       "1            1  Me muestran un plan de estudios de cinco semes...   \n",
       "2            2  (CAPTURA DE PANTALLA CON MENSAJE \"ESTA CUENTA ...   \n",
       "3            3  Ya terminé el curso anterior. No aparece mi ce...   \n",
       "4            4  Me podrían decir si esto quiere decir que esto...   \n",
       "5            5  Me inscribí y con beca, pero tengo duda que lo...   \n",
       "6            6  Buenas noches, si me inscribí, me decía beca c...   \n",
       "7            7  Buenas tardes, creo que ya estoy inscrita. Ya ...   \n",
       "8            8  Buen día disculpen a mi lo mismo me dice beca ...   \n",
       "9            9  Buen día, soy Helga Paola Marroquin, me muestr...   \n",
       "10          10  Muy buenos días yo no recibí ningún correo me ...   \n",
       "11          11  Buenas noches, gracias por los cursos que nos ...   \n",
       "12          12  Buenas noches. Les hablo desde Colombia. Tengo...   \n",
       "13          13  Buenos días,por favor no recuerdo cuál es mi c...   \n",
       "14          14  Buen día yo quiero inscribirme pero cuando pon...   \n",
       "15          15  Hola buenas tardes. Cómo podría confirmar si e...   \n",
       "16          16  Buenas noches. Debo realizar mi aporte en el f...   \n",
       "17          17  Buenos días, me podría confirmar si estoy insc...   \n",
       "18          18      ¿Cuándo se cierra DSI alguien sabe por favor?   \n",
       "19          19  Buen día perdón no entiendo, cuándo empieza el...   \n",
       "20          20        Me pide un donativo de 5 euros. Eso es asi?   \n",
       "21          21  Una vez inscrito... te mandan algún correo par...   \n",
       "22          22  Buenos días, si ya terminé un curso pero no me...   \n",
       "23          23  Buenas noches, una pregunta, ¿a los videos del...   \n",
       "24          24  Buen día alguien puede ayudarme? Necesito sabe...   \n",
       "25          25  Buenas tardes. Necesito saber si estoy registrada   \n",
       "26          26  Me puede hacer el favor de informarme si estoy...   \n",
       "27          27  Hola to me registre, pero no lo encontré, no s...   \n",
       "28          28  Buenas tardes podría comunicarme si fue acepta...   \n",
       "29          29  Hola ya estoy registrada, y ahora? Pueden pasa...   \n",
       "30          30  Hola buenas tardes, Dios continúe bendiciendo ...   \n",
       "31          31  Yo me anoté, pedí la beca, no sé dónde obtendr...   \n",
       "32          32  Pues yo acabo de ingresar y me dice que no hay...   \n",
       "33          33  Buenas noches no me permite entrar, para termi...   \n",
       "34          34  Cómo puedo hacer para saber si ya estoy inscri...   \n",
       "35          35  Una vez solicitada la beca que ya lo hice, ¿có...   \n",
       "36          36  Yo también mí nombre es Silvia casado y ya val...   \n",
       "37          37  Ya estoy inscrita donde puedo ver a qué grupo....   \n",
       "38          38       Hola, mi nombre es Gloria, cómo me inscribo?   \n",
       "39          39  Ya solicité la beca, ¿tengo qué hacer algo más...   \n",
       "40          40  Yo acabo de crear el correo y validarlo y por ...   \n",
       "41          41  Buenas tardes. Quisiera saber si ya estoy admi...   \n",
       "42          42  Buenas noches, me inscribí y me quedé solo en ...   \n",
       "43          43  Buenos días, ¿ustedes mandan el Usuario y la c...   \n",
       "44          44  Buenas tardes, una consulta: 1) el día de ayer...   \n",
       "45          45  Yo tengo una pregunta sobre el curso anterior ...   \n",
       "\n",
       "                                       RESPUESTA REAL  \\\n",
       "0              1. ¿Cómo registrarme en la plataforma?   \n",
       "1   12. ¿Cómo inscribirme en el plan de estudios p...   \n",
       "2              1. ¿Cómo registrarme en la plataforma?   \n",
       "3                 11. ¿Cómo descargar mi certificado?   \n",
       "4   7. ¿Cómo comprobar si estoy inscrito en un cur...   \n",
       "5   7. ¿Cómo comprobar si estoy inscrito en un cur...   \n",
       "6   7. ¿Cómo comprobar si estoy inscrito en un cur...   \n",
       "7   7. ¿Cómo comprobar si estoy inscrito en un cur...   \n",
       "8   7. ¿Cómo comprobar si estoy inscrito en un cur...   \n",
       "9   7. ¿Cómo comprobar si estoy inscrito en un cur...   \n",
       "10  15. No me llegan los correos enviados desde #B...   \n",
       "11  3. ¿Qué hacer si he olvidado mi usuario y cont...   \n",
       "12               8. ¿Cuándo empieza y acaba el curso?   \n",
       "13  3. ¿Qué hacer si he olvidado mi usuario y cont...   \n",
       "14  7. ¿Cómo comprobar si estoy inscrito en un cur...   \n",
       "15  7. ¿Cómo comprobar si estoy inscrito en un cur...   \n",
       "16  10. ¿Cómo participar en los foros de discusión...   \n",
       "17  7. ¿Cómo comprobar si estoy inscrito en un cur...   \n",
       "18               8. ¿Cuándo empieza y acaba el curso?   \n",
       "19               8. ¿Cuándo empieza y acaba el curso?   \n",
       "20            5. ¿Cuánto cuestan los cursos de BeCaT?   \n",
       "21  9. ¿Cómo comprobar si estoy inscrito en un cur...   \n",
       "22                11. ¿Cómo descargar mi certificado?   \n",
       "23       13. ¿Puedo descargar el contenido del curso?   \n",
       "24  2. ¿Cómo ingresar a la plataforma con mi usuar...   \n",
       "25  7. ¿Cómo comprobar si estoy inscrito en un cur...   \n",
       "26  7. ¿Cómo comprobar si estoy inscrito en un cur...   \n",
       "27                  6. ¿Cómo inscribirme en un curso?   \n",
       "28  7. ¿Cómo comprobar si estoy inscrito en un cur...   \n",
       "29  2. ¿Cómo ingresar a la plataforma con mi usuar...   \n",
       "30  7. ¿Cómo comprobar si estoy inscrito en un cur...   \n",
       "31  7. ¿Cómo comprobar si estoy inscrito en un cur...   \n",
       "32                  6. ¿Cómo inscribirme en un curso?   \n",
       "33       0. No puedo acceder con mis datos de usuario   \n",
       "34  7. ¿Cómo comprobar si estoy inscrito en un cur...   \n",
       "35  7. ¿Cómo comprobar si estoy inscrito en un cur...   \n",
       "36  7. ¿Cómo comprobar si estoy inscrito en un cur...   \n",
       "37  7. ¿Cómo comprobar si estoy inscrito en un cur...   \n",
       "38                  6. ¿Cómo inscribirme en un curso?   \n",
       "39  7. ¿Cómo comprobar si estoy inscrito en un cur...   \n",
       "40  7. ¿Cómo comprobar si estoy inscrito en un cur...   \n",
       "41  7. ¿Cómo comprobar si estoy inscrito en un cur...   \n",
       "42  7. ¿Cómo comprobar si estoy inscrito en un cur...   \n",
       "43  3. ¿Qué hacer si he olvidado mi usuario y cont...   \n",
       "44  7. ¿Cómo comprobar si estoy inscrito en un cur...   \n",
       "45       13. ¿Puedo descargar el contenido del curso?   \n",
       "\n",
       "                                         RESPUESTA IA metrica  \n",
       "0   <h2>1. ¿Cómo registrarme en la plataforma?</h2...    Bien  \n",
       "1   <h2>4. ¿Cómo inscribirme en un curso?</h2><p>E...     Mal  \n",
       "2   <h2>1. ¿Cómo registrarme en la plataforma?</h2...    Bien  \n",
       "3   <h2>11. ¿Cómo descargar mi certificado?</h2><p...     Mal  \n",
       "4   <h2>7. ¿Cómo comprobar si estoy inscrito en un...    Bien  \n",
       "5   <h2>7. ¿Cómo comprobar si estoy inscrito en un...    Bien  \n",
       "6   <h2>7. ¿Cómo comprobar si estoy inscrito en un...    Bien  \n",
       "7   <h2>7. ¿Cómo comprobar si estoy inscrito en un...    Bien  \n",
       "8   <h2>7. ¿Cómo comprobar si estoy inscrito en un...    Bien  \n",
       "9   <h2>9. ¿Cómo empezar el curso en el que estoy ...    Bien  \n",
       "10  <h2>15. No me llegan los correos de #BeCaT</h2...    Bien  \n",
       "11  <h2>3. ¿Qué hacer si he olvidado mi usuario y ...    Bien  \n",
       "12  <h2>17. He acabado el módulo y no me permite p...     Mal  \n",
       "13  <h2>3. ¿Qué hacer si he olvidado mi usuario y ...    Bien  \n",
       "14  <h2>1. ¿Cómo registrarme en la plataforma?</h2...     Mal  \n",
       "15  <h2>7. ¿Cómo comprobar si estoy inscrito en un...    Bien  \n",
       "16  <h2>10. ¿Cómo participar en los foros de discu...    Bien  \n",
       "17  <h2>7. ¿Cómo comprobar si estoy inscrito en un...    Bien  \n",
       "18  <h2>8. ¿Cuándo empieza y acaba el curso?</h2><...    Bien  \n",
       "19  <h2>8. ¿Cuándo empieza y acaba el curso?</h2><...    Bien  \n",
       "20  <h2>5. ¿Cuánto cuestan los cursos de BeCaT?</h...    Bien  \n",
       "21  <h2>1. ¿Cómo registrarme en la plataforma?</h2...     Mal  \n",
       "22  <h2>11. ¿Cómo descargar mi certificado?</h2><p...    Bien  \n",
       "23  <h2>13. ¿Puedo descargar el contenido del curs...    Bien  \n",
       "24  <h2>2. ¿Cómo ingresar a la plataforma con mi u...    Bien  \n",
       "25  <h2>7. ¿Cómo comprobar si estoy inscrito en un...    Bien  \n",
       "26  <h2>1. ¿Cómo registrarme en la plataforma?</h2...     Mal  \n",
       "27  <h2>4. ¿Cómo inscribirme en un curso?</h2><p>E...     Mal  \n",
       "28  <h2>7. ¿Cómo comprobar si estoy inscrito en un...    Bien  \n",
       "29  \\n                        <h2>0. Procura formu...     Mal  \n",
       "30  <h2>7. ¿Cómo comprobar si estoy inscrito en un...    Bien  \n",
       "31  <h2>7. ¿Cómo comprobar si estoy inscrito en un...    Bien  \n",
       "32  <h2>9. ¿Cómo empezar el curso en el que estoy ...     Mal  \n",
       "33  <h2>2. ¿Cómo ingresar a la plataforma con mi u...     Mal  \n",
       "34  <h2>7. ¿Cómo comprobar si estoy inscrito en un...    Bien  \n",
       "35  <h2>7. ¿Cómo comprobar si estoy inscrito en un...    Bien  \n",
       "36  <h2>1. ¿Cómo registrarme en la plataforma?</h2...     Mal  \n",
       "37  <h2>7. ¿Cómo comprobar si estoy inscrito en un...    Bien  \n",
       "38  <h2>1. ¿Cómo registrarme en la plataforma?</h2...     Mal  \n",
       "39  <h2>7. ¿Cómo comprobar si estoy inscrito en un...    Bien  \n",
       "40  <h2>4. ¿Cómo inscribirme en un curso?</h2><p>E...     Mal  \n",
       "41  <h2>7. ¿Cómo comprobar si estoy inscrito en un...    Bien  \n",
       "42  <h2>6. ¿Cómo solicitar beca para un curso?</h2...     Mal  \n",
       "43  <h2>1. ¿Cómo registrarme en la plataforma?</h2...     Mal  \n",
       "44  <h2>9. ¿Cómo empezar el curso en el que estoy ...     Mal  \n",
       "45  <h2>13. ¿Puedo descargar el contenido del curs...    Bien  "
      ]
     },
     "execution_count": 1,
     "metadata": {},
     "output_type": "execute_result"
    }
   ],
   "source": [
    "import os\n",
    "os.chdir('..')\n",
    "\n",
    "import pandas as pd\n",
    "data = pd.read_excel('docs\\categorización nv.xlsx')\n",
    "data"
   ]
  },
  {
   "cell_type": "code",
   "execution_count": 2,
   "metadata": {},
   "outputs": [],
   "source": [
    "from src.api.workflows.FAQs.extract_FAQs import obtener_faqs, obtener_faqs_unir\n",
    "faqs = obtener_faqs(); faqs_unir = obtener_faqs_unir()"
   ]
  },
  {
   "cell_type": "code",
   "execution_count": 3,
   "metadata": {},
   "outputs": [
    {
     "name": "stderr",
     "output_type": "stream",
     "text": [
      "100%|██████████| 46/46 [12:24<00:00, 16.19s/it]\n"
     ]
    }
   ],
   "source": [
    "from src.api.common.dependency_container import DependencyContainer\n",
    "from tqdm import tqdm\n",
    "DependencyContainer.initialize()\n",
    "\n",
    "output = []\n",
    "DC = DependencyContainer(); DC.initialize()\n",
    "for pregunta in tqdm(data['PREGUNTA FAQ']):\n",
    "    response = DependencyContainer.get_faqs_workflow().execute(pregunta, faqs+faqs_unir)\n",
    "    output.append(response)\n",
    "\n",
    "import pandas\n",
    "df = pandas.DataFrame()\n",
    "data['Column3'] = output\n",
    "data.to_excel('docs\\categorización nv.xlsx')"
   ]
  },
  {
   "cell_type": "code",
   "execution_count": 2,
   "metadata": {},
   "outputs": [
    {
     "data": {
      "application/vnd.plotly.v1+json": {
       "config": {
        "plotlyServerURL": "https://plot.ly"
       },
       "data": [
        {
         "alignmentgroup": "True",
         "hovertemplate": "variable=count<br>RESPUESTA REAL=%{x}<br>Frecuencia (%)=%{y}<extra></extra>",
         "legendgroup": "count",
         "marker": {
          "color": "#636efa",
          "pattern": {
           "shape": ""
          }
         },
         "name": "count",
         "offsetgroup": "count",
         "orientation": "v",
         "showlegend": true,
         "textposition": "auto",
         "type": "bar",
         "x": [
          "0. No puedo acceder con mis datos de usuario",
          "1. ¿Cómo registrarme en la plataforma?",
          "10. ¿Cómo participar en los foros de discusión previstos en el curso?",
          "11. ¿Cómo descargar mi certificado?",
          "12. ¿Cómo inscribirme en el plan de estudios para obtener el diploma de la UNIR?",
          "13. ¿Puedo descargar el contenido del curso?",
          "15. No me llegan los correos enviados desde #BeCaT",
          "2. ¿Cómo ingresar a la plataforma con mi usuario y contraseña?",
          "3. ¿Qué hacer si he olvidado mi usuario y contraseña?",
          "5. ¿Cuánto cuestan los cursos de BeCaT?",
          "6. ¿Cómo inscribirme en un curso?",
          "7. ¿Cómo comprobar si estoy inscrito en un curso o si me fue concedida la beca?",
          "8. ¿Cuándo empieza y acaba el curso?",
          "9. ¿Cómo comprobar si estoy inscrito en un curso o si me fue concedida la beca?"
         ],
         "xaxis": "x",
         "y": [
          2.1739130434782608,
          4.3478260869565215,
          2.1739130434782608,
          4.3478260869565215,
          2.1739130434782608,
          4.3478260869565215,
          2.1739130434782608,
          4.3478260869565215,
          6.521739130434782,
          2.1739130434782608,
          6.521739130434782,
          50,
          6.521739130434782,
          2.1739130434782608
         ],
         "yaxis": "y"
        }
       ],
       "layout": {
        "barmode": "relative",
        "legend": {
         "title": {
          "text": "variable"
         },
         "tracegroupgap": 0
        },
        "showlegend": false,
        "template": {
         "data": {
          "bar": [
           {
            "error_x": {
             "color": "#2a3f5f"
            },
            "error_y": {
             "color": "#2a3f5f"
            },
            "marker": {
             "line": {
              "color": "white",
              "width": 0.5
             },
             "pattern": {
              "fillmode": "overlay",
              "size": 10,
              "solidity": 0.2
             }
            },
            "type": "bar"
           }
          ],
          "barpolar": [
           {
            "marker": {
             "line": {
              "color": "white",
              "width": 0.5
             },
             "pattern": {
              "fillmode": "overlay",
              "size": 10,
              "solidity": 0.2
             }
            },
            "type": "barpolar"
           }
          ],
          "carpet": [
           {
            "aaxis": {
             "endlinecolor": "#2a3f5f",
             "gridcolor": "#C8D4E3",
             "linecolor": "#C8D4E3",
             "minorgridcolor": "#C8D4E3",
             "startlinecolor": "#2a3f5f"
            },
            "baxis": {
             "endlinecolor": "#2a3f5f",
             "gridcolor": "#C8D4E3",
             "linecolor": "#C8D4E3",
             "minorgridcolor": "#C8D4E3",
             "startlinecolor": "#2a3f5f"
            },
            "type": "carpet"
           }
          ],
          "choropleth": [
           {
            "colorbar": {
             "outlinewidth": 0,
             "ticks": ""
            },
            "type": "choropleth"
           }
          ],
          "contour": [
           {
            "colorbar": {
             "outlinewidth": 0,
             "ticks": ""
            },
            "colorscale": [
             [
              0,
              "#0d0887"
             ],
             [
              0.1111111111111111,
              "#46039f"
             ],
             [
              0.2222222222222222,
              "#7201a8"
             ],
             [
              0.3333333333333333,
              "#9c179e"
             ],
             [
              0.4444444444444444,
              "#bd3786"
             ],
             [
              0.5555555555555556,
              "#d8576b"
             ],
             [
              0.6666666666666666,
              "#ed7953"
             ],
             [
              0.7777777777777778,
              "#fb9f3a"
             ],
             [
              0.8888888888888888,
              "#fdca26"
             ],
             [
              1,
              "#f0f921"
             ]
            ],
            "type": "contour"
           }
          ],
          "contourcarpet": [
           {
            "colorbar": {
             "outlinewidth": 0,
             "ticks": ""
            },
            "type": "contourcarpet"
           }
          ],
          "heatmap": [
           {
            "colorbar": {
             "outlinewidth": 0,
             "ticks": ""
            },
            "colorscale": [
             [
              0,
              "#0d0887"
             ],
             [
              0.1111111111111111,
              "#46039f"
             ],
             [
              0.2222222222222222,
              "#7201a8"
             ],
             [
              0.3333333333333333,
              "#9c179e"
             ],
             [
              0.4444444444444444,
              "#bd3786"
             ],
             [
              0.5555555555555556,
              "#d8576b"
             ],
             [
              0.6666666666666666,
              "#ed7953"
             ],
             [
              0.7777777777777778,
              "#fb9f3a"
             ],
             [
              0.8888888888888888,
              "#fdca26"
             ],
             [
              1,
              "#f0f921"
             ]
            ],
            "type": "heatmap"
           }
          ],
          "heatmapgl": [
           {
            "colorbar": {
             "outlinewidth": 0,
             "ticks": ""
            },
            "colorscale": [
             [
              0,
              "#0d0887"
             ],
             [
              0.1111111111111111,
              "#46039f"
             ],
             [
              0.2222222222222222,
              "#7201a8"
             ],
             [
              0.3333333333333333,
              "#9c179e"
             ],
             [
              0.4444444444444444,
              "#bd3786"
             ],
             [
              0.5555555555555556,
              "#d8576b"
             ],
             [
              0.6666666666666666,
              "#ed7953"
             ],
             [
              0.7777777777777778,
              "#fb9f3a"
             ],
             [
              0.8888888888888888,
              "#fdca26"
             ],
             [
              1,
              "#f0f921"
             ]
            ],
            "type": "heatmapgl"
           }
          ],
          "histogram": [
           {
            "marker": {
             "pattern": {
              "fillmode": "overlay",
              "size": 10,
              "solidity": 0.2
             }
            },
            "type": "histogram"
           }
          ],
          "histogram2d": [
           {
            "colorbar": {
             "outlinewidth": 0,
             "ticks": ""
            },
            "colorscale": [
             [
              0,
              "#0d0887"
             ],
             [
              0.1111111111111111,
              "#46039f"
             ],
             [
              0.2222222222222222,
              "#7201a8"
             ],
             [
              0.3333333333333333,
              "#9c179e"
             ],
             [
              0.4444444444444444,
              "#bd3786"
             ],
             [
              0.5555555555555556,
              "#d8576b"
             ],
             [
              0.6666666666666666,
              "#ed7953"
             ],
             [
              0.7777777777777778,
              "#fb9f3a"
             ],
             [
              0.8888888888888888,
              "#fdca26"
             ],
             [
              1,
              "#f0f921"
             ]
            ],
            "type": "histogram2d"
           }
          ],
          "histogram2dcontour": [
           {
            "colorbar": {
             "outlinewidth": 0,
             "ticks": ""
            },
            "colorscale": [
             [
              0,
              "#0d0887"
             ],
             [
              0.1111111111111111,
              "#46039f"
             ],
             [
              0.2222222222222222,
              "#7201a8"
             ],
             [
              0.3333333333333333,
              "#9c179e"
             ],
             [
              0.4444444444444444,
              "#bd3786"
             ],
             [
              0.5555555555555556,
              "#d8576b"
             ],
             [
              0.6666666666666666,
              "#ed7953"
             ],
             [
              0.7777777777777778,
              "#fb9f3a"
             ],
             [
              0.8888888888888888,
              "#fdca26"
             ],
             [
              1,
              "#f0f921"
             ]
            ],
            "type": "histogram2dcontour"
           }
          ],
          "mesh3d": [
           {
            "colorbar": {
             "outlinewidth": 0,
             "ticks": ""
            },
            "type": "mesh3d"
           }
          ],
          "parcoords": [
           {
            "line": {
             "colorbar": {
              "outlinewidth": 0,
              "ticks": ""
             }
            },
            "type": "parcoords"
           }
          ],
          "pie": [
           {
            "automargin": true,
            "type": "pie"
           }
          ],
          "scatter": [
           {
            "fillpattern": {
             "fillmode": "overlay",
             "size": 10,
             "solidity": 0.2
            },
            "type": "scatter"
           }
          ],
          "scatter3d": [
           {
            "line": {
             "colorbar": {
              "outlinewidth": 0,
              "ticks": ""
             }
            },
            "marker": {
             "colorbar": {
              "outlinewidth": 0,
              "ticks": ""
             }
            },
            "type": "scatter3d"
           }
          ],
          "scattercarpet": [
           {
            "marker": {
             "colorbar": {
              "outlinewidth": 0,
              "ticks": ""
             }
            },
            "type": "scattercarpet"
           }
          ],
          "scattergeo": [
           {
            "marker": {
             "colorbar": {
              "outlinewidth": 0,
              "ticks": ""
             }
            },
            "type": "scattergeo"
           }
          ],
          "scattergl": [
           {
            "marker": {
             "colorbar": {
              "outlinewidth": 0,
              "ticks": ""
             }
            },
            "type": "scattergl"
           }
          ],
          "scattermapbox": [
           {
            "marker": {
             "colorbar": {
              "outlinewidth": 0,
              "ticks": ""
             }
            },
            "type": "scattermapbox"
           }
          ],
          "scatterpolar": [
           {
            "marker": {
             "colorbar": {
              "outlinewidth": 0,
              "ticks": ""
             }
            },
            "type": "scatterpolar"
           }
          ],
          "scatterpolargl": [
           {
            "marker": {
             "colorbar": {
              "outlinewidth": 0,
              "ticks": ""
             }
            },
            "type": "scatterpolargl"
           }
          ],
          "scatterternary": [
           {
            "marker": {
             "colorbar": {
              "outlinewidth": 0,
              "ticks": ""
             }
            },
            "type": "scatterternary"
           }
          ],
          "surface": [
           {
            "colorbar": {
             "outlinewidth": 0,
             "ticks": ""
            },
            "colorscale": [
             [
              0,
              "#0d0887"
             ],
             [
              0.1111111111111111,
              "#46039f"
             ],
             [
              0.2222222222222222,
              "#7201a8"
             ],
             [
              0.3333333333333333,
              "#9c179e"
             ],
             [
              0.4444444444444444,
              "#bd3786"
             ],
             [
              0.5555555555555556,
              "#d8576b"
             ],
             [
              0.6666666666666666,
              "#ed7953"
             ],
             [
              0.7777777777777778,
              "#fb9f3a"
             ],
             [
              0.8888888888888888,
              "#fdca26"
             ],
             [
              1,
              "#f0f921"
             ]
            ],
            "type": "surface"
           }
          ],
          "table": [
           {
            "cells": {
             "fill": {
              "color": "#EBF0F8"
             },
             "line": {
              "color": "white"
             }
            },
            "header": {
             "fill": {
              "color": "#C8D4E3"
             },
             "line": {
              "color": "white"
             }
            },
            "type": "table"
           }
          ]
         },
         "layout": {
          "annotationdefaults": {
           "arrowcolor": "#2a3f5f",
           "arrowhead": 0,
           "arrowwidth": 1
          },
          "autotypenumbers": "strict",
          "coloraxis": {
           "colorbar": {
            "outlinewidth": 0,
            "ticks": ""
           }
          },
          "colorscale": {
           "diverging": [
            [
             0,
             "#8e0152"
            ],
            [
             0.1,
             "#c51b7d"
            ],
            [
             0.2,
             "#de77ae"
            ],
            [
             0.3,
             "#f1b6da"
            ],
            [
             0.4,
             "#fde0ef"
            ],
            [
             0.5,
             "#f7f7f7"
            ],
            [
             0.6,
             "#e6f5d0"
            ],
            [
             0.7,
             "#b8e186"
            ],
            [
             0.8,
             "#7fbc41"
            ],
            [
             0.9,
             "#4d9221"
            ],
            [
             1,
             "#276419"
            ]
           ],
           "sequential": [
            [
             0,
             "#0d0887"
            ],
            [
             0.1111111111111111,
             "#46039f"
            ],
            [
             0.2222222222222222,
             "#7201a8"
            ],
            [
             0.3333333333333333,
             "#9c179e"
            ],
            [
             0.4444444444444444,
             "#bd3786"
            ],
            [
             0.5555555555555556,
             "#d8576b"
            ],
            [
             0.6666666666666666,
             "#ed7953"
            ],
            [
             0.7777777777777778,
             "#fb9f3a"
            ],
            [
             0.8888888888888888,
             "#fdca26"
            ],
            [
             1,
             "#f0f921"
            ]
           ],
           "sequentialminus": [
            [
             0,
             "#0d0887"
            ],
            [
             0.1111111111111111,
             "#46039f"
            ],
            [
             0.2222222222222222,
             "#7201a8"
            ],
            [
             0.3333333333333333,
             "#9c179e"
            ],
            [
             0.4444444444444444,
             "#bd3786"
            ],
            [
             0.5555555555555556,
             "#d8576b"
            ],
            [
             0.6666666666666666,
             "#ed7953"
            ],
            [
             0.7777777777777778,
             "#fb9f3a"
            ],
            [
             0.8888888888888888,
             "#fdca26"
            ],
            [
             1,
             "#f0f921"
            ]
           ]
          },
          "colorway": [
           "#636efa",
           "#EF553B",
           "#00cc96",
           "#ab63fa",
           "#FFA15A",
           "#19d3f3",
           "#FF6692",
           "#B6E880",
           "#FF97FF",
           "#FECB52"
          ],
          "font": {
           "color": "#2a3f5f"
          },
          "geo": {
           "bgcolor": "white",
           "lakecolor": "white",
           "landcolor": "white",
           "showlakes": true,
           "showland": true,
           "subunitcolor": "#C8D4E3"
          },
          "hoverlabel": {
           "align": "left"
          },
          "hovermode": "closest",
          "mapbox": {
           "style": "light"
          },
          "paper_bgcolor": "white",
          "plot_bgcolor": "white",
          "polar": {
           "angularaxis": {
            "gridcolor": "#EBF0F8",
            "linecolor": "#EBF0F8",
            "ticks": ""
           },
           "bgcolor": "white",
           "radialaxis": {
            "gridcolor": "#EBF0F8",
            "linecolor": "#EBF0F8",
            "ticks": ""
           }
          },
          "scene": {
           "xaxis": {
            "backgroundcolor": "white",
            "gridcolor": "#DFE8F3",
            "gridwidth": 2,
            "linecolor": "#EBF0F8",
            "showbackground": true,
            "ticks": "",
            "zerolinecolor": "#EBF0F8"
           },
           "yaxis": {
            "backgroundcolor": "white",
            "gridcolor": "#DFE8F3",
            "gridwidth": 2,
            "linecolor": "#EBF0F8",
            "showbackground": true,
            "ticks": "",
            "zerolinecolor": "#EBF0F8"
           },
           "zaxis": {
            "backgroundcolor": "white",
            "gridcolor": "#DFE8F3",
            "gridwidth": 2,
            "linecolor": "#EBF0F8",
            "showbackground": true,
            "ticks": "",
            "zerolinecolor": "#EBF0F8"
           }
          },
          "shapedefaults": {
           "line": {
            "color": "#2a3f5f"
           }
          },
          "ternary": {
           "aaxis": {
            "gridcolor": "#DFE8F3",
            "linecolor": "#A2B1C6",
            "ticks": ""
           },
           "baxis": {
            "gridcolor": "#DFE8F3",
            "linecolor": "#A2B1C6",
            "ticks": ""
           },
           "bgcolor": "white",
           "caxis": {
            "gridcolor": "#DFE8F3",
            "linecolor": "#A2B1C6",
            "ticks": ""
           }
          },
          "title": {
           "x": 0.05
          },
          "xaxis": {
           "automargin": true,
           "gridcolor": "#EBF0F8",
           "linecolor": "#EBF0F8",
           "ticks": "",
           "title": {
            "standoff": 15
           },
           "zerolinecolor": "#EBF0F8",
           "zerolinewidth": 2
          },
          "yaxis": {
           "automargin": true,
           "gridcolor": "#EBF0F8",
           "linecolor": "#EBF0F8",
           "ticks": "",
           "title": {
            "standoff": 15
           },
           "zerolinecolor": "#EBF0F8",
           "zerolinewidth": 2
          }
         }
        },
        "title": {
         "text": "Histograma de Métricas FAQs en Porcentaje"
        },
        "xaxis": {
         "anchor": "y",
         "domain": [
          0,
          1
         ],
         "tickfont": {
          "size": 5
         },
         "title": {
          "text": ""
         }
        },
        "yaxis": {
         "anchor": "x",
         "domain": [
          0,
          1
         ],
         "tickformat": ".0f",
         "title": {
          "text": "Frecuencia (%)"
         }
        }
       }
      }
     },
     "metadata": {},
     "output_type": "display_data"
    }
   ],
   "source": [
    "import pandas as pd  \n",
    "import plotly.express as px  \n",
    "  \n",
    "# Cargar datos  \n",
    "df = pd.read_excel('docs\\categorización nv.xlsx', index_col=0)  \n",
    "\n",
    "# Calcular las frecuencias relativas en porcentaje  \n",
    "counts = df['RESPUESTA REAL'].value_counts().sort_index()  \n",
    "percentages = (counts / counts.sum()) * 100  \n",
    "# Crear un gráfico de barras con los porcentajes  \n",
    "fig = px.bar(percentages,  \n",
    "             title='Histograma de Métricas FAQs en Porcentaje',  \n",
    "             labels={'index': 'Valores', 'value': 'Frecuencia (%)'},  \n",
    "             template='plotly_white')  \n",
    "\n",
    "# Mejorar visualmente el gráfico  \n",
    "fig.update_layout(  \n",
    "    showlegend=False,  # Ocultar la leyenda  \n",
    "    xaxis_tickfont=dict(size=5),  # Reducir el tamaño de los ticks del eje X  \n",
    "    xaxis_title=\"\",  # Eliminar el título del eje X  \n",
    "    yaxis=dict(  \n",
    "        tickformat=\".0f\"  # Formato de dos decimales para los porcentajes  \n",
    "    )  \n",
    ")  \n",
    "# Mostrar el gráfico  \n",
    "fig.show()  "
   ]
  },
  {
   "cell_type": "code",
   "execution_count": 5,
   "metadata": {},
   "outputs": [
    {
     "data": {
      "application/vnd.plotly.v1+json": {
       "config": {
        "plotlyServerURL": "https://plot.ly"
       },
       "data": [
        {
         "alignmentgroup": "True",
         "hovertemplate": "variable=proportion<br>metrica=%{x}<br>Frecuencia (%)=%{y}<extra></extra>",
         "legendgroup": "proportion",
         "marker": {
          "color": "#636efa",
          "pattern": {
           "shape": ""
          }
         },
         "name": "proportion",
         "offsetgroup": "proportion",
         "orientation": "v",
         "showlegend": true,
         "textposition": "auto",
         "type": "bar",
         "x": [
          "Bien",
          "Mal"
         ],
         "xaxis": "x",
         "y": [
          65.21739130434783,
          34.78260869565217
         ],
         "yaxis": "y"
        }
       ],
       "layout": {
        "barmode": "relative",
        "legend": {
         "title": {
          "text": "variable"
         },
         "tracegroupgap": 0
        },
        "showlegend": false,
        "template": {
         "data": {
          "bar": [
           {
            "error_x": {
             "color": "#2a3f5f"
            },
            "error_y": {
             "color": "#2a3f5f"
            },
            "marker": {
             "line": {
              "color": "white",
              "width": 0.5
             },
             "pattern": {
              "fillmode": "overlay",
              "size": 10,
              "solidity": 0.2
             }
            },
            "type": "bar"
           }
          ],
          "barpolar": [
           {
            "marker": {
             "line": {
              "color": "white",
              "width": 0.5
             },
             "pattern": {
              "fillmode": "overlay",
              "size": 10,
              "solidity": 0.2
             }
            },
            "type": "barpolar"
           }
          ],
          "carpet": [
           {
            "aaxis": {
             "endlinecolor": "#2a3f5f",
             "gridcolor": "#C8D4E3",
             "linecolor": "#C8D4E3",
             "minorgridcolor": "#C8D4E3",
             "startlinecolor": "#2a3f5f"
            },
            "baxis": {
             "endlinecolor": "#2a3f5f",
             "gridcolor": "#C8D4E3",
             "linecolor": "#C8D4E3",
             "minorgridcolor": "#C8D4E3",
             "startlinecolor": "#2a3f5f"
            },
            "type": "carpet"
           }
          ],
          "choropleth": [
           {
            "colorbar": {
             "outlinewidth": 0,
             "ticks": ""
            },
            "type": "choropleth"
           }
          ],
          "contour": [
           {
            "colorbar": {
             "outlinewidth": 0,
             "ticks": ""
            },
            "colorscale": [
             [
              0,
              "#0d0887"
             ],
             [
              0.1111111111111111,
              "#46039f"
             ],
             [
              0.2222222222222222,
              "#7201a8"
             ],
             [
              0.3333333333333333,
              "#9c179e"
             ],
             [
              0.4444444444444444,
              "#bd3786"
             ],
             [
              0.5555555555555556,
              "#d8576b"
             ],
             [
              0.6666666666666666,
              "#ed7953"
             ],
             [
              0.7777777777777778,
              "#fb9f3a"
             ],
             [
              0.8888888888888888,
              "#fdca26"
             ],
             [
              1,
              "#f0f921"
             ]
            ],
            "type": "contour"
           }
          ],
          "contourcarpet": [
           {
            "colorbar": {
             "outlinewidth": 0,
             "ticks": ""
            },
            "type": "contourcarpet"
           }
          ],
          "heatmap": [
           {
            "colorbar": {
             "outlinewidth": 0,
             "ticks": ""
            },
            "colorscale": [
             [
              0,
              "#0d0887"
             ],
             [
              0.1111111111111111,
              "#46039f"
             ],
             [
              0.2222222222222222,
              "#7201a8"
             ],
             [
              0.3333333333333333,
              "#9c179e"
             ],
             [
              0.4444444444444444,
              "#bd3786"
             ],
             [
              0.5555555555555556,
              "#d8576b"
             ],
             [
              0.6666666666666666,
              "#ed7953"
             ],
             [
              0.7777777777777778,
              "#fb9f3a"
             ],
             [
              0.8888888888888888,
              "#fdca26"
             ],
             [
              1,
              "#f0f921"
             ]
            ],
            "type": "heatmap"
           }
          ],
          "heatmapgl": [
           {
            "colorbar": {
             "outlinewidth": 0,
             "ticks": ""
            },
            "colorscale": [
             [
              0,
              "#0d0887"
             ],
             [
              0.1111111111111111,
              "#46039f"
             ],
             [
              0.2222222222222222,
              "#7201a8"
             ],
             [
              0.3333333333333333,
              "#9c179e"
             ],
             [
              0.4444444444444444,
              "#bd3786"
             ],
             [
              0.5555555555555556,
              "#d8576b"
             ],
             [
              0.6666666666666666,
              "#ed7953"
             ],
             [
              0.7777777777777778,
              "#fb9f3a"
             ],
             [
              0.8888888888888888,
              "#fdca26"
             ],
             [
              1,
              "#f0f921"
             ]
            ],
            "type": "heatmapgl"
           }
          ],
          "histogram": [
           {
            "marker": {
             "pattern": {
              "fillmode": "overlay",
              "size": 10,
              "solidity": 0.2
             }
            },
            "type": "histogram"
           }
          ],
          "histogram2d": [
           {
            "colorbar": {
             "outlinewidth": 0,
             "ticks": ""
            },
            "colorscale": [
             [
              0,
              "#0d0887"
             ],
             [
              0.1111111111111111,
              "#46039f"
             ],
             [
              0.2222222222222222,
              "#7201a8"
             ],
             [
              0.3333333333333333,
              "#9c179e"
             ],
             [
              0.4444444444444444,
              "#bd3786"
             ],
             [
              0.5555555555555556,
              "#d8576b"
             ],
             [
              0.6666666666666666,
              "#ed7953"
             ],
             [
              0.7777777777777778,
              "#fb9f3a"
             ],
             [
              0.8888888888888888,
              "#fdca26"
             ],
             [
              1,
              "#f0f921"
             ]
            ],
            "type": "histogram2d"
           }
          ],
          "histogram2dcontour": [
           {
            "colorbar": {
             "outlinewidth": 0,
             "ticks": ""
            },
            "colorscale": [
             [
              0,
              "#0d0887"
             ],
             [
              0.1111111111111111,
              "#46039f"
             ],
             [
              0.2222222222222222,
              "#7201a8"
             ],
             [
              0.3333333333333333,
              "#9c179e"
             ],
             [
              0.4444444444444444,
              "#bd3786"
             ],
             [
              0.5555555555555556,
              "#d8576b"
             ],
             [
              0.6666666666666666,
              "#ed7953"
             ],
             [
              0.7777777777777778,
              "#fb9f3a"
             ],
             [
              0.8888888888888888,
              "#fdca26"
             ],
             [
              1,
              "#f0f921"
             ]
            ],
            "type": "histogram2dcontour"
           }
          ],
          "mesh3d": [
           {
            "colorbar": {
             "outlinewidth": 0,
             "ticks": ""
            },
            "type": "mesh3d"
           }
          ],
          "parcoords": [
           {
            "line": {
             "colorbar": {
              "outlinewidth": 0,
              "ticks": ""
             }
            },
            "type": "parcoords"
           }
          ],
          "pie": [
           {
            "automargin": true,
            "type": "pie"
           }
          ],
          "scatter": [
           {
            "fillpattern": {
             "fillmode": "overlay",
             "size": 10,
             "solidity": 0.2
            },
            "type": "scatter"
           }
          ],
          "scatter3d": [
           {
            "line": {
             "colorbar": {
              "outlinewidth": 0,
              "ticks": ""
             }
            },
            "marker": {
             "colorbar": {
              "outlinewidth": 0,
              "ticks": ""
             }
            },
            "type": "scatter3d"
           }
          ],
          "scattercarpet": [
           {
            "marker": {
             "colorbar": {
              "outlinewidth": 0,
              "ticks": ""
             }
            },
            "type": "scattercarpet"
           }
          ],
          "scattergeo": [
           {
            "marker": {
             "colorbar": {
              "outlinewidth": 0,
              "ticks": ""
             }
            },
            "type": "scattergeo"
           }
          ],
          "scattergl": [
           {
            "marker": {
             "colorbar": {
              "outlinewidth": 0,
              "ticks": ""
             }
            },
            "type": "scattergl"
           }
          ],
          "scattermapbox": [
           {
            "marker": {
             "colorbar": {
              "outlinewidth": 0,
              "ticks": ""
             }
            },
            "type": "scattermapbox"
           }
          ],
          "scatterpolar": [
           {
            "marker": {
             "colorbar": {
              "outlinewidth": 0,
              "ticks": ""
             }
            },
            "type": "scatterpolar"
           }
          ],
          "scatterpolargl": [
           {
            "marker": {
             "colorbar": {
              "outlinewidth": 0,
              "ticks": ""
             }
            },
            "type": "scatterpolargl"
           }
          ],
          "scatterternary": [
           {
            "marker": {
             "colorbar": {
              "outlinewidth": 0,
              "ticks": ""
             }
            },
            "type": "scatterternary"
           }
          ],
          "surface": [
           {
            "colorbar": {
             "outlinewidth": 0,
             "ticks": ""
            },
            "colorscale": [
             [
              0,
              "#0d0887"
             ],
             [
              0.1111111111111111,
              "#46039f"
             ],
             [
              0.2222222222222222,
              "#7201a8"
             ],
             [
              0.3333333333333333,
              "#9c179e"
             ],
             [
              0.4444444444444444,
              "#bd3786"
             ],
             [
              0.5555555555555556,
              "#d8576b"
             ],
             [
              0.6666666666666666,
              "#ed7953"
             ],
             [
              0.7777777777777778,
              "#fb9f3a"
             ],
             [
              0.8888888888888888,
              "#fdca26"
             ],
             [
              1,
              "#f0f921"
             ]
            ],
            "type": "surface"
           }
          ],
          "table": [
           {
            "cells": {
             "fill": {
              "color": "#EBF0F8"
             },
             "line": {
              "color": "white"
             }
            },
            "header": {
             "fill": {
              "color": "#C8D4E3"
             },
             "line": {
              "color": "white"
             }
            },
            "type": "table"
           }
          ]
         },
         "layout": {
          "annotationdefaults": {
           "arrowcolor": "#2a3f5f",
           "arrowhead": 0,
           "arrowwidth": 1
          },
          "autotypenumbers": "strict",
          "coloraxis": {
           "colorbar": {
            "outlinewidth": 0,
            "ticks": ""
           }
          },
          "colorscale": {
           "diverging": [
            [
             0,
             "#8e0152"
            ],
            [
             0.1,
             "#c51b7d"
            ],
            [
             0.2,
             "#de77ae"
            ],
            [
             0.3,
             "#f1b6da"
            ],
            [
             0.4,
             "#fde0ef"
            ],
            [
             0.5,
             "#f7f7f7"
            ],
            [
             0.6,
             "#e6f5d0"
            ],
            [
             0.7,
             "#b8e186"
            ],
            [
             0.8,
             "#7fbc41"
            ],
            [
             0.9,
             "#4d9221"
            ],
            [
             1,
             "#276419"
            ]
           ],
           "sequential": [
            [
             0,
             "#0d0887"
            ],
            [
             0.1111111111111111,
             "#46039f"
            ],
            [
             0.2222222222222222,
             "#7201a8"
            ],
            [
             0.3333333333333333,
             "#9c179e"
            ],
            [
             0.4444444444444444,
             "#bd3786"
            ],
            [
             0.5555555555555556,
             "#d8576b"
            ],
            [
             0.6666666666666666,
             "#ed7953"
            ],
            [
             0.7777777777777778,
             "#fb9f3a"
            ],
            [
             0.8888888888888888,
             "#fdca26"
            ],
            [
             1,
             "#f0f921"
            ]
           ],
           "sequentialminus": [
            [
             0,
             "#0d0887"
            ],
            [
             0.1111111111111111,
             "#46039f"
            ],
            [
             0.2222222222222222,
             "#7201a8"
            ],
            [
             0.3333333333333333,
             "#9c179e"
            ],
            [
             0.4444444444444444,
             "#bd3786"
            ],
            [
             0.5555555555555556,
             "#d8576b"
            ],
            [
             0.6666666666666666,
             "#ed7953"
            ],
            [
             0.7777777777777778,
             "#fb9f3a"
            ],
            [
             0.8888888888888888,
             "#fdca26"
            ],
            [
             1,
             "#f0f921"
            ]
           ]
          },
          "colorway": [
           "#636efa",
           "#EF553B",
           "#00cc96",
           "#ab63fa",
           "#FFA15A",
           "#19d3f3",
           "#FF6692",
           "#B6E880",
           "#FF97FF",
           "#FECB52"
          ],
          "font": {
           "color": "#2a3f5f"
          },
          "geo": {
           "bgcolor": "white",
           "lakecolor": "white",
           "landcolor": "white",
           "showlakes": true,
           "showland": true,
           "subunitcolor": "#C8D4E3"
          },
          "hoverlabel": {
           "align": "left"
          },
          "hovermode": "closest",
          "mapbox": {
           "style": "light"
          },
          "paper_bgcolor": "white",
          "plot_bgcolor": "white",
          "polar": {
           "angularaxis": {
            "gridcolor": "#EBF0F8",
            "linecolor": "#EBF0F8",
            "ticks": ""
           },
           "bgcolor": "white",
           "radialaxis": {
            "gridcolor": "#EBF0F8",
            "linecolor": "#EBF0F8",
            "ticks": ""
           }
          },
          "scene": {
           "xaxis": {
            "backgroundcolor": "white",
            "gridcolor": "#DFE8F3",
            "gridwidth": 2,
            "linecolor": "#EBF0F8",
            "showbackground": true,
            "ticks": "",
            "zerolinecolor": "#EBF0F8"
           },
           "yaxis": {
            "backgroundcolor": "white",
            "gridcolor": "#DFE8F3",
            "gridwidth": 2,
            "linecolor": "#EBF0F8",
            "showbackground": true,
            "ticks": "",
            "zerolinecolor": "#EBF0F8"
           },
           "zaxis": {
            "backgroundcolor": "white",
            "gridcolor": "#DFE8F3",
            "gridwidth": 2,
            "linecolor": "#EBF0F8",
            "showbackground": true,
            "ticks": "",
            "zerolinecolor": "#EBF0F8"
           }
          },
          "shapedefaults": {
           "line": {
            "color": "#2a3f5f"
           }
          },
          "ternary": {
           "aaxis": {
            "gridcolor": "#DFE8F3",
            "linecolor": "#A2B1C6",
            "ticks": ""
           },
           "baxis": {
            "gridcolor": "#DFE8F3",
            "linecolor": "#A2B1C6",
            "ticks": ""
           },
           "bgcolor": "white",
           "caxis": {
            "gridcolor": "#DFE8F3",
            "linecolor": "#A2B1C6",
            "ticks": ""
           }
          },
          "title": {
           "x": 0.05
          },
          "xaxis": {
           "automargin": true,
           "gridcolor": "#EBF0F8",
           "linecolor": "#EBF0F8",
           "ticks": "",
           "title": {
            "standoff": 15
           },
           "zerolinecolor": "#EBF0F8",
           "zerolinewidth": 2
          },
          "yaxis": {
           "automargin": true,
           "gridcolor": "#EBF0F8",
           "linecolor": "#EBF0F8",
           "ticks": "",
           "title": {
            "standoff": 15
           },
           "zerolinecolor": "#EBF0F8",
           "zerolinewidth": 2
          }
         }
        },
        "title": {
         "text": "Histograma de Métricas FAQs en Porcentaje"
        },
        "xaxis": {
         "anchor": "y",
         "domain": [
          0,
          1
         ],
         "tickmode": "array",
         "tickvals": [
          0,
          1,
          2,
          3
         ],
         "title": {
          "text": "metrica"
         }
        },
        "yaxis": {
         "anchor": "x",
         "domain": [
          0,
          1
         ],
         "tickformat": ".0f",
         "title": {
          "text": "Frecuencia (%)"
         }
        }
       }
      }
     },
     "metadata": {},
     "output_type": "display_data"
    }
   ],
   "source": [
    "import plotly.express as px  \n",
    "import pandas as pd\n",
    "\n",
    "df = pd.read_excel('docs\\categorización nv.xlsx', index_col=0).iloc[:,:5]\n",
    "\n",
    "# Calcular las frecuencias relativas en porcentaje  \n",
    "value_counts = df['metrica'].value_counts(normalize=True) * 100  # Esto convierte las cuentas en porcentajes  \n",
    "value_counts = value_counts.sort_index()  # Asegurarse de que los índices estén ordenados para coincidir con las etiquetas personalizadas  \n",
    "  \n",
    "# Crear un gráfico de barras  \n",
    "fig = px.bar(value_counts,  \n",
    "             title='Histograma de Métricas FAQs en Porcentaje',  \n",
    "             labels={'index': 'Valores', 'value': 'Frecuencia (%)'},  \n",
    "             template='plotly_white')  \n",
    "  \n",
    "# Mejorar visualmente el gráfico  \n",
    "fig.update_layout(  \n",
    "    showlegend=False,  # Ocultar la leyenda  \n",
    "    xaxis=dict(  \n",
    "        tickmode='array',  \n",
    "        tickvals=[0, 1, 2, 3]\n",
    "    ),  \n",
    "    yaxis=dict(  \n",
    "        tickformat=\".0f\"  # Formato de dos decimales para los porcentajes  \n",
    "    )  \n",
    ")  \n",
    "fig.show()  "
   ]
  }
 ],
 "metadata": {
  "kernelspec": {
   "display_name": ".venv",
   "language": "python",
   "name": "python3"
  },
  "language_info": {
   "codemirror_mode": {
    "name": "ipython",
    "version": 3
   },
   "file_extension": ".py",
   "mimetype": "text/x-python",
   "name": "python",
   "nbconvert_exporter": "python",
   "pygments_lexer": "ipython3",
   "version": "3.11.6"
  }
 },
 "nbformat": 4,
 "nbformat_minor": 2
}
