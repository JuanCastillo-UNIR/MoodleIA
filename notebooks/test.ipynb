{
 "cells": [
  {
   "cell_type": "code",
   "execution_count": 1,
   "metadata": {},
   "outputs": [
    {
     "data": {
      "text/plain": [
       "[User(nombre='JuanMa', id_user=1),\n",
       " User(nombre='David', id_user=2),\n",
       " User(nombre='IA', id_user=3)]"
      ]
     },
     "execution_count": 1,
     "metadata": {},
     "output_type": "execute_result"
    }
   ],
   "source": [
    "import os\n",
    "os.chdir('../')\n",
    "\n",
    "from src.api.common.services.sql_utils import SQL_Utils\n",
    "SQL_Utils = SQL_Utils()\n",
    "\n",
    "from src.domain.entities import (user, curso, foro, debate, post)\n",
    "SQL_Utils.select_table(user.User)"
   ]
  },
  {
   "cell_type": "code",
   "execution_count": 2,
   "metadata": {},
   "outputs": [
    {
     "data": {
      "text/plain": [
       "{'Feedback': '¡Gracias a ambos por participar en este debate! Es importante considerar que si bien la IA puede reemplazar ciertos trabajos, también crea nuevas oportunidades laborales en otros campos. Es un tema complejo que requiere un análisis detallado de sus impactos positivos y negativos.',\n",
       " 'Razonamiento': 'El feedback busca resaltar la importancia de considerar los diferentes aspectos del impacto de la IA en el mercado laboral, fomentando un análisis más completo y equilibrado.'}"
      ]
     },
     "execution_count": 2,
     "metadata": {},
     "output_type": "execute_result"
    }
   ],
   "source": [
    "from src.api.common.dependency_container import DependencyContainer\n",
    "request = {'curso':SQL_Utils.select_table(curso.Curso)[0], \n",
    "           'foro':SQL_Utils.select_table(foro.Foro)[0], \n",
    "           'debate':SQL_Utils.select_table(debate.Debate)[0], \n",
    "           'posts':SQL_Utils.select_table(post.Post)}\n",
    "response = DependencyContainer.get_schema_generator_workflow().execute(request)\n",
    "response"
   ]
  },
  {
   "cell_type": "code",
   "execution_count": 4,
   "metadata": {},
   "outputs": [],
   "source": [
    "SQL_Utils.insert_data(post.Post(descripcion=response['Feedback'], id_debate=1, id_user=3))"
   ]
  }
 ],
 "metadata": {
  "kernelspec": {
   "display_name": ".venv",
   "language": "python",
   "name": "python3"
  },
  "language_info": {
   "codemirror_mode": {
    "name": "ipython",
    "version": 3
   },
   "file_extension": ".py",
   "mimetype": "text/x-python",
   "name": "python",
   "nbconvert_exporter": "python",
   "pygments_lexer": "ipython3",
   "version": "3.11.6"
  }
 },
 "nbformat": 4,
 "nbformat_minor": 2
}
