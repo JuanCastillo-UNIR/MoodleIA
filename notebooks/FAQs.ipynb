{
 "cells": [
  {
   "cell_type": "code",
   "execution_count": 4,
   "metadata": {},
   "outputs": [],
   "source": [
    "import requests  \n",
    "from bs4 import BeautifulSoup, Tag  \n",
    "from IPython.display import display, HTML  \n",
    "  \n",
    "# Obtener y analizar el contenido HTML  \n",
    "soup = BeautifulSoup(requests.get('https://becat.online/FAQ/').content, 'html.parser') \n",
    "\n",
    "# Procesar y mostrar el contenido de cada acordeón  \n",
    "for accordion in soup.select('#accordion h3'):  \n",
    "    title = accordion.get_text(strip=True)  \n",
    "    content_div = accordion.find_next_sibling('div')  \n",
    "    content = \"\"  \n",
    "  \n",
    "    # Función para asegurar que todas las URLs sean absolutas  \n",
    "    def ensure_absolute_url(url):  \n",
    "        return url if url.startswith('http') else f\"https://becat.online/FAQ/{url}\"  \n",
    "  \n",
    "    # Procesar todos los elementos dentro del div de contenido  \n",
    "    for element in content_div.children:  \n",
    "        if isinstance(element, Tag):  # Asegura que el elemento es un Tag antes de usar find_all  \n",
    "            imgs = element.find_all('img')  \n",
    "            for img in imgs:  \n",
    "                img['src'] = ensure_absolute_url(img['src'])  \n",
    "  \n",
    "            links = element.find_all('a')  \n",
    "            for link in links:  \n",
    "                if 'href' in link.attrs:  \n",
    "                    link['href'] = ensure_absolute_url(link['href'])  \n",
    "  \n",
    "            content += str(element)  \n",
    "  \n",
    "    display(HTML(f\"<h2>{title}</h2><div>{content}</div>\")) "
   ]
  },
  {
   "cell_type": "code",
   "execution_count": null,
   "metadata": {},
   "outputs": [],
   "source": [
    "import requests  \n",
    "from bs4 import BeautifulSoup  \n",
    "from IPython.display import display, HTML  \n",
    "  \n",
    "# Obtener y analizar el contenido HTML  \n",
    "url = 'https://becat.online/faq-sobre-los-titulos-propios-de-la-unir/'  \n",
    "response = requests.get(url)  \n",
    "soup = BeautifulSoup(response.content, 'html.parser')  \n",
    "  \n",
    "# Procesar y mostrar el contenido de cada acordeón  \n",
    "for accordion in soup.find_all('div', class_='et_pb_toggle'):  # Asegurarse de seleccionar el div correcto del acordeón  \n",
    "    title = accordion.find('h3', class_='et_pb_toggle_title').get_text(strip=True)  # Extraer el título  \n",
    "    content_div = accordion.find('div', class_='et_pb_toggle_content')  # Extraer el div que contiene el contenido  \n",
    "  \n",
    "    if content_div:  \n",
    "        # Extracción del contenido textual, manteniendo etiquetas internas para formato  \n",
    "        content = str(content_div)  \n",
    "    else:  \n",
    "        content = \"No content available\"  \n",
    "  \n",
    "    display(HTML(f\"<h2>{title}</h2><div>{content}</div>\"))  "
   ]
  }
 ],
 "metadata": {
  "kernelspec": {
   "display_name": ".venv",
   "language": "python",
   "name": "python3"
  },
  "language_info": {
   "codemirror_mode": {
    "name": "ipython",
    "version": 3
   },
   "file_extension": ".py",
   "mimetype": "text/x-python",
   "name": "python",
   "nbconvert_exporter": "python",
   "pygments_lexer": "ipython3",
   "version": "3.11.6"
  }
 },
 "nbformat": 4,
 "nbformat_minor": 2
}
