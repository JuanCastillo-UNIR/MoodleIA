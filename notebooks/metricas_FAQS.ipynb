{
 "cells": [
  {
   "cell_type": "code",
   "execution_count": null,
   "metadata": {},
   "outputs": [],
   "source": [
    "# Leer el archivo y extraer los ejemplos  \n",
    "def leer_ejemplos(archivo):  \n",
    "    with open(archivo, 'r', encoding='utf-8') as file:  \n",
    "        contenido = file.read()  \n",
    "      \n",
    "    ejemplos = contenido.split('EJEMPLO: ')[1:]  # Dividir por 'EJEMPLO: ' y omitir el primer elemento vacío  \n",
    "    ejemplos = [ejemplo.strip() for ejemplo in ejemplos]  # Limpiar espacios en blanco al inicio y al final  \n",
    "    return ejemplos  \n",
    "  \n",
    "# Usar la función  \n",
    "preguntas_test = leer_ejemplos('docs\\EJEMPLOS PREGUNTAS TÉCNICAS Y OTRAS FAQ.txt') "
   ]
  },
  {
   "cell_type": "code",
   "execution_count": null,
   "metadata": {},
   "outputs": [],
   "source": [
    "from src.api.common.dependency_container import DependencyContainer\n",
    "from IPython.display import HTML  \n",
    "from tqdm import tqdm\n",
    "\n",
    "output = []\n",
    "DC = DependencyContainer(); DC.initialize()\n",
    "for pregunta in tqdm(preguntas_test):\n",
    "    request = {'Pregunta': pregunta, 'FAQs': faqs + faqs_unir}\n",
    "    response = DependencyContainer.get_schema_generator_workflow().execute(request)\n",
    "    # HTML(f\"<h2>{response['FAQ correspondiente']}</h2>\"+response['Contenido'])\n",
    "    output.append(response['FAQ correspondiente'])\n",
    "\n",
    "import pandas\n",
    "df = pandas.DataFrame()\n",
    "df['Pregunta'] = preguntas_test\n",
    "df['gpt-3.5-turbo'] = output\n",
    "df.to_excel('metricas_FAQs.xlsx')"
   ]
  },
  {
   "cell_type": "code",
   "execution_count": null,
   "metadata": {},
   "outputs": [],
   "source": [
    "import pandas as pd  \n",
    "import plotly.express as px  \n",
    "  \n",
    "# Cargar datos  \n",
    "df = pd.read_excel('docs/metricas_FAQS.xlsx', index_col=0).iloc[:, :3]  \n",
    "\n",
    "# Calcular las frecuencias relativas en porcentaje  \n",
    "counts = df['gpt-3.5-turbo'].value_counts().sort_index()  \n",
    "percentages = (counts / counts.sum()) * 100  \n",
    "# Crear un gráfico de barras con los porcentajes  \n",
    "fig = px.bar(percentages,  \n",
    "             title='Histograma de Métricas FAQs en Porcentaje',  \n",
    "             labels={'index': 'Valores', 'value': 'Frecuencia (%)'},  \n",
    "             template='plotly_white')  \n",
    "\n",
    "# Mejorar visualmente el gráfico  \n",
    "fig.update_layout(  \n",
    "    showlegend=False,  # Ocultar la leyenda  \n",
    "    xaxis_tickfont=dict(size=6),  # Reducir el tamaño de los ticks del eje X  \n",
    "    xaxis_title=\"\",  # Eliminar el título del eje X  \n",
    "    yaxis=dict(  \n",
    "        tickformat=\".2f\"  # Formato de dos decimales para los porcentajes  \n",
    "    )  \n",
    ")  \n",
    "# Mostrar el gráfico  \n",
    "fig.show()  "
   ]
  },
  {
   "cell_type": "code",
   "execution_count": null,
   "metadata": {},
   "outputs": [],
   "source": [
    "import plotly.express as px  \n",
    "import pandas as pd\n",
    "\n",
    "df = pd.read_excel('docs/metricas_FAQS.xlsx', index_col=0).iloc[:,:3]\n",
    "\n",
    "# Calcular las frecuencias relativas en porcentaje  \n",
    "value_counts = df['metrica'].value_counts(normalize=True) * 100  # Esto convierte las cuentas en porcentajes  \n",
    "value_counts = value_counts.sort_index()  # Asegurarse de que los índices estén ordenados para coincidir con las etiquetas personalizadas  \n",
    "  \n",
    "# Crear un gráfico de barras  \n",
    "fig = px.bar(value_counts,  \n",
    "             title='Histograma de Métricas FAQs en Porcentaje',  \n",
    "             labels={'index': 'Valores', 'value': 'Frecuencia (%)'},  \n",
    "             template='plotly_white')  \n",
    "  \n",
    "# Mejorar visualmente el gráfico  \n",
    "fig.update_layout(  \n",
    "    showlegend=False,  # Ocultar la leyenda  \n",
    "    xaxis=dict(  \n",
    "        tickmode='array',  \n",
    "        tickvals=[0, 1, 2, 3],  \n",
    "        ticktext=['Indeterminado', 'Malo', 'Regular', 'Bien']  \n",
    "    ),  \n",
    "    yaxis=dict(  \n",
    "        tickformat=\".0f\"  # Formato de dos decimales para los porcentajes  \n",
    "    )  \n",
    ")  \n",
    "fig.show()  "
   ]
  }
 ],
 "metadata": {
  "language_info": {
   "name": "python"
  }
 },
 "nbformat": 4,
 "nbformat_minor": 2
}
