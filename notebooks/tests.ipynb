{
 "cells": [
  {
   "cell_type": "code",
   "execution_count": 1,
   "metadata": {},
   "outputs": [],
   "source": [
    "import os\n",
    "os.chdir('..')"
   ]
  },
  {
   "cell_type": "code",
   "execution_count": 2,
   "metadata": {},
   "outputs": [],
   "source": [
    "from src.api.workflows.FAQs.extract_FAQs import obtener_faqs, obtener_faqs_unir\n",
    "faqs = obtener_faqs(); faqs_unir = obtener_faqs_unir()"
   ]
  },
  {
   "cell_type": "code",
   "execution_count": 3,
   "metadata": {},
   "outputs": [],
   "source": [
    "from src.api.common.dependency_container import DependencyContainer\n",
    "DC = DependencyContainer(); DC.initialize()"
   ]
  },
  {
   "cell_type": "code",
   "execution_count": 10,
   "metadata": {},
   "outputs": [
    {
     "data": {
      "text/plain": [
       "[{'FAQ': '0. Olvidé mi contraseña',\n",
       "  'Contenido': '<div><p>El sistema más sencillo de recuperarla (es preciso configurarla de nuevo) es el que se muestra en la imagen:</p><p class=\"centrar\"><img alt=\"Contraseña perdida\" class=\"responsive\" src=\"https://becat.online/FAQ/img/perdida-pwd-1.jpg\"/></p><p>Recibirás un correo como el siguiente, que permitirá reconfigurar la contraseña:</p><p class=\"centrar\"><img alt=\"Contraseña perdida 2\" class=\"responsive\" src=\"https://becat.online/FAQ/img/perdida-pwd-2.jpg\"/></p></div>',\n",
       "  'Razonamiento': 'No hay relación entre la pregunta y esta FAQ.',\n",
       "  'Score': '0'},\n",
       " {'FAQ': '1. No puedo acceder con mis datos de usuario',\n",
       "  'Contenido': '<div><p>Asegúrate en primer lugar que introduces bien los datos:</p><ul>\\n<li><strong>Nombre de usuario:</strong> tu correo electrónico. En el ejemplo es \"lidianarpaz@yahoo.com\": sería un error poner un espacio más \"lidianarpaz@yahoo.com \" al final, o en medio o empezar con mayúscula. </li>\\n<li><strong>Contraseña:</strong> si no fuiste tú quien eligió la contraseña, seguramente será la primera parte de tu correo electrónico, previa a la @. En el ejemplo es \"lidianarpaz\". Lo mismo: sería un error escribir un espacio más antes o después, o incluir una mayúscula. A veces es mejor copiar y pegar la contraseña. Si la contraseña la elegiste tú, sigue las mismas indicaciones en lo que se refiere a evitar espacios en blanco.</li>\\n</ul><p class=\"centrar\"><img alt=\"Datos de usuario\" class=\"responsive\" src=\"https://becat.online/FAQ/img/datos-usuario.png\"/></p><p>El acceso al curso está en la sección \"Mis cursos\", en la misma página de entrada:</p><p class=\"centrar\"><img alt=\"Mis cursos\" class=\"responsive\" src=\"https://becat.online/FAQ/img/miscursos-largo.png\"/></p><p>Si sigue sin funcionar, contacta con tu tutor o escribe al email: <a href=\"https://becat.online/FAQ/mailto:info@becat.online\" target=\"_blank\">info@becat.online</a>.</p></div>',\n",
       "  'Razonamiento': 'No hay relación entre la pregunta y esta FAQ.',\n",
       "  'Score': '0'},\n",
       " {'FAQ': '2. ¿Cuándo sabré que una actividad se considera finalizada?',\n",
       "  'Contenido': '<div><p>Cuando todas sus etiquetas estén marcadas en color verde.</p><p>Advierte que hay actividades que solo presentan el botón (o la etiqueta) de \"Marcar como hecha\" después de haber finalizado otra actividad. Es el caso siguiente:</p><p class=\"centrar\"><br/><img alt=\"Actividad no disponible\" class=\"responsive\" src=\"https://becat.online/FAQ/img/no-disponible.png\"/></p></div>',\n",
       "  'Razonamiento': 'No hay relación entre la pregunta y esta FAQ.',\n",
       "  'Score': '0'}]"
      ]
     },
     "execution_count": 10,
     "metadata": {},
     "output_type": "execute_result"
    }
   ],
   "source": [
    "pregunta = 'Hola,mi nombre es Gloria,o?'\n",
    "request = {'Pregunta': pregunta, 'FAQs': faqs + faqs_unir}  \n",
    "response = DependencyContainer.get_faqs_workflow().execute(request)\n",
    "faq = max(response['FAQs'], key=lambda x: float(x['Score']))\n",
    "if float(faq['Score']) >= 7: content = f\"<h2>{faq['FAQ']}</h2>{faq['Contenido']}\" \n",
    "if 4 < float(faq['Score']) < 7: \n",
    "    content = f\"\"\"\n",
    "                <h2>{faq['FAQ']}</h2>{faq['Contenido']}\n",
    "                <h2>Si esta FAQ no se ajusta a tu pregunta, puedes dirigirte al siguiente número de Whatsapp: <a href=\"https://web.whatsapp.com/send?phone=34689909323\">Contacta con un asesor.</a></h2>\n",
    "    \"\"\"\n",
    "else: content = f'<h2>No encontramos ninguna FAQ relacionada a la pregunta. Dirígete al siguiente número de Whatsapp: <a href=\"https://web.whatsapp.com/send?phone=34689909323\">contacta con un asesor.</a></h2>'\n",
    "response['FAQs']"
   ]
  },
  {
   "cell_type": "code",
   "execution_count": null,
   "metadata": {},
   "outputs": [],
   "source": []
  }
 ],
 "metadata": {
  "kernelspec": {
   "display_name": ".venv",
   "language": "python",
   "name": "python3"
  },
  "language_info": {
   "codemirror_mode": {
    "name": "ipython",
    "version": 3
   },
   "file_extension": ".py",
   "mimetype": "text/x-python",
   "name": "python",
   "nbconvert_exporter": "python",
   "pygments_lexer": "ipython3",
   "version": "3.11.6"
  }
 },
 "nbformat": 4,
 "nbformat_minor": 2
}
