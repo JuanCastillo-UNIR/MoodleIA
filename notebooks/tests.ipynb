{
 "cells": [
  {
   "cell_type": "code",
   "execution_count": 1,
   "metadata": {},
   "outputs": [],
   "source": [
    "import os\n",
    "os.chdir('..')"
   ]
  },
  {
   "cell_type": "code",
   "execution_count": 2,
   "metadata": {},
   "outputs": [],
   "source": [
    "from src.api.workflows.FAQs.extract_FAQs import obtener_faqs, obtener_faqs_unir\n",
    "faqs = obtener_faqs(); faqs_unir = obtener_faqs_unir()"
   ]
  },
  {
   "cell_type": "code",
   "execution_count": 11,
   "metadata": {},
   "outputs": [
    {
     "name": "stderr",
     "output_type": "stream",
     "text": [
      "ERROR:logger:Error in call_api using prompt: faqs_generator\n",
      "Error code: 400 - {'error': {'message': \"This model's maximum context length is 16385 tokens. However, you requested 16810 tokens (12714 in the messages, 4096 in the completion). Please reduce the length of the messages or completion.\", 'type': 'invalid_request_error', 'param': 'messages', 'code': 'context_length_exceeded'}}\n"
     ]
    },
    {
     "ename": "JSONDecodeError",
     "evalue": "Expecting value: line 1 column 1 (char 0)",
     "output_type": "error",
     "traceback": [
      "\u001b[1;31m---------------------------------------------------------------------------\u001b[0m",
      "\u001b[1;31mJSONDecodeError\u001b[0m                           Traceback (most recent call last)",
      "Cell \u001b[1;32mIn[11], line 7\u001b[0m\n\u001b[0;32m      5\u001b[0m pregunta \u001b[38;5;241m=\u001b[39m \u001b[38;5;124m'\u001b[39m\u001b[38;5;124mperrito, gatico, lobito\u001b[39m\u001b[38;5;124m'\u001b[39m\n\u001b[0;32m      6\u001b[0m request \u001b[38;5;241m=\u001b[39m {\u001b[38;5;124m'\u001b[39m\u001b[38;5;124mPregunta\u001b[39m\u001b[38;5;124m'\u001b[39m: pregunta, \u001b[38;5;124m'\u001b[39m\u001b[38;5;124mFAQs\u001b[39m\u001b[38;5;124m'\u001b[39m: faqs \u001b[38;5;241m+\u001b[39m faqs_unir}\n\u001b[1;32m----> 7\u001b[0m response \u001b[38;5;241m=\u001b[39m \u001b[43mDependencyContainer\u001b[49m\u001b[38;5;241;43m.\u001b[39;49m\u001b[43mget_faqs_workflow\u001b[49m\u001b[43m(\u001b[49m\u001b[43m)\u001b[49m\u001b[38;5;241;43m.\u001b[39;49m\u001b[43mexecute\u001b[49m\u001b[43m(\u001b[49m\u001b[43mrequest\u001b[49m\u001b[43m)\u001b[49m\n\u001b[0;32m      8\u001b[0m max_faq \u001b[38;5;241m=\u001b[39m \u001b[38;5;28mmax\u001b[39m(response[\u001b[38;5;124m'\u001b[39m\u001b[38;5;124mFAQs\u001b[39m\u001b[38;5;124m'\u001b[39m], key\u001b[38;5;241m=\u001b[39m\u001b[38;5;28;01mlambda\u001b[39;00m x: \u001b[38;5;28mfloat\u001b[39m(x[\u001b[38;5;124m'\u001b[39m\u001b[38;5;124mScore\u001b[39m\u001b[38;5;124m'\u001b[39m]))  \n",
      "File \u001b[1;32mc:\\Users\\juanmanuel.castillo\\Documents\\MoodleIA\\src\\api\\workflows\\FAQs\\workflow_faqs.py:16\u001b[0m, in \u001b[0;36mFAQsWorkflow.execute\u001b[1;34m(self, request)\u001b[0m\n\u001b[0;32m     15\u001b[0m \u001b[38;5;28;01mdef\u001b[39;00m \u001b[38;5;21mexecute\u001b[39m(\u001b[38;5;28mself\u001b[39m, request: \u001b[38;5;28mstr\u001b[39m) \u001b[38;5;241m-\u001b[39m\u001b[38;5;241m>\u001b[39m \u001b[38;5;28mdict\u001b[39m: \n\u001b[1;32m---> 16\u001b[0m     \u001b[38;5;28;01mreturn\u001b[39;00m \u001b[38;5;28;43mself\u001b[39;49m\u001b[38;5;241;43m.\u001b[39;49m\u001b[43m_openai_service\u001b[49m\u001b[38;5;241;43m.\u001b[39;49m\u001b[43mget_faqs_azure\u001b[49m\u001b[43m(\u001b[49m\u001b[38;5;28;43mstr\u001b[39;49m\u001b[43m(\u001b[49m\u001b[43mrequest\u001b[49m\u001b[43m)\u001b[49m\u001b[43m)\u001b[49m\n",
      "File \u001b[1;32mc:\\Users\\juanmanuel.castillo\\Documents\\MoodleIA\\src\\api\\workflows\\FAQs\\gpt_faqs.py:23\u001b[0m, in \u001b[0;36mGptFAQs.get_faqs_azure\u001b[1;34m(self, content)\u001b[0m\n\u001b[0;32m     16\u001b[0m prompt \u001b[38;5;241m=\u001b[39m \u001b[38;5;28mself\u001b[39m\u001b[38;5;241m.\u001b[39m_prompt_service\u001b[38;5;241m.\u001b[39mload_sys_prompt_from_file(\n\u001b[0;32m     17\u001b[0m         os\u001b[38;5;241m.\u001b[39mpath\u001b[38;5;241m.\u001b[39mjoin(os\u001b[38;5;241m.\u001b[39mpath\u001b[38;5;241m.\u001b[39mjoin(\u001b[38;5;124m'\u001b[39m\u001b[38;5;124msrc/api/workflows/FAQs/prompt.json\u001b[39m\u001b[38;5;124m'\u001b[39m))\n\u001b[0;32m     18\u001b[0m )\n\u001b[0;32m     19\u001b[0m output \u001b[38;5;241m=\u001b[39m \u001b[38;5;28mself\u001b[39m\u001b[38;5;241m.\u001b[39m_openai_service\u001b[38;5;241m.\u001b[39mcall_api(\n\u001b[0;32m     20\u001b[0m     prompt\u001b[38;5;241m=\u001b[39mprompt,\n\u001b[0;32m     21\u001b[0m     user_msg\u001b[38;5;241m=\u001b[39mcontent\n\u001b[0;32m     22\u001b[0m )\n\u001b[1;32m---> 23\u001b[0m json_answer \u001b[38;5;241m=\u001b[39m \u001b[43mjson\u001b[49m\u001b[38;5;241;43m.\u001b[39;49m\u001b[43mloads\u001b[49m\u001b[43m(\u001b[49m\u001b[38;5;28;43mstr\u001b[39;49m\u001b[43m(\u001b[49m\u001b[43moutput\u001b[49m\u001b[43m)\u001b[49m\u001b[43m)\u001b[49m\n\u001b[0;32m     24\u001b[0m \u001b[38;5;28;01mreturn\u001b[39;00m json_answer\n",
      "File \u001b[1;32m~\\AppData\\Local\\Programs\\Python\\Python311\\Lib\\json\\__init__.py:346\u001b[0m, in \u001b[0;36mloads\u001b[1;34m(s, cls, object_hook, parse_float, parse_int, parse_constant, object_pairs_hook, **kw)\u001b[0m\n\u001b[0;32m    341\u001b[0m     s \u001b[38;5;241m=\u001b[39m s\u001b[38;5;241m.\u001b[39mdecode(detect_encoding(s), \u001b[38;5;124m'\u001b[39m\u001b[38;5;124msurrogatepass\u001b[39m\u001b[38;5;124m'\u001b[39m)\n\u001b[0;32m    343\u001b[0m \u001b[38;5;28;01mif\u001b[39;00m (\u001b[38;5;28mcls\u001b[39m \u001b[38;5;129;01mis\u001b[39;00m \u001b[38;5;28;01mNone\u001b[39;00m \u001b[38;5;129;01mand\u001b[39;00m object_hook \u001b[38;5;129;01mis\u001b[39;00m \u001b[38;5;28;01mNone\u001b[39;00m \u001b[38;5;129;01mand\u001b[39;00m\n\u001b[0;32m    344\u001b[0m         parse_int \u001b[38;5;129;01mis\u001b[39;00m \u001b[38;5;28;01mNone\u001b[39;00m \u001b[38;5;129;01mand\u001b[39;00m parse_float \u001b[38;5;129;01mis\u001b[39;00m \u001b[38;5;28;01mNone\u001b[39;00m \u001b[38;5;129;01mand\u001b[39;00m\n\u001b[0;32m    345\u001b[0m         parse_constant \u001b[38;5;129;01mis\u001b[39;00m \u001b[38;5;28;01mNone\u001b[39;00m \u001b[38;5;129;01mand\u001b[39;00m object_pairs_hook \u001b[38;5;129;01mis\u001b[39;00m \u001b[38;5;28;01mNone\u001b[39;00m \u001b[38;5;129;01mand\u001b[39;00m \u001b[38;5;129;01mnot\u001b[39;00m kw):\n\u001b[1;32m--> 346\u001b[0m     \u001b[38;5;28;01mreturn\u001b[39;00m \u001b[43m_default_decoder\u001b[49m\u001b[38;5;241;43m.\u001b[39;49m\u001b[43mdecode\u001b[49m\u001b[43m(\u001b[49m\u001b[43ms\u001b[49m\u001b[43m)\u001b[49m\n\u001b[0;32m    347\u001b[0m \u001b[38;5;28;01mif\u001b[39;00m \u001b[38;5;28mcls\u001b[39m \u001b[38;5;129;01mis\u001b[39;00m \u001b[38;5;28;01mNone\u001b[39;00m:\n\u001b[0;32m    348\u001b[0m     \u001b[38;5;28mcls\u001b[39m \u001b[38;5;241m=\u001b[39m JSONDecoder\n",
      "File \u001b[1;32m~\\AppData\\Local\\Programs\\Python\\Python311\\Lib\\json\\decoder.py:337\u001b[0m, in \u001b[0;36mJSONDecoder.decode\u001b[1;34m(self, s, _w)\u001b[0m\n\u001b[0;32m    332\u001b[0m \u001b[38;5;28;01mdef\u001b[39;00m \u001b[38;5;21mdecode\u001b[39m(\u001b[38;5;28mself\u001b[39m, s, _w\u001b[38;5;241m=\u001b[39mWHITESPACE\u001b[38;5;241m.\u001b[39mmatch):\n\u001b[0;32m    333\u001b[0m \u001b[38;5;250m    \u001b[39m\u001b[38;5;124;03m\"\"\"Return the Python representation of ``s`` (a ``str`` instance\u001b[39;00m\n\u001b[0;32m    334\u001b[0m \u001b[38;5;124;03m    containing a JSON document).\u001b[39;00m\n\u001b[0;32m    335\u001b[0m \n\u001b[0;32m    336\u001b[0m \u001b[38;5;124;03m    \"\"\"\u001b[39;00m\n\u001b[1;32m--> 337\u001b[0m     obj, end \u001b[38;5;241m=\u001b[39m \u001b[38;5;28;43mself\u001b[39;49m\u001b[38;5;241;43m.\u001b[39;49m\u001b[43mraw_decode\u001b[49m\u001b[43m(\u001b[49m\u001b[43ms\u001b[49m\u001b[43m,\u001b[49m\u001b[43m \u001b[49m\u001b[43midx\u001b[49m\u001b[38;5;241;43m=\u001b[39;49m\u001b[43m_w\u001b[49m\u001b[43m(\u001b[49m\u001b[43ms\u001b[49m\u001b[43m,\u001b[49m\u001b[43m \u001b[49m\u001b[38;5;241;43m0\u001b[39;49m\u001b[43m)\u001b[49m\u001b[38;5;241;43m.\u001b[39;49m\u001b[43mend\u001b[49m\u001b[43m(\u001b[49m\u001b[43m)\u001b[49m\u001b[43m)\u001b[49m\n\u001b[0;32m    338\u001b[0m     end \u001b[38;5;241m=\u001b[39m _w(s, end)\u001b[38;5;241m.\u001b[39mend()\n\u001b[0;32m    339\u001b[0m     \u001b[38;5;28;01mif\u001b[39;00m end \u001b[38;5;241m!=\u001b[39m \u001b[38;5;28mlen\u001b[39m(s):\n",
      "File \u001b[1;32m~\\AppData\\Local\\Programs\\Python\\Python311\\Lib\\json\\decoder.py:355\u001b[0m, in \u001b[0;36mJSONDecoder.raw_decode\u001b[1;34m(self, s, idx)\u001b[0m\n\u001b[0;32m    353\u001b[0m     obj, end \u001b[38;5;241m=\u001b[39m \u001b[38;5;28mself\u001b[39m\u001b[38;5;241m.\u001b[39mscan_once(s, idx)\n\u001b[0;32m    354\u001b[0m \u001b[38;5;28;01mexcept\u001b[39;00m \u001b[38;5;167;01mStopIteration\u001b[39;00m \u001b[38;5;28;01mas\u001b[39;00m err:\n\u001b[1;32m--> 355\u001b[0m     \u001b[38;5;28;01mraise\u001b[39;00m JSONDecodeError(\u001b[38;5;124m\"\u001b[39m\u001b[38;5;124mExpecting value\u001b[39m\u001b[38;5;124m\"\u001b[39m, s, err\u001b[38;5;241m.\u001b[39mvalue) \u001b[38;5;28;01mfrom\u001b[39;00m \u001b[38;5;28;01mNone\u001b[39;00m\n\u001b[0;32m    356\u001b[0m \u001b[38;5;28;01mreturn\u001b[39;00m obj, end\n",
      "\u001b[1;31mJSONDecodeError\u001b[0m: Expecting value: line 1 column 1 (char 0)"
     ]
    }
   ],
   "source": [
    "from src.api.common.dependency_container import DependencyContainer\n",
    "from IPython.display import HTML  \n",
    "\n",
    "DC = DependencyContainer(); DC.initialize()\n",
    "pregunta = 'perrito, gatico, lobito'\n",
    "request = {'Pregunta': pregunta, 'FAQs': faqs + faqs_unir}\n",
    "response = DependencyContainer.get_faqs_workflow().execute(request)\n",
    "max_faq = max(response['FAQs'], key=lambda x: float(x['Score']))  "
   ]
  },
  {
   "cell_type": "code",
   "execution_count": null,
   "metadata": {},
   "outputs": [
    {
     "data": {
      "text/plain": [
       "{'FAQs': [{'FAQ 1': '1. No puedo acceder con mis datos de usuario',\n",
       "   'Contenido': '<div><p>Asegúrate en primer lugar que introduces bien los datos:</p><ul>\\n<li><strong>Nombre de usuario:</strong> tu correo electrónico. En el ejemplo es \"lidianarpaz@yahoo.com\": sería un error poner un espacio más \"lidianarpaz@yahoo.com \" al final, o en medio o empezar con mayúscula. </li>\\n<li><strong>Contraseña:</strong> si no fuiste tú quien eligió la contraseña, seguramente será la primera parte de tu correo electrónico, previa a la @. En el ejemplo es \"lidianarpaz\". Lo mismo: sería un error escribir un espacio más antes o después, o incluir una mayúscula. A veces es mejor copiar y pegar la contraseña. Si la contraseña la elegiste tú, sigue las mismas indicaciones en lo que se refiere a evitar espacios en blanco.</li>\\n</ul><p class=\"centrar\"><img alt=\"Datos de usuario\" class=\"responsive\" src=\"https://becat.online/FAQ/img/datos-usuario.png\"/></p><p>El acceso al curso está en la sección \"Mis cursos\", en la misma página de entrada:</p><p class=\"centrar\"><img alt=\"Mis cursos\" class=\"responsive\" src=\"https://becat.online/FAQ/img/miscursos-largo.png\"/></p><p>Si sigue sin funcionar, contacta con tu tutor o escribe al email: <a href=\"https://becat.online/FAQ/mailto:info@becat.online\" target=\"_blank\">info@becat.online</a>.</p></div>',\n",
       "   'Razonamiento': 'Esta FAQ es relevante ya que proporciona información sobre cómo acceder a la plataforma con los datos de usuario, lo cual puede ser útil para el usuario que está experimentando problemas de acceso.',\n",
       "   'Score': '7.5'},\n",
       "  {'FAQ 2': '17. Borrar la memoria caché',\n",
       "   'Contenido': '<p>1. EN TU ORDENADOR</p><ol>\\n<li>En Google Chrome, toca <img height=\"15\" src=\"https://becat.online/FAQ/img/puntitos.png\" width=\"15\"> y luego <b>Borrar datos de navegación</b> (punto 1).</img></li>\\n<li>Para borrar los <b>Archivos e imágenes en caché</b>, selecciona <b>7 días</b> (puntos 2 y 3).</li>\\n<li><b>Borrar datos</b> (punto 4)</li>.\\n                    </ol><p class=\"centrar\"><img alt=\"Memoria caché\" class=\"responsive\" src=\"https://becat.online/FAQ/img/chrome-memoria-cache.jpg\"/></p><p>2. EN TU CELULAR / MÓVIL</p><ol>\\n<li>En Google Chrome, toca <img height=\"15\" src=\"https://becat.online/FAQ/img/puntitos.png\" width=\"15\"> (punto 1) y luego <b>Borrar datos de navegación</b> (punto 2).</img></li>\\n<li>En <b>Borrar datos de navegación</b>, haz clic en <b>Más opciones</b> (punto 3).</li>\\n<li>Selecciona un tiempo de 7 días y luego selecciona <b>Archivos e imágenes en caché</b> (punto 4).</li>\\n<li>Clic en <b>Borrar datos</b> (punto 5).</li>\\n</ol><p class=\"centrar\"><img alt=\"Memoria caché\" class=\"responsive\" src=\"https://becat.online/FAQ/img/chrome-memoria-cache-movil.jpg\"/></p>',\n",
       "   'Razonamiento': 'Esta FAQ es relevante ya que proporciona instrucciones detalladas sobre cómo borrar la memoria caché en diferentes dispositivos, lo cual puede ser útil para el usuario que está experimentando problemas de carga de contenido.',\n",
       "   'Score': '8.2'},\n",
       "  {'FAQ 3': '13. Cuando ingreso en la plataforma, no aparece mi curso',\n",
       "   'Contenido': '<p>Asegúrate de que bajas en la página de inicio hasta la sección \"Mis cursos\". Es en esa sección donde se encuentra el acceso. Si no, dilo a tu tutor. <em>Lo primero que deberá hacer el tutor es acceder con tu nombre de usuario y contraseña para comprobar que tu problema es real: suele ocurrir que se trata de un despiste.</em></p><p>Ejemplo típico: una persona acaba de escribir diciendo que no tiene acceso al curso sobre \"Educación afectivo-sexual\". Accedo con sus datos de usuario y veo esto (sí que tiene acceso):</p><p class=\"centrar\"><img alt=\"Mis cursos\" class=\"responsive\" src=\"https://becat.online/FAQ/img/miscursos.png\"/> </p>',\n",
       "   'Razonamiento': 'Esta FAQ es relevante ya que proporciona información sobre cómo encontrar el acceso a los cursos en la plataforma, lo cual puede ser útil para el usuario que está experimentando problemas para encontrar su curso.',\n",
       "   'Score': '7.8'}]}"
      ]
     },
     "execution_count": 10,
     "metadata": {},
     "output_type": "execute_result"
    }
   ],
   "source": [
    "response"
   ]
  },
  {
   "cell_type": "code",
   "execution_count": 15,
   "metadata": {},
   "outputs": [
    {
     "data": {
      "text/html": [
       "<h2>1. No puedo acceder con mis datos de usuario</h2><p>Asegúrate en primer lugar que introduces bien los datos:</p><ul>\n",
       "<li><strong>Nombre de usuario:</strong> tu correo electrónico. En el ejemplo es \"lidianarpaz@yahoo.com\": sería un error poner un espacio más \"lidianarpaz@yahoo.com \" al final, o en medio o empezar con mayúscula. </li>\n",
       "<li><strong>Contraseña:</strong> si no fuiste tú quien eligió la contraseña, seguramente será la primera parte de tu correo electrónico, previa a la @. En el ejemplo es \"lidianarpaz\". Lo mismo: sería un error escribir un espacio más antes o después, o incluir una mayúscula. A veces es mejor copiar y pegar la contraseña. Si la contraseña la elegiste tú, sigue las mismas indicaciones en lo que se refiere a evitar espacios en blanco.</li>\n",
       "</ul><p class=\"centrar\"><img alt=\"Datos de usuario\" class=\"responsive\" src=\"https://becat.online/FAQ/img/datos-usuario.png\"/></p><p>El acceso al curso está en la sección \"Mis cursos\", en la misma página de entrada:</p><p class=\"centrar\"><img alt=\"Mis cursos\" class=\"responsive\" src=\"https://becat.online/FAQ/img/miscursos-largo.png\"/></p><p>Si sigue sin funcionar, contacta con tu tutor o escribe al email: <a href=\"https://becat.online/FAQ/mailto:info@becat.online\" target=\"_blank\">info@becat.online</a>.</p></div><h2>2. ¿Cuándo sabré que una actividad se considera finalizada?</h2><p>Cuando todas sus etiquetas estén marcadas en color verde.</p><p>Advierte que hay actividades que solo presentan el botón (o la etiqueta) de \"Marcar como hecha\" después de haber finalizado otra actividad. Es el caso siguiente:</p><p class=\"centrar\"><br/><img alt=\"Actividad no disponible\" class=\"responsive\" src=\"https://becat.online/FAQ/img/no-disponible.png\"/></p></div><h2>3. He acabado el módulo y no me permite pasar al siguiente</h2><p>Cada vez que se finaliza una actividad, el sistema tarda un poco (un par de minutos) en actualizarse y reconocer el avance. Lo mismo ocurre con la finalización del módulo. Si han transcurrido unos minutos después de haberlo terminado todo y no se ha abierto el siguiente módulo, lo mejor es \"Cerrar sesión\" y volver a acceder a la plataforma.</p><br/><p class=\"centrar\"><img alt=\"Cerrar sesión\" class=\"responsive\" src=\"https://becat.online/FAQ/img/aa-cerrar-sesion.png\"/></p><p>¿Y si el problema persiste? Si has finalizado todas las actividades (en el ejemplo de la imagen, 18 de 18), has cerrado la sesión y vuelto a acceder, y el problema persiste, ponte en contacto con <a href=\"https://becat.online/FAQ/mailto:becat@fundamentos.net\">becat@fundamentos.net</a></p></div>"
      ],
      "text/plain": [
       "<IPython.core.display.HTML object>"
      ]
     },
     "execution_count": 15,
     "metadata": {},
     "output_type": "execute_result"
    }
   ],
   "source": [
    "faqs_salida = ''\n",
    "for faq in response['FAQs']: \n",
    "    faqs_salida+=f\"<h2>{list(faq.values())[0]}</h2>{faq['Contenido']}\"\n",
    "HTML(faqs_salida)"
   ]
  }
 ],
 "metadata": {
  "kernelspec": {
   "display_name": ".venv",
   "language": "python",
   "name": "python3"
  },
  "language_info": {
   "codemirror_mode": {
    "name": "ipython",
    "version": 3
   },
   "file_extension": ".py",
   "mimetype": "text/x-python",
   "name": "python",
   "nbconvert_exporter": "python",
   "pygments_lexer": "ipython3",
   "version": "3.11.6"
  }
 },
 "nbformat": 4,
 "nbformat_minor": 2
}
