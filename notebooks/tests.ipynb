{
 "cells": [
  {
   "cell_type": "code",
   "execution_count": 1,
   "metadata": {},
   "outputs": [],
   "source": [
    "import os\n",
    "os.chdir('..')"
   ]
  },
  {
   "cell_type": "code",
   "execution_count": 2,
   "metadata": {},
   "outputs": [],
   "source": [
    "from src.api.workflows.FAQs.extract_FAQs import obtener_faqs, obtener_faqs_unir\n",
    "faqs = obtener_faqs(); faqs_unir = obtener_faqs_unir()"
   ]
  },
  {
   "cell_type": "code",
   "execution_count": 4,
   "metadata": {},
   "outputs": [
    {
     "data": {
      "text/plain": [
       "[{'FAQ': '8. Acabar todas las actividades para pasar de módulo',\n",
       "  'Contenido': '<p class=\"centrar\"><img alt=\"Acabar todo\" class=\"responsive\" src=\"https://becat.online/FAQ/img/acabar-todo.png\"/></p><p>Es frecuente que los participantes piensen que han acabado un módulo, cuando en realidad hay alguna actividad que se se ha marcado. El paso de un móculo a otro es automático cuando están marcadas <strong>todas las actividades</strong>. Si falta una, no se considera terminado y no se puede pasar al siguiente módulo. </p><p>En caso de que todas las actividades se encuentren marcadas y el módulo siguiente no se abra, sigue las indicaciones mostradas en <a href=\"https://becat.online/FAQ/index.html#3\"> \"3. He acabado el módulo y no me permite pasar al siguiente\"</a>.</p>',\n",
       "  'Razonamiento': 'Esta FAQ es relevante porque aborda directamente el problema de no poder avanzar al siguiente módulo, lo cual puede estar relacionado con la finalización de actividades.',\n",
       "  'Score': 8},\n",
       " {'FAQ': '15. No puedo acabar el cuestionario',\n",
       "  'Contenido': '<p>Un cuestionario que está \"en curso\" <span style=\"color:red;font-weight: bold;\">(1)</span> es una actividad sin finalizar: hay que llegar hasta el final, aunque sepas que te has equivocado en alguna contestación. Dispones de todos los intentos que desees, pero si te encuentras con el cuestionario \"en curso\", has de: </p><ol>\\n<li>Continuar el último intento</li>\\n<li>Terminar intento</li>\\n<li>Enviar todo y terminar</li>\\n</ol><p>A partir de ese momento, se puede hacer otro intento  <span style=\"color:red;font-weight: bold;\">(2)</span>: el botón amarillo cambia su función. Como las respuestas son conocidas, basta con no equivocarse y marcar las correctas. </p><br/><p class=\"centrar\"><img alt=\"subir foto\" class=\"responsive\" src=\"https://becat.online/FAQ/img/cuestionario.png\"/> </p>',\n",
       "  'Razonamiento': 'Esta FAQ es relevante porque aborda el problema específico de no poder finalizar un cuestionario, proporcionando instrucciones detalladas sobre cómo proceder en esta situación.',\n",
       "  'Score': 9},\n",
       " {'FAQ': '11. ¿Cómo corregir mis datos: nombre, apellidos, institución, ...?',\n",
       "  'Contenido': '<p>En efecto, es necesario corregirlos para que el certificado muestre los datos adecuados. Eso lo puede hacer el mismo usuario, como se explica en el módulo 0 de cualquier curso.</p><p>La siguiente imagen muestra cómo hacerlo, por pasos, desde el PERFIL de usuario:</p><br/><p class=\"centrar\"><img alt=\"nombre mal escrito\" class=\"responsive\" src=\"https://becat.online/FAQ/img/nombre-mal-escrito.jpg\"/></p>',\n",
       "  'Razonamiento': 'Esta FAQ es relevante porque proporciona instrucciones claras sobre cómo corregir los datos personales, lo cual puede ser útil para los usuarios que necesiten actualizar su información.',\n",
       "  'Score': 9}]"
      ]
     },
     "execution_count": 4,
     "metadata": {},
     "output_type": "execute_result"
    }
   ],
   "source": [
    "from src.api.common.dependency_container import DependencyContainer\n",
    "from urllib.parse import quote  \n",
    "\n",
    "DC = DependencyContainer(); DC.initialize()\n",
    "pregunta = 'perrito, gatico, lobo'\n",
    "request = {'pregunta': pregunta, 'FAQs': faqs + faqs_unir}\n",
    "response_str = DependencyContainer.get_faqs_workflow().execute(request)\n",
    "import json; response = json.loads(response_str)\n",
    "faq = max(response['FAQs'], key=lambda x: float(x['Score']))  \n",
    "if float(faq['Score']) >= 6: content = f\"<h2>{faq['FAQ']}</h2>{faq['Contenido']}\"  \n",
    "else: content = f'<h2>No encontramos ninguna FAQ relacionada a la pregunta. Dirígete al siguiente número de Whatsapp: <a href=\"https://web.whatsapp.com/send?phone=34689909323&text={quote(pregunta)}\">contacta con un asesor.</a></h2>'\n",
    "response['FAQs']"
   ]
  },
  {
   "cell_type": "code",
   "execution_count": null,
   "metadata": {},
   "outputs": [],
   "source": []
  }
 ],
 "metadata": {
  "kernelspec": {
   "display_name": ".venv",
   "language": "python",
   "name": "python3"
  },
  "language_info": {
   "codemirror_mode": {
    "name": "ipython",
    "version": 3
   },
   "file_extension": ".py",
   "mimetype": "text/x-python",
   "name": "python",
   "nbconvert_exporter": "python",
   "pygments_lexer": "ipython3",
   "version": "3.11.6"
  }
 },
 "nbformat": 4,
 "nbformat_minor": 2
}
