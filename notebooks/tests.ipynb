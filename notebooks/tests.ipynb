{
 "cells": [
  {
   "cell_type": "code",
   "execution_count": 1,
   "metadata": {},
   "outputs": [],
   "source": [
    "import os\n",
    "os.chdir('..')"
   ]
  },
  {
   "cell_type": "code",
   "execution_count": 2,
   "metadata": {},
   "outputs": [],
   "source": [
    "from src.api.workflows.FAQs.extract_FAQs import obtener_faqs, obtener_faqs_unir\n",
    "faqs = obtener_faqs(); faqs_unir = obtener_faqs_unir()"
   ]
  },
  {
   "cell_type": "code",
   "execution_count": 3,
   "metadata": {},
   "outputs": [
    {
     "data": {
      "text/html": [
       "<h3>1. Crear una cuenta en la plataforma para cursos y títulos<h3><div class=\"et_pb_toggle_content clearfix\"><p>Tanto para matricularte en un curso como para aspirar a recibir un título (realizando todo el plan de estudios), es preciso haber creado una cuenta en la plataforma.</p>\n",
       "<ol>\n",
       "<li><strong>Si dispones de nombre de usuario y contraseña</strong>, ya eres usuario. <strong><em>Continúa en el n. 3.</em></strong></li>\n",
       "<li><strong>Si no eres usuario </strong>(con nombre y contraseña de acceso): deberás iniciar el proceso de crear una cuenta validando un email, que te identificará a partir de ese momento con ese nombre de usuario (no se puede modificar). Si es este tu caso, haz clic en el enlace siguiente:</li>\n",
       "</ol>\n",
       "<h3 style=\"text-align: center;\"><span style=\"color: #3366ff;\"><strong><a href=\"https://aula.becat.online/DSMod/interfaz/control_validar_email/\" style=\"color: #3366ff;\" title=\"Alta\">DARME D</a></strong></span><span style=\"color: #3366ff;\"><strong><a href=\"https://aula.becat.online/DSMod/interfaz/control_validar_email/\" style=\"color: #3366ff;\" title=\"Alta\">E ALTA</a> &gt;</strong></span></h3>\n",
       "<ol start=\"3\">\n",
       "<li style=\"text-align: left;\"><span><span>Cuando tengas esa cuenta (disp</span></span><span>ongas de un </span><strong>nombre de usuario</strong><span> y </span><strong>contraseña</strong><span> para acceder), la inscripción en un curso se realiza en el <span style=\"color: #ff0000;\">“Área personal” &gt; “Convocatorias disponibles”</span>. </span><em>Ver imagen inferior</em><span>.</span></li>\n",
       "</ol>\n",
       "<p><span>Uno se matricula en convocatorias </span><span>de cursos que no haya realizado, lógicamente. <strong>Sólo estarán disponibles una o dos convocatorias</strong> (para el mes o los dos meses siguientes). <strong><em>No es posible matricularse en todos los cursos a la vez.</em></strong></span></p>\n",
       "<p><img alt=\"Convocatoria\" class=\"wp-image-18701 alignnone size-large\" decoding=\"async\" fetchpriority=\"high\" height=\"872\" sizes=\"(min-width: 0px) and (max-width: 480px) 480px, (min-width: 481px) and (max-width: 980px) 980px, (min-width: 981px) 1024px, 100vw\" src=\"https://becat.online/wp-content/uploads/2023/09/Imagen1-1024x872.png\" srcset=\"https://becat.online/wp-content/uploads/2023/09/Imagen1-980x834.png 980w, https://becat.online/wp-content/uploads/2023/09/Imagen1-480x409.png 480w\" style=\"display: block; margin-left: auto; margin-right: auto;\" width=\"1024\"/></p></div>"
      ],
      "text/plain": [
       "<IPython.core.display.HTML object>"
      ]
     },
     "execution_count": 3,
     "metadata": {},
     "output_type": "execute_result"
    }
   ],
   "source": [
    "from src.api.common.dependency_container import DependencyContainer\n",
    "from IPython.display import HTML  \n",
    "\n",
    "DC = DependencyContainer(); DC.initialize()\n",
    "pregunta='Whatsapp, necesito asesor por whatsapp, dame el número'\n",
    "request = {'Pregunta': pregunta, 'FAQs': faqs + faqs_unir}\n",
    "response = DependencyContainer.get_schema_generator_workflow().execute(request)\n",
    "HTML(f\"<h2>{response['FAQ correspondiente']}</h2>\"+response['Contenido'])"
   ]
  }
 ],
 "metadata": {
  "kernelspec": {
   "display_name": ".venv",
   "language": "python",
   "name": "python3"
  },
  "language_info": {
   "codemirror_mode": {
    "name": "ipython",
    "version": 3
   },
   "file_extension": ".py",
   "mimetype": "text/x-python",
   "name": "python",
   "nbconvert_exporter": "python",
   "pygments_lexer": "ipython3",
   "version": "3.11.0"
  }
 },
 "nbformat": 4,
 "nbformat_minor": 2
}
