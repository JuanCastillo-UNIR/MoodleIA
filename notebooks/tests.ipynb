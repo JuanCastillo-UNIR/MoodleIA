{
 "cells": [
  {
   "cell_type": "code",
   "execution_count": 1,
   "metadata": {},
   "outputs": [],
   "source": [
    "import os\n",
    "os.chdir('..')"
   ]
  },
  {
   "cell_type": "code",
   "execution_count": 2,
   "metadata": {},
   "outputs": [],
   "source": [
    "from src.api.workflows.FAQs.extract_FAQs import obtener_faqs, obtener_faqs_unir\n",
    "faqs = obtener_faqs(); faqs_unir = obtener_faqs_unir()"
   ]
  },
  {
   "cell_type": "code",
   "execution_count": 3,
   "metadata": {},
   "outputs": [
    {
     "data": {
      "text/html": [
       "<h2>0. Olvidé mi contraseña</h2><div><p>El sistema más sencillo de recuperarla (es preciso configurarla de nuevo) es el que se muestra en la imagen:</p><p class=\"centrar\"><img alt=\"Contraseña perdida\" class=\"responsive\" src=\"https://becat.online/FAQ/img/perdida-pwd-1.jpg\"/></p><p>Recibirás un correo como el siguiente, que permitirá reconfigurar la contraseña:</p><p class=\"centrar\"><img alt=\"Contraseña perdida 2\" class=\"responsive\" src=\"https://becat.online/FAQ/img/perdida-pwd-2.jpg\"/></p></div>"
      ],
      "text/plain": [
       "<IPython.core.display.HTML object>"
      ]
     },
     "execution_count": 3,
     "metadata": {},
     "output_type": "execute_result"
    }
   ],
   "source": [
    "from src.api.common.dependency_container import DependencyContainer\n",
    "from IPython.display import HTML  \n",
    "\n",
    "DC = DependencyContainer(); DC.initialize()\n",
    "pregunta='Cambié mi contraseña y no me acuerdo cuál era. ¿qué hago?'\n",
    "request = {'Pregunta': pregunta, 'FAQs': faqs + faqs_unir}\n",
    "response = DependencyContainer.get_schema_generator_workflow().execute(request)\n",
    "HTML(response['Contenido'])"
   ]
  },
  {
   "cell_type": "code",
   "execution_count": null,
   "metadata": {},
   "outputs": [],
   "source": [
    "from src.api.workflows.FAQs.extract_FAQs import obtener_faqs  \n",
    "from dash import Dash, html, dcc, Input, Output  \n",
    "import dash_bootstrap_components as dbc  \n",
    "from src.api.common.dependency_container import DependencyContainer  \n",
    "import base64  \n",
    "  \n",
    "DC = DependencyContainer()  \n",
    "DC.initialize()  \n",
    "  \n",
    "app = Dash(__name__, external_stylesheets=[dbc.themes.BOOTSTRAP])  \n",
    "  \n",
    "app.layout = dbc.Container([  \n",
    "    dbc.Row([dbc.Col([html.H1(\"ChatBot Becat - FAQs\", className=\"text-center mb-4\")])]),  \n",
    "    dbc.Row([  \n",
    "        dbc.Col([  \n",
    "            dcc.Loading(  \n",
    "                id=\"loading\",  \n",
    "                type=\"default\",  \n",
    "                children=html.Div(id='chat_area')  \n",
    "            ),  \n",
    "            dcc.Input(id='user_input', type='text', placeholder='Escribe tu pregunta...', style={'width': '100%'}, debounce=True),  \n",
    "            dbc.Button('Enviar', id='send_button', n_clicks=0, className=\"btn btn-primary\")  \n",
    "        ], width=12)  \n",
    "    ])  \n",
    "], fluid=True)  \n",
    "  \n",
    "@app.callback(  \n",
    "    Output('chat_area', 'children'),  \n",
    "    Input('send_button', 'n_clicks'),  \n",
    "    Input('user_input', 'value'),  \n",
    "    prevent_initial_call=True  \n",
    ")  \n",
    "def update_chat(n_clicks, user_input):  \n",
    "    if user_input is None:  \n",
    "        return \"\"  \n",
    "    request = {'Pregunta': user_input, 'FAQs': obtener_faqs()}  \n",
    "    response = DependencyContainer.get_schema_generator_workflow().execute(request)  \n",
    "    encoded_content = base64.b64encode(response['Contenido'].encode('utf-8')).decode('utf-8')  \n",
    "    src = f\"data:text/html;base64,{encoded_content}\"  \n",
    "    return html.Iframe(src=src, style={'width': '100%', 'height': '500px', 'border': 'none'}, id='chat_iframe')  \n",
    "  \n",
    "if __name__ == '__main__':  \n",
    "    app.run_server(debug=True)  "
   ]
  }
 ],
 "metadata": {
  "kernelspec": {
   "display_name": ".venv",
   "language": "python",
   "name": "python3"
  },
  "language_info": {
   "codemirror_mode": {
    "name": "ipython",
    "version": 3
   },
   "file_extension": ".py",
   "mimetype": "text/x-python",
   "name": "python",
   "nbconvert_exporter": "python",
   "pygments_lexer": "ipython3",
   "version": "3.11.0"
  }
 },
 "nbformat": 4,
 "nbformat_minor": 2
}
