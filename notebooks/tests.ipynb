{
 "cells": [
  {
   "cell_type": "code",
   "execution_count": 1,
   "metadata": {},
   "outputs": [],
   "source": [
    "import os\n",
    "os.chdir('..')"
   ]
  },
  {
   "cell_type": "code",
   "execution_count": 2,
   "metadata": {},
   "outputs": [],
   "source": [
    "from src.api.workflows.FAQs.extract_FAQs import obtener_faqs, obtener_faqs_unir\n",
    "faqs = obtener_faqs(); faqs_unir = obtener_faqs_unir()"
   ]
  },
  {
   "cell_type": "code",
   "execution_count": 24,
   "metadata": {},
   "outputs": [
    {
     "data": {
      "text/plain": [
       "[{'FAQ': '4. No me ha llegado el certificado',\n",
       "  'Contenido': '<div><p>El certificado no se envía, así que es mejor no esperarlo. Hay que tener en cuenta:</p><ol>\\n<li>El certificado se descarga, pero sólo cuando se han terminado \"todos los módulos\" del curso. No hay un certificado por módulo.</li>\\n<li>Al acabar el último módulo, verás que tienes acceso a otro que solo se utiliza para realizar una encuesta y descargar el certificado.</li>\\n</ol></div>',\n",
       "  'Razonamiento': 'Esta FAQ es relevante ya que proporciona información sobre la descarga del certificado al finalizar los módulos del curso, lo cual es pertinente para la pregunta dada.',\n",
       "  'Score': '9'},\n",
       " {'FAQ': '3. He acabado el módulo y no me permite pasar al siguiente',\n",
       "  'Contenido': '<div><p>Cada vez que se finaliza una actividad, el sistema tarda un poco (un par de minutos) en actualizarse y reconocer el avance. Lo mismo ocurre con la finalización del módulo. Si han transcurrido unos minutos después de haberlo terminado todo y no se ha abierto el siguiente módulo, lo mejor es \"Cerrar sesión\" y volver a acceder a la plataforma.</p><br/><p>¿Y si el problema persiste? Si has finalizado todas las actividades (en el ejemplo de la imagen, 18 de 18), has cerrado la sesión y vuelto a acceder, y el problema persiste, ponte en contacto con <a href=\"https://becat.online/FAQ/mailto:becat@fundamentos.net\">becat@fundamentos.net</a></p></div>',\n",
       "  'Razonamiento': 'Aunque menciona la finalización de actividades y módulos, no está directamente relacionada con la pregunta dada.',\n",
       "  'Score': '3'},\n",
       " {'FAQ': '2. ¿Cuándo sabré que una actividad se considera finalizada?',\n",
       "  'Contenido': '<div><p>Cuando todas sus etiquetas estén marcadas en color verde.</p><p>Advierte que hay actividades que solo presentan el botón (o la etiqueta) de \"Marcar como hecha\" después de haber finalizado otra actividad. Es el caso siguiente:</p><p class=\"centrar\"><br/><img alt=\"Actividad no disponible\" class=\"responsive\" src=\"https://becat.online/FAQ/img/no-disponible.png\"/></p></div>',\n",
       "  'Razonamiento': 'Aunque menciona la finalización de actividades, no está directamente relacionada con la pregunta dada.',\n",
       "  'Score': '2'}]"
      ]
     },
     "execution_count": 24,
     "metadata": {},
     "output_type": "execute_result"
    }
   ],
   "source": [
    "from src.api.common.dependency_container import DependencyContainer\n",
    "from urllib.parse import quote  \n",
    "\n",
    "DC = DependencyContainer(); DC.initialize()\n",
    "pregunta = '[Ya terminé el curso anterior. No aparece mi certificado. Qué hago?'\n",
    "request = {'pregunta': pregunta, 'FAQs': faqs + faqs_unir}\n",
    "response = DependencyContainer.get_faqs_workflow().execute(request)\n",
    "faq = max(response['FAQs'], key=lambda x: float(x['Score']))  \n",
    "if float(faq['Score']) > 6: content = f\"<h2>{faq['FAQ']}</h2>{faq['Contenido']}\"  \n",
    "else: content = f'<h2>No encontramos ninguna FAQ relacionada a la pregunta. Dirígete al siguiente número de Whatsapp: <a href=\"https://web.whatsapp.com/send?phone=34689909323&text={quote(pregunta)}\">contacta con un asesor.</a></h2>'\n",
    "response['FAQs']"
   ]
  }
 ],
 "metadata": {
  "kernelspec": {
   "display_name": ".venv",
   "language": "python",
   "name": "python3"
  },
  "language_info": {
   "codemirror_mode": {
    "name": "ipython",
    "version": 3
   },
   "file_extension": ".py",
   "mimetype": "text/x-python",
   "name": "python",
   "nbconvert_exporter": "python",
   "pygments_lexer": "ipython3",
   "version": "3.11.6"
  }
 },
 "nbformat": 4,
 "nbformat_minor": 2
}
