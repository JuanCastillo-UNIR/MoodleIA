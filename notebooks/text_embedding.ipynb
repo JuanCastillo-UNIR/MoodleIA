{
  "cells": [
    {
      "cell_type": "code",
      "execution_count": 1,
      "metadata": {
        "id": "AQ-SvapB870W"
      },
      "outputs": [],
      "source": [
        "import openai\n",
        "from qdrant_client import QdrantClient\n",
        "from qdrant_client.http import models\n",
        "from langchain.schema import Document\n",
        "\n",
        "import os\n",
        "os.chdir('..') "
      ]
    },
    {
      "cell_type": "code",
      "execution_count": 2,
      "metadata": {},
      "outputs": [],
      "source": [
        "from src.api.workflows.FAQs.extract_FAQs import obtener_faqs, obtener_faqs_unir\n",
        "faqs = obtener_faqs(); faqs_unir = obtener_faqs_unir()"
      ]
    },
    {
      "cell_type": "code",
      "execution_count": 3,
      "metadata": {
        "colab": {
          "base_uri": "https://localhost:8080/",
          "height": 411
        },
        "id": "OV3YsLU39daW",
        "outputId": "5f055b14-84e7-47b8-884a-136cd4fb3ac1"
      },
      "outputs": [],
      "source": [
        "openai.api_key = 'sk-proj-y8IHH8cMe6HhmxBmiUvkT3BlbkFJiJ1iiNep9iwvIzYelqCS'\n",
        "\n",
        "def upload_vectors(collection_name, vectores_array, documents):\n",
        "    qdrant_client.recreate_collection(\n",
        "        collection_name=collection_name,\n",
        "        vectors_config=models.VectorParams(size=len(vectores_array[0]), distance=models.Distance.COSINE),\n",
        "    )\n",
        "    points = []\n",
        "    for idx, (vector, chunk) in enumerate(zip(vectores_array, documents)):\n",
        "        point = models.PointStruct(\n",
        "            id=idx,\n",
        "            vector=vector.tolist(),\n",
        "            payload={\"text\": chunk.page_content}\n",
        "          )\n",
        "        points.append(point)\n",
        "    qdrant_client.upsert(\n",
        "        collection_name=collection_name,\n",
        "        points=points\n",
        "    )\n",
        "\n",
        "def encode_text(text):\n",
        "    response = openai.Embedding.create(\n",
        "        model=\"text-embedding-3-large\",\n",
        "        input=text\n",
        "    )\n",
        "    return response['data'][0]['embedding']"
      ]
    },
    {
      "cell_type": "code",
      "execution_count": 4,
      "metadata": {},
      "outputs": [
        {
          "name": "stderr",
          "output_type": "stream",
          "text": [
            "C:\\Users\\juanmanuel.castillo\\AppData\\Local\\Temp\\ipykernel_7136\\237311899.py:4: DeprecationWarning: `recreate_collection` method is deprecated and will be removed in the future. Use `collection_exists` to check collection existence and `create_collection` instead.\n",
            "  qdrant_client.recreate_collection(\n"
          ]
        },
        {
          "name": "stdout",
          "output_type": "stream",
          "text": [
            "Vectores Len: 31\n"
          ]
        }
      ],
      "source": [
        "texts = faqs.split('<h2>')[1:]+faqs_unir.split('<h2>')[1:]\n",
        "qdrant_client = QdrantClient(\n",
        "    url=\"https://b8957c2b-a76c-464e-a03e-fc65ab126491.us-east4-0.gcp.cloud.qdrant.io\", \n",
        "    api_key=\"UJiDIyKcqEvrew0gcVY8PxhjwXEyEPiPjonv-Ab_jeaE7ir3-_p7DA\",\n",
        ")\n",
        "\n",
        "import numpy\n",
        "vectores = [encode_text(text) for text in texts]\n",
        "documents = [Document(page_content=text) for text in texts]\n",
        "upload_vectors('MoodleIA', numpy.array(vectores), documents)\n",
        "print(\"Vectores Len:\", len(vectores))"
      ]
    },
    {
      "cell_type": "code",
      "execution_count": 6,
      "metadata": {},
      "outputs": [
        {
          "data": {
            "text/plain": [
              "[ScoredPoint(id=13, version=0, score=0.49392346, payload={'text': '13. Cuando ingreso en la plataforma, no aparece mi curso</h2><div><p>Asegúrate de que bajas en la página de inicio hasta la sección \"Mis cursos\". Es en esa sección donde se encuentra el acceso. Si no, dilo a tu tutor. <em>Lo primero que deberá hacer el tutor es acceder con tu nombre de usuario y contraseña para comprobar que tu problema es real: suele ocurrir que se trata de un despiste.</em></p><p>Ejemplo típico: una persona acaba de escribir diciendo que no tiene acceso al curso sobre \"Educación afectivo-sexual\". Accedo con sus datos de usuario y veo esto (sí que tiene acceso):</p><br/><p class=\"centrar\"><img alt=\"Mis cursos\" class=\"responsive\" src=\"https://becat.online/FAQ/img/miscursos.png\"/> </p></div>'}, vector=None, shard_key=None),\n",
              " ScoredPoint(id=1, version=0, score=0.47508082, payload={'text': '1. No puedo acceder con mis datos de usuario</h2><div><p>Asegúrate en primer lugar que introduces bien los datos:</p><ul>\\n<li><strong>Nombre de usuario:</strong> tu correo electrónico. En el ejemplo es \"lidianarpaz@yahoo.com\": sería un error poner un espacio más \"lidianarpaz@yahoo.com \" al final, o en medio o empezar con mayúscula. </li>\\n<li><strong>Contraseña:</strong> si no fuiste tú quien eligió la contraseña, seguramente será la primera parte de tu correo electrónico, previa a la @. En el ejemplo es \"lidianarpaz\". Lo mismo: sería un error escribir un espacio más antes o después, o incluir una mayúscula. A veces es mejor copiar y pegar la contraseña. Si la contraseña la elegiste tú, sigue las mismas indicaciones en lo que se refiere a evitar espacios en blanco.</li>\\n</ul><p class=\"centrar\"><img alt=\"Datos de usuario\" class=\"responsive\" src=\"https://becat.online/FAQ/img/datos-usuario.png\"/></p><p>El acceso al curso está en la sección \"Mis cursos\", en la misma página de entrada:</p><p class=\"centrar\"><img alt=\"Mis cursos\" class=\"responsive\" src=\"https://becat.online/FAQ/img/miscursos-largo.png\"/></p><p>Si sigue sin funcionar, contacta con tu tutor o escribe al email: <a href=\"https://becat.online/FAQ/mailto:info@becat.online\" target=\"_blank\">info@becat.online</a>.</p></div>'}, vector=None, shard_key=None),\n",
              " ScoredPoint(id=18, version=0, score=0.47196984, payload={'text': '1. Crear una cuenta en la plataforma para cursos y títulos</h2><div><div class=\"et_pb_toggle_content clearfix\"><p>Tanto para matricularte en un curso como para aspirar a recibir un título (realizando todo el plan de estudios), es preciso haber creado una cuenta en la plataforma.</p>\\n<ol>\\n<li><strong>Si dispones de nombre de usuario y contraseña</strong>, ya eres usuario. <strong><em>Continúa en el n. 3.</em></strong></li>\\n<li><strong>Si no eres usuario </strong>(con nombre y contraseña de acceso): deberás iniciar el proceso de crear una cuenta validando un email, que te identificará a partir de ese momento con ese nombre de usuario (no se puede modificar). Si es este tu caso, haz clic en el enlace siguiente:</li>\\n</ol>\\n<h3 style=\"text-align: center;\"><span style=\"color: #3366ff;\"><strong><a href=\"https://aula.becat.online/DSMod/interfaz/control_validar_email/\" style=\"color: #3366ff;\" title=\"Alta\">DARME D</a></strong></span><span style=\"color: #3366ff;\"><strong><a href=\"https://aula.becat.online/DSMod/interfaz/control_validar_email/\" style=\"color: #3366ff;\" title=\"Alta\">E ALTA</a> &gt;</strong></span></h3>\\n<ol start=\"3\">\\n<li style=\"text-align: left;\"><span><span>Cuando tengas esa cuenta (disp</span></span><span>ongas de un </span><strong>nombre de usuario</strong><span> y </span><strong>contraseña</strong><span> para acceder), la inscripción en un curso se realiza en el <span style=\"color: #ff0000;\">“Área personal” &gt; “Convocatorias disponibles”</span>. </span><em>Ver imagen inferior</em><span>.</span></li>\\n</ol>\\n<p><span>Uno se matricula en convocatorias </span><span>de cursos que no haya realizado, lógicamente. <strong>Sólo estarán disponibles una o dos convocatorias</strong> (para el mes o los dos meses siguientes). <strong><em>No es posible matricularse en todos los cursos a la vez.</em></strong></span></p>\\n<p><img alt=\"Convocatoria\" class=\"wp-image-18701 alignnone size-large\" decoding=\"async\" fetchpriority=\"high\" height=\"872\" sizes=\"(min-width: 0px) and (max-width: 480px) 480px, (min-width: 481px) and (max-width: 980px) 980px, (min-width: 981px) 1024px, 100vw\" src=\"https://becat.online/wp-content/uploads/2023/09/Imagen1-1024x872.png\" srcset=\"https://becat.online/wp-content/uploads/2023/09/Imagen1-980x834.png 980w, https://becat.online/wp-content/uploads/2023/09/Imagen1-480x409.png 480w\" style=\"display: block; margin-left: auto; margin-right: auto;\" width=\"1024\"/></p></div></div>'}, vector=None, shard_key=None)]"
            ]
          },
          "execution_count": 6,
          "metadata": {},
          "output_type": "execute_result"
        }
      ],
      "source": [
        "query='Buenas tardes don Antonio soy Lugdy Ropero dé Ocaña norte de Santander Colombia. Lo que pasa es que desde que empezaron los cursos he querido realizarlos pero no me he podido registrar en la plataforma.'\n",
        "search_result = qdrant_client.search(\n",
        "    collection_name='MoodleIA',\n",
        "    query_vector=encode_text(query),\n",
        "    limit=3\n",
        ")\n",
        "search_result"
      ]
    }
  ],
  "metadata": {
    "colab": {
      "provenance": []
    },
    "kernelspec": {
      "display_name": "Python 3",
      "name": "python3"
    },
    "language_info": {
      "codemirror_mode": {
        "name": "ipython",
        "version": 3
      },
      "file_extension": ".py",
      "mimetype": "text/x-python",
      "name": "python",
      "nbconvert_exporter": "python",
      "pygments_lexer": "ipython3",
      "version": "3.11.6"
    }
  },
  "nbformat": 4,
  "nbformat_minor": 0
}
